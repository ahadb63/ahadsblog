{
 "cells": [
  {
   "attachments": {},
   "cell_type": "markdown",
   "metadata": {},
   "source": [
    "\n",
    "# 5.3 and 5.4 Notes\n",
    "\n",
    "\n",
    "- toc: true \n",
    "- badges: true\n",
    "- comments: true\n",
    "- categories: [CBQ]"
   ]
  },
  {
   "attachments": {},
   "cell_type": "markdown",
   "metadata": {},
   "source": [
    "### Facebook vs TikTok\n",
    "- The biggest demographic of users on facebook (23.7%) is people age 25-34\n",
    "- The biggest demographic of user on TikTok (32.5%) is people age 10-19\n",
    "### Is there descrimination and should it be corrected?\n",
    "- I dont think there is any discrimination. One app is older than the other therefor has older users and TikTok is a newer app so it attracts younger people. Both Facebook and Tiktok both know there demographics and they use this to their advantage. TikTok shows content that appeals to younger generation and facebook shoes content that appeals to older generations.\n",
    "- I dont think this shoukd be corrected becuase there is no discrimination. It is just that one app tends to attract newer generations\n",
    "- This method od uses your demographic to your advantage is good business.\n",
    "### Why do virtual assistants have female voices?\n",
    "- "
   ]
  },
  {
   "cell_type": "markdown",
   "metadata": {},
   "source": []
  },
  {
   "cell_type": "code",
   "execution_count": null,
   "metadata": {},
   "outputs": [],
   "source": []
  }
 ],
 "metadata": {
  "kernelspec": {
   "display_name": "base",
   "language": "python",
   "name": "python3"
  },
  "language_info": {
   "name": "python",
   "version": "3.9.12 (main, Apr  5 2022, 06:56:58) \n[GCC 7.5.0]"
  },
  "orig_nbformat": 4,
  "vscode": {
   "interpreter": {
    "hash": "ffbc78dc5ed357358f9061e93273b418d0a5d8c7f8a463c0e2f989d33fa7039d"
   }
  }
 },
 "nbformat": 4,
 "nbformat_minor": 2
}
