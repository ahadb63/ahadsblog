{
 "cells": [
  {
   "attachments": {},
   "cell_type": "markdown",
   "metadata": {},
   "source": [
    "\n",
    "# 5.3 and 5.4 Notes\n",
    "\n",
    "\n",
    "- toc: true \n",
    "- badges: true\n",
    "- comments: true\n",
    "- categories: [CBQ]"
   ]
  },
  {
   "attachments": {},
   "cell_type": "markdown",
   "metadata": {},
   "source": [
    "## 5.3"
   ]
  },
  {
   "attachments": {},
   "cell_type": "markdown",
   "metadata": {},
   "source": [
    "### Facebook vs TikTok\n",
    "- The biggest demographic of users on facebook (23.7%) is people age 25-34\n",
    "- The biggest demographic of user on TikTok (32.5%) is people age 10-19\n",
    "### Is there descrimination and should it be corrected?\n",
    "- I dont think there is any discrimination. One app is older than the other therefor has older users and TikTok is a newer app so it attracts younger people. Both Facebook and Tiktok both know there demographics and they use this to their advantage. TikTok shows content that appeals to younger generation and facebook shoes content that appeals to older generations.\n",
    "- I dont think this shoukd be corrected becuase there is no discrimination. It is just that one app tends to attract newer generations\n",
    "- This method od uses your demographic to your advantage is good business.\n",
    "### Why do virtual assistants have female voices?\n",
    "- more attracting\n",
    "- less deep\n",
    "- more inviting\n",
    "- calmer\n",
    "### Hp computers are racist\n",
    "- I think the video was pretty funny and the dude wasnt being a karen about it.\n",
    "- He jokes about it being intentional but obviously he knows HP didnt program their computers to be racist\n",
    "- I think it wasnt harmful here but in other situations or with other people, some people might take serious offense and it can become a harmful issue.\n",
    "- This kind of issue should be recognized and fixed immediantly \n",
    "\n",
    "### Summary\n",
    "I think computer bias is an intresting topic that I never really thought about or looked into before today. Learning about computer bias brings out the emphasis on things like debugging and teamwork. Specifically having a team with lots of different people. Different people allow for different ideas to be shared and used. I also find it interesting how big companies like apple or tiktok use computer bias everyday to attract more people on to thier platfroms. Thinking about computer bias also leads to questions about the future. With new things like ChatGPT, the threat of computer bias increases. What will be the result if AI like chatgpt started to become really bias."
   ]
  },
  {
   "attachments": {},
   "cell_type": "markdown",
   "metadata": {},
   "source": [
    "# 5.4"
   ]
  },
  {
   "attachments": {},
   "cell_type": "markdown",
   "metadata": {},
   "source": [
    "### Crowdsourcing\n",
    "\n",
    "- Many websites and companies like Wikipedia use crowdsourcing\n",
    "- Crowdsourcing: The practice of obtaining information or input into a task or project by enlisting the services of a large number of people, either paid or unpaid, typically via the internet.\n",
    "- We have used crowdsorucing here in the form of API's\n",
    "- covid data is easy to recognize areas that are contributing and not contributing. This data has impacted all our lives and decision we make on attending public events, flying on planes, or wearing masks. The community of data and analysts will spawn many new ways of thinking about data that impacts lives.\n",
    "\n",
    "### Hacks\n",
    "- We could use crowdsourcing in our own project.\n",
    "    - gathering game-specific data\n",
    "    - Using gathered data we could update our games\n",
    "    - we could gather feedback on the website\n",
    "    - use feedback to update site\n",
    "- We could gather input/feedback/data from past or current CS students to improve the class and the classroom.\n",
    "- during N@TM we could gather feedback and/or ratings for each game then present it on the site."
   ]
  }
 ],
 "metadata": {
  "kernelspec": {
   "display_name": "base",
   "language": "python",
   "name": "python3"
  },
  "language_info": {
   "name": "python",
   "version": "3.9.12"
  },
  "orig_nbformat": 4,
  "vscode": {
   "interpreter": {
    "hash": "ffbc78dc5ed357358f9061e93273b418d0a5d8c7f8a463c0e2f989d33fa7039d"
   }
  }
 },
 "nbformat": 4,
 "nbformat_minor": 2
}
