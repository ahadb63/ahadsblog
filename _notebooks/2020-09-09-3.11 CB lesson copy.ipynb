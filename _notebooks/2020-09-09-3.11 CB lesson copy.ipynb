{
 "cells": [
  {
   "cell_type": "markdown",
   "metadata": {},
   "source": [
    "# Binary Search Lesson 3.11\n",
    "\n",
    "\n",
    "- toc: true \n",
    "- badges: true\n",
    "- comments: true\n",
    "- categories: [binary]\n"
   ]
  },
  {
   "cell_type": "markdown",
   "metadata": {},
   "source": [
    "# Lesson 3.11 Binary Search\n",
    "\n",
    "Goals/Objectives:\n",
    "- detirmine number of iterations required to find vlue in data set.\n",
    "- explain requirements for binary search\n",
    "\n",
    "\n",
    "What is Binary Search?\n",
    "- Binary search is a search algorithm that finds the position of a target value within a sorted array. Binary search compares the target value to the middle element of the array. \n",
    "- An algorithm for iterating to find a value inside a data set\n",
    "\n",
    "About Binary Search:\n",
    "- Binary Search Algorithm starts in the middle of a data set of numbers and eliminates half the data. This process reapeats until the desired value is found or until all elements have been eliminated.\n",
    "- In order to use binary search effectivly and properly, data must be stored in order\n",
    "- COLLEGE BOARD INDEX STARTS AT 1 NOT 0"
   ]
  },
  {
   "cell_type": "markdown",
   "metadata": {},
   "source": [
    "Think about how you would you would try to find a certain number in this set.\n",
    "\n",
    "\n",
    "\n",
    "\n",
    "One way would be to line up the numbers and count them individually untill you find the desired value.\n",
    "\n",
    "When working with large data sets with lots of numbers, methods like these wont work\n",
    "- Instead, a Binary Search would be more effective.\n",
    "\n",
    "\n",
    "\n",
    "Here we can see the numbers are set in an increasing order. Setting numbers in an increasing or decreasing is needed for a binary search\n",
    "- Binary search is started with the middle number first\n",
    "    - Middle number is found by taking the higest index number plus the lowest and divided by two\n",
    "- Binary Search can be represented using a tree as shown below\n",
    "\n",
    "\n",
    "\n"
   ]
  },
  {
   "cell_type": "markdown",
   "metadata": {},
   "source": [
    "Heres an easy way to put it:\n",
    "- binary search fidns the desired element by continuously chopping the search area in half\n",
    "- say the element you are looking for is 'f'\n",
    "\n",
    "[a b c d e f g h]\n",
    "\n",
    " - We would start in the middle at element 'd'\n",
    " - becuase our target is greater than d we will eliminate everything left of 'd' including 'd' (chopping it in half)\n",
    "\n",
    " [e f g h] is what now remains\n",
    "  - again we would 'chop in half'\n",
    "  - say we iterate through 'g' and 'h', our desired element is still not found so we would eliminate 'g; and 'h' and continue the process\n",
    "\n",
    "  [e f]\n",
    "  - now we are down to 2 elements\n",
    "  - 'chopping in half' will give us our desired element\n",
    "  \n",
    "  [f]"
   ]
  },
  {
   "cell_type": "code",
   "execution_count": 2,
   "metadata": {},
   "outputs": [
    {
     "name": "stdout",
     "output_type": "stream",
     "text": [
      "Element is present at index 1\n"
     ]
    }
   ],
   "source": [
    "# Binary Search in python\n",
    "\n",
    "\n",
    "def binarySearch(array, x, low, high):\n",
    "\n",
    "    # Repeat until the pointers low and high meet each other\n",
    "    while low <= high:\n",
    "\n",
    "        mid = low + (high - low)//2\n",
    "\n",
    "        if array[mid] == x:\n",
    "            return mid\n",
    "\n",
    "        elif array[mid] < x:\n",
    "            low = mid + 1\n",
    "\n",
    "        else:\n",
    "            high = mid - 1\n",
    "\n",
    "    return -1\n",
    "\n",
    "\n",
    "array = [3, 4, 5, 6, 7, 8, 9]\n",
    "x = 4\n",
    "\n",
    "result = binarySearch(array, x, 0, len(array)-1)\n",
    "\n",
    "if result != -1:\n",
    "    print(\"Element is present at index \" + str(result))\n",
    "else:\n",
    "    print(\"Not found\")"
   ]
  },
  {
   "cell_type": "markdown",
   "metadata": {},
   "source": [
    "# Hacks\n",
    "\n",
    "Using my example above and steps below, create your own iteration using binary search\n",
    "\n",
    "\n",
    "Steps\n",
    "\n",
    "- Compare x with the middle element.\n",
    "- If x matches with the middle element, we return the mid index.\n",
    "- Else if x is greater than the mid element, then x can only lie in the right (greater) half subarray after the mid element. Then we apply the algorithm again for the right half.\n",
    "- Else if x is smaller, the target x must lie in the left (lower) half. So we apply the algorithm for the left half."
   ]
  }
 ],
 "metadata": {
  "kernelspec": {
   "display_name": "Python 3.9.12 ('base')",
   "language": "python",
   "name": "python3"
  },
  "language_info": {
   "codemirror_mode": {
    "name": "ipython",
    "version": 3
   },
   "file_extension": ".py",
   "mimetype": "text/x-python",
   "name": "python",
   "nbconvert_exporter": "python",
   "pygments_lexer": "ipython3",
   "version": "3.9.12"
  },
  "orig_nbformat": 4,
  "vscode": {
   "interpreter": {
    "hash": "ffbc78dc5ed357358f9061e93273b418d0a5d8c7f8a463c0e2f989d33fa7039d"
   }
  }
 },
 "nbformat": 4,
 "nbformat_minor": 2
}
