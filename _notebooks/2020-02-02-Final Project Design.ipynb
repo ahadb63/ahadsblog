{
 "cells": [
  {
   "cell_type": "markdown",
   "metadata": {},
   "source": [
    "# Final Project Design\n",
    "> My groups final product\n",
    "\n",
    "- toc: true \n",
    "- badges: true\n",
    "- comments: true\n",
    "- categories: [final, project]\n"
   ]
  },
  {
   "cell_type": "markdown",
   "metadata": {},
   "source": [
    "## Roles\n",
    "- ahad - devops\n",
    "- sabine - frontend\n",
    "- dash - backend\n",
    "- aiden - scrum master"
   ]
  },
  {
   "cell_type": "markdown",
   "metadata": {},
   "source": [
    "### Our Project\n",
    "Our project is a website where there will be ltos of minigames to play\n",
    "Minigames will be divided by category\n",
    "  -  Ex: Board games, Math games, Puzzle games\n"
   ]
  },
  {
   "cell_type": "markdown",
   "metadata": {},
   "source": [
    "### What games are we making?\n",
    "- ahad - NA\n",
    "- sabine - NA\n",
    "- dash- blackjack and mario\n",
    "- aiden - tetris"
   ]
  }
 ],
 "metadata": {
  "kernelspec": {
   "display_name": "Python 3.9.12 ('base')",
   "language": "python",
   "name": "python3"
  },
  "language_info": {
   "name": "python",
   "version": "3.9.12"
  },
  "orig_nbformat": 4,
  "vscode": {
   "interpreter": {
    "hash": "ffbc78dc5ed357358f9061e93273b418d0a5d8c7f8a463c0e2f989d33fa7039d"
   }
  }
 },
 "nbformat": 4,
 "nbformat_minor": 2
}
