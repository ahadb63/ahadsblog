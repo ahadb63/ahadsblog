{
 "cells": [
  {
   "cell_type": "markdown",
   "metadata": {},
   "source": [
    "# Notes\n",
    "\n",
    "\n",
    "- toc: true \n",
    "- badges: true\n",
    "- comments: true\n",
    "- categories: [notes 11/28/22, 3.1, 3.2]\n"
   ]
  },
  {
   "cell_type": "markdown",
   "metadata": {},
   "source": [
    "Variables\n",
    "- Using meaningful variable names help with readability and help keep stuff organized\n",
    "- be concisive with variables and thier names\n",
    "\n",
    "Integer\n",
    "- numbers\n",
    "\n",
    "text/string\n",
    "- words phrases\n",
    "\n",
    "Boolean\n",
    "- True or False\n",
    "\n",
    "List of data can be stored in variable\n",
    "- easily remove/add/change items into the list \n",
    "- print/retrieve specific values in the list without creating a lot of variables\n",
    "- help reduce need for new variables, simplifying the complexity\n",
    "\n",
    "Assignments\n",
    "- assignment operator allows a program to change the value represented by a variable.\n",
    "- assigns values to variables\n",
    "- Different operators lile =, +=, /=, *=, etc are used to change value of a variable\n",
    "\n",
    "Data Abstraction \n",
    "- Method used in coding to represent data in a useful form, by taking away aspects of data that aren't being used in the situation\n",
    "- Variables and lists are primary tools in data abstraction\n",
    "- data abstractions help manage complexity in  programs by giving a collection of data a name without refernecing the specific detailsof the representation.\n",
    "\n",
    "Lists and Strings\n",
    "- list -> ordered sequence of elements\n",
    "- Element -> individual value in a list that is assigned to a unique index\n",
    "- Index ->  a way to reference the elements in a list or string using natural numbers; each element of a string is referenced by an index\n",
    "- String -> ordered sequence of charachters (letters, numbers, special charachters.)\n",
    "\n",
    "Lists\n",
    "- allow data abstraction\n",
    "- bundles variables togther\n",
    "- can keep adding elements\n",
    "- can store elemetns as a single variable by using a list\n",
    "\n",
    "\n",
    "\n"
   ]
  },
  {
   "cell_type": "code",
   "execution_count": 4,
   "metadata": {},
   "outputs": [
    {
     "ename": "SyntaxError",
     "evalue": "invalid syntax (3379059607.py, line 11)",
     "output_type": "error",
     "traceback": [
      "\u001b[0;36m  Input \u001b[0;32mIn [4]\u001b[0;36m\u001b[0m\n\u001b[0;31m    hrm quesCount <= quesAmount:\u001b[0m\n\u001b[0m        ^\u001b[0m\n\u001b[0;31mSyntaxError\u001b[0m\u001b[0;31m:\u001b[0m invalid syntax\n"
     ]
    }
   ],
   "source": [
    "quesCount = 0\n",
    "\n",
    "# Use a dictionary for the questions\n",
    "quesList = [\"Question1\", \"Question2\", \"Question3\", \"Question4\"]\n",
    "\n",
    "# Use a dictionary for the correct solutions\n",
    "soluList = [\"Solution1\", \"Solution2\", \"Solution3\", \"Solution4\"]\n",
    "\n",
    "quesAmount= len(quesList)\n",
    "\n",
    "hrm quesCount <= quesAmount:\n",
    "    print(quesList[quescount] + \"\\n\")\n",
    "    guess = input()\n",
    "    if(guess == soluList[quesamOOuaunt]):\n",
    "        score+=1\n",
    "        print(\"Correct! Score: \")\n",
    "    else: \n",
    "        print(\"Incorrect! The correct answer was \" + soluList(quescount) + \"\\n\")\n",
    "    quesCount += 1\n",
    "\n",
    "\n",
    "\n",
    "\n",
    "print(\"Final score: \" + str(score))"
   ]
  },
  {
   "cell_type": "code",
   "execution_count": 5,
   "metadata": {},
   "outputs": [
    {
     "name": "stdout",
     "output_type": "stream",
     "text": [
      "['green', 'red', 'Blue']\n"
     ]
    }
   ],
   "source": [
    "colorList=[\"green\", \"red\", \"Blue\"]\n",
    "colorlist2=[]\n",
    "    \n",
    "\n",
    "print(str(colorList))\n"
   ]
  }
 ],
 "metadata": {
  "kernelspec": {
   "display_name": "Python 3.9.12 ('base')",
   "language": "python",
   "name": "python3"
  },
  "language_info": {
   "codemirror_mode": {
    "name": "ipython",
    "version": 3
   },
   "file_extension": ".py",
   "mimetype": "text/x-python",
   "name": "python",
   "nbconvert_exporter": "python",
   "pygments_lexer": "ipython3",
   "version": "3.9.12"
  },
  "orig_nbformat": 4,
  "vscode": {
   "interpreter": {
    "hash": "ffbc78dc5ed357358f9061e93273b418d0a5d8c7f8a463c0e2f989d33fa7039d"
   }
  }
 },
 "nbformat": 4,
 "nbformat_minor": 2
}
