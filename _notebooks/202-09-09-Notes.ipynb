{
 "cells": [
  {
   "cell_type": "markdown",
   "metadata": {},
   "source": [
    "# Notes Week 14\n",
    "\n",
    "\n",
    "- toc: true \n",
    "- badges: true\n",
    "- comments: true\n",
    "- categories: [notes 11/28/22, 3.1, 3.2]\n"
   ]
  },
  {
   "cell_type": "markdown",
   "metadata": {},
   "source": [
    "# 3.1 and 3.2\n",
    "\n",
    "Variables\n",
    "- Using meaningful variable names help with readability and help keep stuff organized\n",
    "- be concisive with variables and thier names\n",
    "\n",
    "Integer\n",
    "- numbers\n",
    "\n",
    "text/string\n",
    "- words phrases\n",
    "\n",
    "Boolean\n",
    "- True or False\n",
    "\n",
    "List of data can be stored in variable\n",
    "- easily remove/add/change items into the list \n",
    "- print/retrieve specific values in the list without creating a lot of variables\n",
    "- help reduce need for new variables, simplifying the complexity\n",
    "\n",
    "Assignments\n",
    "- assignment operator allows a program to change the value represented by a variable.\n",
    "- assigns values to variables\n",
    "- Different operators lile =, +=, /=, *=, etc are used to change value of a variable\n",
    "\n",
    "Data Abstraction \n",
    "- Method used in coding to represent data in a useful form, by taking away aspects of data that aren't being used in the situation\n",
    "- Variables and lists are primary tools in data abstraction\n",
    "- data abstractions help manage complexity in  programs by giving a collection of data a name without refernecing the specific detailsof the representation.\n",
    "\n",
    "Lists and Strings\n",
    "- list -> ordered sequence of elements\n",
    "- Element -> individual value in a list that is assigned to a unique index\n",
    "- Index ->  a way to reference the elements in a list or string using natural numbers; each element of a string is referenced by an index\n",
    "- String -> ordered sequence of charachters (letters, numbers, special charachters.)\n",
    "\n",
    "Lists\n",
    "- allow data abstraction\n",
    "- bundles variables togther\n",
    "- can keep adding elements\n",
    "- can store elemetns as a single variable by using a list\n",
    "\n",
    "\n",
    "\n"
   ]
  },
  {
   "cell_type": "code",
   "execution_count": null,
   "metadata": {},
   "outputs": [],
   "source": [
    "QuestionsandAnswers= {\n",
    "    \"#1 | What is the operator that displays only true or false?\": \"boolean\", \n",
    "    \"#2 | What lessons were taught by students this week?\": \"3.1-3.4\", \n",
    "    \"#3 | Who is the best teacher?\": \"mr.mort\", \n",
    "    \"#4 | Why are variables important?\": \"meaningful variable names help with readability and help keep stuff organized\", \n",
    "    \"#5 | What is a list in coding?\": \"ordered sequence of elements\", \n",
    "}\n",
    "def QuestionandResponse(Question): # display the question then return a response\n",
    "    print(Question)\n",
    "    Response = input()\n",
    "    return Response\n",
    "Correct = 0 \n",
    "\n",
    "# Setting up the start of the quiz\n",
    "print(\"Number of questions: \" + str(len(QuestionsandAnswers)))\n",
    "\n",
    "# Looks through code till desired answer\n",
    "for key in QuestionsandAnswers:\n",
    "    rsp = QuestionandResponse(key)  #answer input is saved to a variable\n",
    "    rsp = rsp.lower() # answer is case sensitive, so match response to lowercase for answer key to work\n",
    "    if rsp == QuestionsandAnswers[key]: # checks if answer is correct accoring to Questions and answers variale defined at the top.\n",
    "        print(f\"Correct! --> {rsp}\")    \n",
    "        correct += 1\n",
    "    else:                           # if else statement to print either correct or incorrect\n",
    "        print(f\"{rsp} is super wrong\") \n",
    "\n",
    "percent = str(round(correct/len(QandA), 2)*100) # calculate percentage\n",
    "\n",
    "print(\"You scored \" + str(correct) +\"/\" + str(len(QandA)))\n",
    "print(f\"This is {percent}%\") # print score and percentage"
   ]
  },
  {
   "cell_type": "code",
   "execution_count": 3,
   "metadata": {},
   "outputs": [],
   "source": [
    "QuestionsandAnswers= {\n",
    "    \"#1 | What is the operator that displays only true or false?\": \"boolean\", \n",
    "    \"#2 | What lessons were taught by students this week?\": \"3.1-3.4\", \n",
    "    \"#3 | Who is the best teacher?\": \"mr.mort\", \n",
    "    \"#4 | Why are variables important?\": \"meaningful variable names help with readability and help keep stuff organized\", \n",
    "    \"#5 | What is a list in coding?\": \"ordered sequence of elements\", \n",
    "}\n",
    "def QuestionandResponse(Question): # display the question then return a response\n",
    "    print(Question)\n",
    "    Response = input()\n",
    "    return Response\n",
    "Correct = 0 \n",
    "\n",
    "# Setting up the start of the quiz\n",
    "print(\"Number of questions: \" + str(len(QuestionsandAnswers)))\n",
    "\n",
    "# Looks through code till desired answer\n",
    "for key in QuestionsandAnswers:\n",
    "    rsp = QuestionandResponse(key)  #answer input is saved to a variable\n",
    "    # answer is case sensitive, so match response to lowercase for answer key to work\n",
    "    if rsp == QuestionsandAnswers[key]: # checks if answer is correct accoring to Questions and answers variale defined at the top.\n",
    "        print(f\"Correct! --> {rsp}\")    \n",
    "        correct += 1\n",
    "    else:                           # if else statement to print either correct or incorrect\n",
    "        print(f\"{rsp} is super wrong\") \n",
    "\n",
    "print(\"You scored \" + str(correct) +\"/\" + str(len(QuestionsandAnswers)))\n"
   ]
  },
  {
   "cell_type": "code",
   "execution_count": null,
   "metadata": {},
   "outputs": [],
   "source": [
    "colorList=[\"green\", \"red\", \"Blue\"]\n",
    "colorlist2=[]\n",
    "    \n",
    "\n",
    "print(str(colorList))\n"
   ]
  },
  {
   "cell_type": "markdown",
   "metadata": {},
   "source": [
    "# 3.3 and 3.4\n",
    "\n",
    "Algorithms can be represeted in different ways\n",
    "- flow charts\n",
    "\n",
    "strings\n",
    "- len() finds length\n",
    "- lower() converts to lowercase\n",
    "- concat() returns a string made up of the concatenated strings ex. concat(\"string1\", \"string2\") would return string1string2\n",
    "- substring() returns the characters from the string beginning at the at the first position to the last so an example of this would be substring (\"abcdefghijk\", 2, 5) would print bcde (pseudocode starts at 1)"
   ]
  },
  {
   "cell_type": "markdown",
   "metadata": {},
   "source": [
    "# 3.3 and 3.4 hacks\n",
    " \n",
    "Variable hacks\n",
    "- Problem 1 : 23.91\n",
    "- Problem 2 : 1.25\n",
    "- Problem 3 : 17\n",
    "- Problem 4 : straightbrownshort\n",
    "\n",
    "\n"
   ]
  },
  {
   "cell_type": "code",
   "execution_count": null,
   "metadata": {},
   "outputs": [],
   "source": [
    "Num1 = 50\n",
    "Num2 = Num1 % 9 + 15 # 50 / 9  +15 = 20.5\n",
    "Num3 = Num2 / Num1 + ( Num2 * 2 ) #  20.5/50 + (20.5 x 2) = 44.41\n",
    "Num4 = Num3 + Num1 / 5 - 10 # 44.41+50/5 -10\n",
    "Result = Num4 - Num2\n",
    "\n",
    "RESULT = 23.91\n",
    "\n"
   ]
  },
  {
   "cell_type": "code",
   "execution_count": null,
   "metadata": {},
   "outputs": [],
   "source": [
    "Num1 = 10\n",
    "Num2 = Num1 % 3 * 4 #10/12 or 0.83\n",
    "Num1 = Num2 # num 1 is now alos 0.83\n",
    "Num3 = Num1 * 3 # num 3 is 2.5\n",
    "Result = Num3 % 2 #num 3 (2.5) becomes 1.25\n",
    "\n",
    "Result = 1.25"
   ]
  },
  {
   "cell_type": "code",
   "execution_count": null,
   "metadata": {},
   "outputs": [],
   "source": [
    "valueA = 4\n",
    "valueB = 90\n",
    "valueC = 17\n",
    "valueB = valueC - valueA # 17 - 4\n",
    "valueA = valueA * 10 # 4 x 10\n",
    "if valueB > 10: # b is bigger than 10\n",
    "    print(valueC) # c stays 17\n",
    "\n",
    "Result = 17"
   ]
  },
  {
   "cell_type": "code",
   "execution_count": null,
   "metadata": {},
   "outputs": [],
   "source": [
    "type = \"curly\"\n",
    "color = \"brown\"\n",
    "length = \"short\"\n",
    "type = \"straight\"\n",
    "hair = type + color + length # straight + brown + short\n",
    "print(hair)"
   ]
  },
  {
   "cell_type": "markdown",
   "metadata": {},
   "source": [
    "String hacks\n",
    "- Problem 1: \" Mr.Mortenson is very handsome.\n",
    "- Problem 2: \n",
    "\n"
   ]
  },
  {
   "cell_type": "code",
   "execution_count": null,
   "metadata": {},
   "outputs": [],
   "source": [
    "Noun = \"Mr.Mortenson\" \n",
    "Adjective = \"handsome\" \n",
    "Adjective2 = \"Very\" \n",
    "Verb = \"is\" \n",
    "abrev = subtring(Noun, 1, 7) \n",
    "yoda = concat(Adjective2, \" \", Adjective, \" \", abrev, \" \",Verb, \".\") \n",
    "display[yoda]"
   ]
  },
  {
   "cell_type": "code",
   "execution_count": null,
   "metadata": {},
   "outputs": [],
   "source": [
    "cookie = len(\"choclate\") # 8\n",
    "cookie2 = len(\"rasin\")  # 5\n",
    "len1 = cookie / 2 # 8/2 = 4\n",
    "len2 = cookie2 * 45  # 5 x 45 = 225\n",
    "vote1 = (cookie, \"vote\", len2)  # 8, vote, 225\n",
    "vote2 = (cookie2, \"vote\", len1) # 5, vote, 4\n",
    "votes = concat(vote1, \" \", vote2)  #8 vote 225 5 vote 4\n",
    "display[votes] # 225 vote chocolate, 4 vote rasin"
   ]
  },
  {
   "cell_type": "markdown",
   "metadata": {},
   "source": [
    "# 3.5 , 3.6 , 3.7 Notes and Problems\n",
    " \n",
    "- Boolean: data type with two possible values (true or false)\n",
    "- Selection(conditionals): uses a condition that evaluates to true or false\n",
    "    - Selection determines which part of an algorithm are executed based on a condition being true or false\n",
    "- Algorithm is a finite set of instructions that accomplish a specific task \n",
    "- Nested conditional statements consist of conditional statements within other conditional statements\n",
    "- "
   ]
  },
  {
   "cell_type": "code",
   "execution_count": null,
   "metadata": {},
   "outputs": [],
   "source": [
    "grade1 = 90\n",
    "grade2 = 65\n",
    "grade3 = 60\n",
    "grade4 = 75\n",
    "grade5 = 95\n",
    "\n",
    "GradeAverage = (90 + 65 + 75 + 60 + 95) / 5\n",
    "\n",
    "if GradeAverage > 80 :\n",
    "    print(GradeAverage)\n",
    "else :\n",
    "    print(\"no\")\n"
   ]
  },
  {
   "cell_type": "code",
   "execution_count": null,
   "metadata": {},
   "outputs": [],
   "source": [
    "print(\"100 == 100:\",100==100)\n",
    "print(\"Hello == Adios:\",\"greeting\"==\"farewell\")\n",
    "print(\"Hello != Adios:\",\"greeting\"!=\"farewell\")\n",
    "print(\"Hello == Hola:\",\"greeting\"==\"greeting\")\n",
    "print(\"5>=4:\", 5>=4)\n",
    "print ('')\n",
    "\n",
    "# Notice that relational operators can even work on lists!\n",
    "# For lists, the relational operator compares each respective component until an answer is derived\n",
    "\n",
    "print(\"['a','b','c'] > ['x','y','z']:\", ['a','b','c'] > ['x','y','z'])\n",
    "print(\"[1,2,3,5] > [1,2,3,4]:\", [1,2,3,5] > [1,2,3,4])\n",
    "print(\"[1,2,3,5] < [1,2,3,4]:\", [1,2,3,5] < [1,2,3,4])\n",
    "print(\"[1,2,3,5] == [1,2,3,4]:\", [1,2,3,5] == [1,2,3,4])"
   ]
  },
  {
   "cell_type": "code",
   "execution_count": null,
   "metadata": {},
   "outputs": [],
   "source": [
    "print(\"1 > 2 or 5 < 12:\",) \n",
    "# Output TRUE  using OR ^\n",
    "\n",
    "# Output FALSE using NOT\n",
    "print(\"24 > 8:\",) \n",
    "\n",
    "# Output FALSE using AND\n",
    "print(\"10 > 20:\", 10 > 20 and false)"
   ]
  },
  {
   "cell_type": "code",
   "execution_count": null,
   "metadata": {},
   "outputs": [],
   "source": [
    "x = 20\n",
    "y = 10\n",
    "if x > y:\n",
    "    print(\"x is greater than y\")\n",
    "else:\n",
    "    print(\"x is not greater than y\")"
   ]
  },
  {
   "cell_type": "code",
   "execution_count": null,
   "metadata": {},
   "outputs": [],
   "source": [
    "x = 2\n",
    "y = 10\n",
    "if x > y:\n",
    "    print(\"x is greater than y\")\n",
    "else:\n",
    "    print(\"x is not greater than y\")"
   ]
  },
  {
   "cell_type": "code",
   "execution_count": null,
   "metadata": {},
   "outputs": [],
   "source": [
    "num1 = 100\n",
    "num2 = 100\n",
    "sum = num1 + num2\n",
    "\n",
    "if sum >= 200:\n",
    "    print(\"200\")\n",
    "else:\n",
    "    print(sum)"
   ]
  },
  {
   "cell_type": "markdown",
   "metadata": {},
   "source": [
    " Analyzing Code Walkthrough\n"
   ]
  },
  {
   "cell_type": "code",
   "execution_count": null,
   "metadata": {
    "vscode": {
     "languageId": "javascript"
    }
   },
   "outputs": [],
   "source": [
    "score = 82\n",
    "if (score >= 90)\n",
    "{\n",
    "    console.log(\"You got an A, congrats!\")\n",
    "}\n",
    "else\n",
    "{\n",
    "    if (score >= 75)\n",
    "    {\n",
    "        console.log(\"Please come to retake up to a 90 next week at tutorial!\")\n",
    "    }\n",
    "    else\n",
    "    {\n",
    "        console.log(\"You have detention!\")\n",
    "    }\n",
    "} \n",
    "//will print 'Please come to retake up to a 90 next week at tutorial!' because score >= 75.\n",
    "\n",
    "//javascript dont work on python base kernel"
   ]
  },
  {
   "cell_type": "code",
   "execution_count": null,
   "metadata": {
    "vscode": {
     "languageId": "javascript"
    }
   },
   "outputs": [],
   "source": [
    "protein = 25\n",
    "carbs = 36\n",
    "sugar = 11\n",
    "if (carbs >= 55 || protein <= 20 || sugar >= 15)\n",
    "{\n",
    "    console.log(\"Your lunch is too unhealthy, please pick a new one\")\n",
    "}\n",
    "else\n",
    "{\n",
    "    if (carbs < 35 || protein < 25)\n",
    "    {\n",
    "    console.log (\"This lunch is alright but try to add some more carbs or protein\")\n",
    "    }\n",
    "    else \n",
    "    {\n",
    "    if (sugar >= 11)\n",
    "    {\n",
    "    console.log (\"Looks great but lets see if we can cut down on sugar, we don't want diabetes!\")\n",
    "    }\n",
    "    else\n",
    "    {\n",
    "        console.log (\"Amazing, you created a healthy lunch!!!\")\n",
    "    }\n",
    "    }\n",
    "}  // will print \"Looks great but lets see if we can cut down on sugar, we don't want diabetes!\"\n",
    "\n",
    "//javascript dont work on python base kernel"
   ]
  },
  {
   "cell_type": "markdown",
   "metadata": {},
   "source": [
    "Writing Nested Code Activity"
   ]
  },
  {
   "cell_type": "code",
   "execution_count": null,
   "metadata": {
    "vscode": {
     "languageId": "javascript"
    }
   },
   "outputs": [],
   "source": [
    "hours = 25\n",
    "\n",
    "if (hours <= 8)\n",
    "{\n",
    "    print(\"inexpierenced, 50k salary\")\n",
    "}\n",
    "else\n",
    "{\n",
    "    if (hours >= 10)\n",
    "    {\n",
    "    print(\"expierenced, 150k salary\")    \n",
    "    }\n",
    "    else\n",
    "    {\n",
    "    print(\"Expierenced, 90k salary\")    \n",
    "    }\n",
    "} //javascript dont work on python base kernel"
   ]
  }
 ],
 "metadata": {
  "kernelspec": {
   "display_name": "Python 3.9.12 ('base')",
   "language": "python",
   "name": "python3"
  },
  "language_info": {
   "codemirror_mode": {
    "name": "ipython",
    "version": 3
   },
   "file_extension": ".py",
   "mimetype": "text/x-python",
   "name": "python",
   "nbconvert_exporter": "python",
   "pygments_lexer": "ipython3",
   "version": "3.9.12"
  },
  "orig_nbformat": 4,
  "vscode": {
   "interpreter": {
    "hash": "ffbc78dc5ed357358f9061e93273b418d0a5d8c7f8a463c0e2f989d33fa7039d"
   }
  }
 },
 "nbformat": 4,
 "nbformat_minor": 2
}
