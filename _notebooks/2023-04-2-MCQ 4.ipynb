{
 "cells": [
  {
   "attachments": {},
   "cell_type": "markdown",
   "metadata": {},
   "source": [
    "#  MCQ score and corrections\n",
    "- toc: true\n",
    "- categories: [mcq]\n",
    "- type: pbl\n",
    "- week: 28"
   ]
  },
  {
   "attachments": {},
   "cell_type": "markdown",
   "metadata": {},
   "source": [
    "![](rssss.png)"
   ]
  },
  {
   "attachments": {},
   "cell_type": "markdown",
   "metadata": {},
   "source": [
    "Q15: Which of the following CANNOT be determined using only the information in the database?\n",
    "\n",
    "A --> A) This option is incorrect. The database can be filtered to identify the movies that match with each entry under the column titled Movie Title. Those rows can be compared to calculate the largest value of entries under the column titled Number of Times Purchased."
   ]
  }
 ],
 "metadata": {
  "language_info": {
   "name": "python"
  },
  "orig_nbformat": 4
 },
 "nbformat": 4,
 "nbformat_minor": 2
}
