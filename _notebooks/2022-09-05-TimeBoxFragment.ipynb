{
 "cells": [
  {
   "cell_type": "markdown",
   "metadata": {},
   "source": [
    "# Time Box Fragment\n",
    "- toc: true \n",
    "- badges: true\n",
    "- comments: true\n",
    "- categories: [weeklyprogress]"
   ]
  },
  {
   "cell_type": "markdown",
   "metadata": {},
   "source": [
    "\n",
    "<html>\n",
    "<style>\n",
    "    table, th, td {\n",
    "        border: 2 px white;\n",
    "    }\n",
    "</style>\n",
    "\n",
    "<table>\n",
    "   <tr>\n",
    "        <th>Week 0 </th>\n",
    "        <th>Week 1 </th>\n",
    "        <th>Week 2 </th>\n",
    "   </tr>\n",
    "   <tr>\n",
    "        <td><a href= \"https://ahadb63.github.io/ahadsblog/2022/08/29/firstjupyternotebook.html\">First Jupyter Notebook</td>\n",
    "        <td><a href = \"https://ahadb63.github.io/ahadsblog/2022/08/29/Bash-Tool-Check.html\">Tool Check</td>\n",
    "        <td><a href = \"https://ahadb63.github.io/ahadsblog/2022/09/05/list-and-dictionaries.html\"> Lists and Dictionaries</td>\n",
    "   </tr>\n",
    "   <tr>\n",
    "        <td><a href = \"https://ahadb63.github.io/ahadsblog/2022/08/24/mrkdwnpost.html\"> First Markdown Post</td>\n",
    "        <td><a href = \"https://ahadb63.github.io/ahadsblog/2022/08/30/QUIZ.html\">Quiz</td>\n",
    "   </tr>\n",
    "   <tr>\n",
    "        <td><a href = \"https://ahadb63.github.io/ahadsblog/about/\">About Me</td>\n",
    "        <td><a href=\"https://ahadb63.github.io/ahadsblog/Vocab/\">Vocab</td>\n",
    "        <td><a href = \"https://ahadb63.github.io/ahadsblog/2022/09/05/TimeBoxFragment.html\">Weekly Progress</td>\n",
    "   </tr>\n",
    "  \n",
    "</table>"
   ]
  }
 ],
 "metadata": {
  "kernelspec": {
   "display_name": "Bash",
   "language": "bash",
   "name": "bash"
  },
  "language_info": {
   "codemirror_mode": {
    "name": "ipython",
    "version": 3
   },
   "file_extension": ".py",
   "mimetype": "text/x-python",
   "name": "bash",
   "nbconvert_exporter": "python",
   "pygments_lexer": "ipython3",
   "version": "3.8.10"
  },
  "orig_nbformat": 4,
  "vscode": {
   "interpreter": {
    "hash": "916dbcbb3f70747c44a77c7bcd40155683ae19c65e1c03b4aa3499c5328201f1"
   }
  }
 },
 "nbformat": 4,
 "nbformat_minor": 2
}
