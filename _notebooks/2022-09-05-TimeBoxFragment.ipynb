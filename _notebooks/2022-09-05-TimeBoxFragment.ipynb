{
 "cells": [
  {
   "cell_type": "markdown",
   "metadata": {},
   "source": [
    "# **Time Box Fragment**"
   ]
  },
  {
   "cell_type": "markdown",
   "metadata": {},
   "source": [
    "## Time Box Fragment\n",
    "\n",
    "| Week 0 | Week 1 | Week 2 | Week 3 | \n",
    "|-|-|-|-|\n",
    "| Tool Setup | Data Abstraction | // | // |"
   ]
  }
 ],
 "metadata": {
  "language_info": {
   "name": "python"
  },
  "orig_nbformat": 4
 },
 "nbformat": 4,
 "nbformat_minor": 2
}
