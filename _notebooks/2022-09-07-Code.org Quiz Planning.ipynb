{
 "cells": [
  {
   "cell_type": "markdown",
   "metadata": {},
   "source": [
    "# Quiz Planning"
   ]
  },
  {
   "cell_type": "markdown",
   "metadata": {},
   "source": [
    "```\n",
    "# Quiz Planning\n",
    "\n",
    "\n",
    "- toc: true\n",
    "- badges: true\n",
    "- comments: true\n",
    "- categories: [Quiz, markdown]\n",
    "```"
   ]
  },
  {
   "cell_type": "markdown",
   "metadata": {},
   "source": [
    "\n",
    "## Ideas for Quiz\n",
    "- Geography\n",
    "    - loction of statues\n",
    "    - World Wonders\n",
    "- Sports\n",
    "    - Teams\n",
    "    - different sports\n",
    "    - players\n",
    "- History \n",
    "    - Historical figures\n",
    "    - Historcial events\n",
    "\n",
    "\n",
    "\n",
    "\n"
   ]
  },
  {
   "cell_type": "markdown",
   "metadata": {},
   "source": [
    "We chose Geography as the topic for our quiz\n",
    "\n",
    "Our Quiz will have three questions:\n",
    "- What country is the Eiffel Tower in?  Answer: France\n",
    "- What country are the Pyramids Located? Answer: Egypt\n",
    "- What country and city is the Statue of Liberty in? Answer: United States, New York City\n",
    "\n",
    "Other:\n",
    "- We chose to add a bonus question\n",
    "- Bonus question gives viewer chance to decline and end quiz or move forward and do bonus question.\n",
    "- We have a loser screen and a winner screen.\n",
    "\n",
    "\n",
    "[My Geography Quiz](https://studio.code.org/projects/applab/WQfkp-M54-aK2lbp7vxDRF6GfA7RUbdbcNGeNMNabIM/edit)"
   ]
  },
  {
   "cell_type": "markdown",
   "metadata": {},
   "source": [
    "# Ideas for final project\n",
    "- Website where you can find information on characters from movies, shows, manga, and anime\n",
    "- Website that has lots of minigames\n",
    "- Trivia game website \n",
    "- website that teaches you stuff about math\n",
    "\n",
    "All projects aboce would orgamize the information and data and present it in different sections.\n",
    "\n",
    "I need to add 6 points for each of the project ideas next time for full points on the weeks assignments"
   ]
  },
  {
   "cell_type": "markdown",
   "metadata": {},
   "source": [
    "# test"
   ]
  }
 ],
 "metadata": {
  "kernelspec": {
   "display_name": "Python 3.9.12 ('base')",
   "language": "python",
   "name": "python3"
  },
  "language_info": {
   "name": "python",
   "version": "3.9.12"
  },
  "orig_nbformat": 4,
  "vscode": {
   "interpreter": {
    "hash": "ffbc78dc5ed357358f9061e93273b418d0a5d8c7f8a463c0e2f989d33fa7039d"
   }
  }
 },
 "nbformat": 4,
 "nbformat_minor": 2
}
