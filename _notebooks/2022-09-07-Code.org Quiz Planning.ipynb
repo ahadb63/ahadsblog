{
 "cells": [
  {
   "cell_type": "markdown",
   "metadata": {},
   "source": [
    "# Quiz Planning"
   ]
  },
  {
   "cell_type": "markdown",
   "metadata": {},
   "source": [
    "```\n",
    "# Quiz Planning\n",
    "\n",
    "\n",
    "- toc: true\n",
    "- badges: true\n",
    "- comments: true\n",
    "- categories: [Quiz, markdown]\n",
    "```"
   ]
  },
  {
   "cell_type": "markdown",
   "metadata": {},
   "source": [
    "\n",
    "## Ideas for Quiz\n",
    "- Geography\n",
    "    - loction of statues\n",
    "    - World Wonders\n",
    "- Sports\n",
    "    - Teams\n",
    "    - different sports\n",
    "    - players\n",
    "- History \n",
    "    - Historical figures\n",
    "    - Historcial events\n",
    "\n",
    "\n",
    "\n",
    "\n"
   ]
  },
  {
   "cell_type": "markdown",
   "metadata": {},
   "source": [
    "We chose Geography as the topic for our quiz\n",
    "\n",
    "Our Quiz will have three questions:\n",
    "- What country is the Eiffel Tower in?  Answer: France\n",
    "- What country are the Pyramids Located? Answer: Egypt\n",
    "- What country and city is the Statue of Liberty in? Answer: United States, New York City\n",
    "\n",
    "Other:\n",
    "- We chose to add a bonus question\n",
    "- Bonus question gives viewer chance to decline and end quiz or move forward and do bonus question.\n",
    "- We have a loser screen and a winner screen.\n",
    "\n",
    "\n",
    "[My Geography Quiz](https://studio.code.org/projects/applab/WQfkp-M54-aK2lbp7vxDRF6GfA7RUbdbcNGeNMNabIM/edit)"
   ]
  }
 ],
 "metadata": {
  "kernelspec": {
   "display_name": "Python 3.8.10 64-bit",
   "language": "python",
   "name": "python3"
  },
  "language_info": {
   "name": "python",
   "version": "3.8.10"
  },
  "orig_nbformat": 4,
  "vscode": {
   "interpreter": {
    "hash": "916dbcbb3f70747c44a77c7bcd40155683ae19c65e1c03b4aa3499c5328201f1"
   }
  }
 },
 "nbformat": 4,
 "nbformat_minor": 2
}
