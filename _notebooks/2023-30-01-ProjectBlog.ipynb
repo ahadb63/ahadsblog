{
 "cells": [
  {
   "attachments": {},
   "cell_type": "markdown",
   "metadata": {},
   "source": [
    "---\n",
    "title: Project Blog\n",
    "description: CPT Project blog\n",
    "toc: true\n",
    "comments: true\n",
    "layout: post\n",
    "categories: [Project blog]\n",
    "---"
   ]
  },
  {
   "attachments": {},
   "cell_type": "markdown",
   "metadata": {},
   "source": [
    "---\n",
    "title: CPT Project Blog\n",
    "description: Tri 2 CPT Project blog\n",
    "toc: true\n",
    "comments: true\n",
    "layout: post\n",
    "permalink: /week20/projectblog\n",
    "categories: [week 20]\n",
    "---\n",
    "\n",
    "# Pre-view/ Outline and write up\n",
    "\n",
    "| Category | Expectation | Explanation/Response |\n",
    "| :------: | ----------- | ----------- |\n",
    "| Program Purpose and Function | Describes the purpose of the program, describes the program's functionality, and can take an input and return an output. | The purpose of this website and program is to offer fun games that entertain while also providing a competitive edge. The program uses a virtual currency as well as a leaderboard to engage with the users. In game tokens or currency can be used and earned by interactions.|\n",
    "| Data Abstraction | Shows how data has been stored in a collection and shows data from that collection as it contributes to the overall purpose of the program. Identifies the name of a variable representing the collection being used and describes what the data contained in the collection represents in the program. | Our program abstracts data through the creation of records that are accessed in a backend database. The purpose of this database is to store crucial information about a user such as the number of tokens they have. This value can be used in our program to construct a leaderboard of players with the highest number of tokens in order to create a more competitive experience. We will also store a UserID, Name, and Password to identify users on the leaderboard and authenticate their account. |\n",
    "| Managing Complexity | Shows a collection of data that manages complexity. Explains an alternative method that would have been more complex and explains why that method could not be used or how it would have to be written differently. | There will be many alternative ways to track currency or program each game, so we will show how we chose the simplest way to achieve the desired functionality and explain how it could have been done another way. |\n",
    "| Procedural Abstraction | Shows a student-developed procedure with at least one parameter that has an effect on the functionality of the procedure, and shows where that procedure is called. Describes how the procedure contributes to the functionality of the program. | This will be found in each game that we develop, as all of our games are complex enough to require a function with a parameter. |\n",
    "| Algorithm Implementation | Includes a student-developed algorithm that includes sequencing, selection, and iteration. Explains how the algorithm works in detail enough to where someone could recreate it. | The games that we develop for the virtual arcade will have sufficient algorithms to fit this criteria. |\n",
    "| Testing | Describe two calls to the selected procedure in response 3c. Each call must pass a argument that causes different outputs. Describes conditions being tested by each call. Identifies the result of each call. | We will test two different features in each game, which test certain conditions and output different results. |\n",
    "\n",
    "## Create Performance Task\n",
    "Each of our 4 members has thier own game in the website. This way everyones CPT project will be thier game that they are working on. FOr the N@TM, all of our games will be incorperated into a larget website which we are already doing. Website includes account signup, currency, and a leaderboard.\n",
    "\n",
    "\n",
    "# Code Plan\n",
    "\n",
    "My code plan uses HTML, JavaScript, and CSS.\n",
    "My code plan has steps that will be completed in order so that nothing is missing/forgotten from the process.\n",
    "My code plan is also subject to change.\n",
    "\n",
    "1. The user pays 15 tokens to start the game\n",
    "2. They are prompted with a basic overview of the game, as follows:\n",
    "    1. Each round lasts 15 seconds\n",
    "    2. You must click as many targets as possible before time ends\n",
    "    3. The number of targets the user clicks is the number of tokens they earn\n",
    "3. When the user clicks the button to begin, their score will be initialized to 0 and they are faced with a screen that displays the score at the top and a circular target somewhere inside a rectangle\n",
    "4. When the user clicks the target, it will move to a different random location in the rectangle and will add 1 to the score at the top\n",
    "5. This will repeat for as many targets clicked within 15 seconds of starting the game.\n",
    "6. After 15 seconds, the user will be brought to a screen that shows the following:\n",
    "    1. Their score, which is also the number of tokens they earned\n",
    "    2. A button to view the leaderboard\n",
    "    3. A button to try again for an additional 15 tokens\n",
    "\n",
    "# Video Plan\n",
    "In my video, I will show the game running. I will show what happens when you lose and run the game again. Highscores will be kept and updated. Every loss, -1 tokens. If you win, + 50 tokens (snake is hard to complete)\n",
    "I plan to show my game running for two rounds. One round will earn less than 15 points/tokens, which will show my overall balance go down, and vice versa for the second round."
   ]
  }
 ],
 "metadata": {
  "kernelspec": {
   "display_name": "base",
   "language": "python",
   "name": "python3"
  },
  "language_info": {
   "name": "python",
   "version": "3.9.12 (main, Apr  5 2022, 06:56:58) \n[GCC 7.5.0]"
  },
  "orig_nbformat": 4,
  "vscode": {
   "interpreter": {
    "hash": "ffbc78dc5ed357358f9061e93273b418d0a5d8c7f8a463c0e2f989d33fa7039d"
   }
  }
 },
 "nbformat": 4,
 "nbformat_minor": 2
}
