{
 "cells": [
  {
   "cell_type": "code",
   "execution_count": null,
   "metadata": {
    "vscode": {
     "languageId": "html"
    }
   },
   "outputs": [],
   "source": [
    "# Submission 1\n",
    "| Reporting Category | Requirements | Student Score | College Board Score | Comments |\n",
    "|-|-|-|-|-|\n",
    "|Program Purpose and Function|<ul><li>- [x] input</li><li>- [x] program functionality</li><li>- [x] output</li><li>- [x] It describes the overall purpose of the program.</li><li>- [x] describes what functionality of the program is demonstrated in the video.</li><li>- [x] describes the input and output of the program demonstrated in the video.</li></ul>| 1 | 0 | Submission one meets and fits all the requirements in this category. The program is functional, and gives a good description of the whole program|\n",
    "|Data Abstraction|<ul><li>- [x] It also includes two program code segments:</li><li>- [x] one that shows how data has been stored in this list (or other collection type).</li><li>- [x] Also one that shows the data in this same list being used as part of fulfilling the program’s purpose.</li><li>- [x]It also identifies the name of the variable representing the list being used in this response. </li><li>- [x] It describes what the data contained in this list is representing in the program. </li></ul>| 1 | 1 | Provides code segments and shoes how data is being inputed ans stored. User could have explained code segments a little more. |\n",
    "|Managing Complexity|<ul><li>- [ ] Also includes a program code segment that shows a list being used to manage complexity in the program.</li><li>- [ ] explains how the named, selected list manages complexity in the program code by explaining why the program code could not be written, or how it would be written differently, without using this list.</li></ul>| 0 | 0 | The submission does not get any points because it doesnt fulfill any of the criteria here | \n",
    "|Procedural Abstraction|<ul><li>- [x] It includes two program code segments: </li><li>- [x] one showing a student-developed procedure with at least one parameter that has an effect on the functionality of the procedure.</li><li>- [x] one showing where the student-developed procedure is being called.</li><li>- [x] It describes what the identified procedure does and how it contributes to the overall functionality of the program. </li></ul>| 1 | 1 | The Submission has everything required for this section so they received full points| \n",
    "| Algorithmic Implementation |<ul><li> - [x] includes a program code segment of a student-developed algorithm that includes </li><li> - [x] sequencing</li><li> -[x] selection</li><li> [x] iteration</li><li> -[x]explains in detailed steps how the identified algorithm works in enough detail that someone else could recreate it.</li> | 1 | 1 | Everything is describedand the algorithms are in use and explained well, code segments, sequencing, iteration, and selection are included | \n",
    "| Testing |<ul><li> - [x] describes two calls to the selected procedure identified in written response 3c. Each call must pass a different argument(s) that causes a different segment of code in the algorithm to execute.</li><li> -[x] describes the condition(s) being tested by each call to the procedure.</li><li> -[x] identifies the result of each call.</li></ul>| 1 | 1 | The submission fits all the criteria for this part | \n",
    "\n",
    "Student 1 Reflection: \n",
    "The submission receieved 5/6. They had all the neccesary work completed for all the categories but the Managing Complexity section. They missed all the points possible in the managing complexity section becuase they met none of the requirements for that section. My score differs from teh college board score. College Board gave them a 4/6/, they lost points in the first category. The Submission needs to include something like a list so they can gain points for the managing complexity section.\n",
    "\n",
    "# Submission 2\n",
    "| Reporting Category | Requirements | Student Score | College Board Score | Comments | \n",
    "|-|-|-|-|-|\n",
    "|Program Purpose and Function|<ul><li>- [x] input</li><li>- [x] program functionality</li><li>- [x] output</li><li>- [x] It describes the overall purpose of the program.</li><li>- [x] describes what functionality of the program is demonstrated in the video.</li><li>- [x] describes the input and output of the program demonstrated in the video.</li></ul>| 1 | 1 | All the requirements are met in this section. | \n",
    "|Data Abstraction|<ul><li>- [x] It also includes two program code segments:</li><li>- [x] one that shows how data has been stored in this list (or other collection type).</li><li>- [x] Also one that shows the data in this same list being used as part of fulfilling the program’s purpose.</li><li>- [x]It also identifies the name of the variable representing the list being used in this response. </li><li>- [x] It describes what the data contained in this list is representing in the program. </li></ul>| 1 | 1 | The submission has all the requirements met here and they even added comments to the code | \n",
    "|Managing Complexity|<ul><li>- [x] Also includes a program code segment that shows a list being used to manage complexity in the program.</li><li>- [x] explains how the named, selected list manages complexity in the program code by explaining why the program code could not be written, or how it would be written differently, without using this list.</li></ul>| 1 | 1 | The submission has all the requirements met and there are examples of required items |\n",
    "|Procedural Abstraction|<ul><li>- [x] It includes two program code segments: </li><li>- [x] one showing a student-developed procedure with at least one parameter that has an effect on the functionality of the procedure.</li><li>- [x] one showing where the student-developed procedure is being called.</li><li>- [x] It describes what the identified procedure does and how it contributes to the overall functionality of the program. </li></ul>| 1 | 1 | The submission has all the requirements met. | \n",
    "| Algorithmic Implementation |<ul><li> - [x] includes a program code segment of a student-developed algorithm that includes </li><li> - [x] sequencing</li><li> -[x] selection</li><li> [x] iteration</li><li> -[x]explains in detailed steps how the identified algorithm works in enough detail that someone else could recreate it.</li> | 1 | 1 | The submission has all the requirements met | \n",
    "| Testing |<ul><li> - [x] describes two calls to the selected procedure identified in written response 3c. Each call must pass a different argument(s) that causes a different segment of code in the algorithm to execute.</li><li> -[x] describes the condition(s) being tested by each call to the procedure.</li><li> -[x] identifies the result of each call.</li></ul>| 1 | 1 | Everything is described well and organized. | \n",
    "\n",
    "Student 2 Reflection:\n",
    "The student had all the requirements that the college board rubric had. College board also scored this submission full points. The student consistenlt provided comments and examples to demonstrate they meet college board standards. In my own work I can use examples or techniques from this subbmission to help make sure I also get full points on my CPT. Using techniques like adding comments and mulitple examples for everything is good because it ensure that no points are missed."
   ]
  }
 ],
 "metadata": {
  "kernelspec": {
   "display_name": "base",
   "language": "python",
   "name": "python3"
  },
  "language_info": {
   "name": "python",
   "version": "3.9.12 (main, Apr  5 2022, 06:56:58) \n[GCC 7.5.0]"
  },
  "orig_nbformat": 4,
  "vscode": {
   "interpreter": {
    "hash": "ffbc78dc5ed357358f9061e93273b418d0a5d8c7f8a463c0e2f989d33fa7039d"
   }
  }
 },
 "nbformat": 4,
 "nbformat_minor": 2
}
