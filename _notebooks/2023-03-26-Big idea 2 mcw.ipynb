{
 "cells": [
  {
   "attachments": {},
   "cell_type": "markdown",
   "metadata": {},
   "source": [
    "# Big Idea 2 MCQ + Corrections\n",
    "> quiz corrections\n",
    "- toc: true\n",
    "- categories: []\n"
   ]
  },
  {
   "attachments": {},
   "cell_type": "markdown",
   "metadata": {},
   "source": [
    "## Big Idea Quiz Score"
   ]
  },
  {
   "attachments": {},
   "cell_type": "markdown",
   "metadata": {},
   "source": [
    "![](bi2.png)"
   ]
  },
  {
   "attachments": {},
   "cell_type": "markdown",
   "metadata": {},
   "source": [
    "## Corrections\n",
    "\n",
    "- **Question #17**\n",
    "\n",
    "    Q: The owner of a clothing store records the following information for each transaction made at the store during a 7-day period.\n",
    "\n",
    "    The date of the transaction\n",
    "    The method of payment used in the transaction\n",
    "    The number of items purchased in the transaction\n",
    "    The total amount of the transaction, in dollars\n",
    "\n",
    "    Customers can pay for purchases using cash, check, a debit card, or a credit card.\n",
    "\n",
    "    Using only the data collected during the 7-day period, which of the following statements is true?\n",
    "\n",
    "    A: D)Correct. For each transaction, the data includes the date of the transaction and the number of items purchased in the transaction. By searching the data to find all transactions that occurred on the given date, and then adding the number of items purchased in each of those transactions, the total number of items purchased on a given date can be determined.\n"
   ]
  }
 ],
 "metadata": {
  "kernelspec": {
   "display_name": "base",
   "language": "python",
   "name": "python3"
  },
  "language_info": {
   "name": "python",
   "version": "3.9.12"
  },
  "orig_nbformat": 4
 },
 "nbformat": 4,
 "nbformat_minor": 2
}
