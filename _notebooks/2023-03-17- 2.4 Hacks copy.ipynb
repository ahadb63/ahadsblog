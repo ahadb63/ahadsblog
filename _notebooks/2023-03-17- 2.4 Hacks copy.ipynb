{
 "cells": [
  {
   "attachments": {},
   "cell_type": "markdown",
   "metadata": {},
   "source": [
    "# Unit 2.4 Hacks\n",
    "> Hacks for 2.4a and 2.4b\n",
    "- toc: true\n",
    "- categories: []\n",
    "- type: ap\n",
    "- week: 26"
   ]
  },
  {
   "attachments": {},
   "cell_type": "markdown",
   "metadata": {},
   "source": [
    "### Procedural abstraction?\n",
    "\n",
    "- There is lots of procedural abstraction in both 2.4a and 2.4b\n",
    "- Everywhere where a procedure is named is an example of procedural abstraction. Naming helps keep things clean and easy and can be re-used later\n",
    "- The same procedure being used or called more than once is also an example of procedural abstraction and this happens multiple times. \n",
    "\n",
    "\n"
   ]
  },
  {
   "cell_type": "code",
   "execution_count": 169,
   "metadata": {},
   "outputs": [],
   "source": [
    "# making table\n",
    "import sqlite3\n",
    "\n",
    "\n",
    "def create_connection(db_file):\n",
    "\n",
    "    conn = None\n",
    "\n",
    "    try:\n",
    "        conn = sqlite3.connect(db_file)\n",
    "        return conn\n",
    "    except Error as e:\n",
    "        print(e)\n",
    "    return conn\n",
    "\n",
    "\n",
    "def create_table(conn, create_table_sql):\n",
    "    try:\n",
    "        c = conn.cursor()\n",
    "        c.execute(create_table_sql)\n",
    "    except Error as e:\n",
    "        print(e)\n",
    "\n",
    "\n",
    "def main():\n",
    "    database = 'instance/movies.db'\n",
    "\n",
    "    movies_table = \"\"\"CREATE TABLE IF NOT EXISTS movies ( \n",
    "                                        _id integer PRIMARY KEY,\n",
    "                                        _movie text,\n",
    "                                        _director text,\n",
    "                                        _length text,\n",
    "                                        _year integer\n",
    "                                    ); \"\"\"  # not null makes coloum not accpet null values\n",
    "    conn = create_connection(database)\n",
    "\n",
    "    # create table\n",
    "    create_table(conn, movies_table)\n",
    "\n",
    "\n",
    "if __name__ == '__main__':\n",
    "    main()\n"
   ]
  },
  {
   "cell_type": "code",
   "execution_count": 170,
   "metadata": {},
   "outputs": [
    {
     "name": "stdout",
     "output_type": "stream",
     "text": [
      "(2, '2009 A Space Odyssey', 'Stanley Kubrick', '2 h', 1968)\n",
      "(3, 'The Godfather', 'Francis Capolla', '2h 55m', 1972)\n",
      "(4, 'The Dark Knight', 'Christopher Nolan', ' 2h 32m', 2008)\n",
      "(5, 'Fight Club', 'David FIncher', '2h 19m', 1999)\n",
      "(7, 'The Godfather', 'Francis Capolla', '2h 55m', 1972)\n",
      "(8, 'The Dark Knight', 'Christopher Nolan', ' 2h 32m', 2008)\n",
      "(9, 'Fight Club', 'David FIncher', '2h 19m', 1999)\n"
     ]
    }
   ],
   "source": [
    "# reading\n",
    "def read():\n",
    "\n",
    "    database = 'instance/movies.db'\n",
    "    # Connect to the database file\n",
    "    conn = sqlite3.connect(database)\n",
    "\n",
    "    # Create a cursor object to execute SQL queries\n",
    "    cursor = conn.cursor()\n",
    "\n",
    "    # Execute a SELECT statement to retrieve data from a table\n",
    "    results = cursor.execute('SELECT * FROM movies').fetchall()\n",
    "\n",
    "    # Print the results\n",
    "    if len(results) == 0:\n",
    "        print(\"empty\")\n",
    "    else:\n",
    "        for row in results:\n",
    "            print(row)\n",
    "\n",
    "    # Close objects\n",
    "    cursor.close()\n",
    "    conn.close()\n",
    "\n",
    "\n",
    "read()\n"
   ]
  },
  {
   "cell_type": "code",
   "execution_count": 171,
   "metadata": {},
   "outputs": [
    {
     "name": "stdout",
     "output_type": "stream",
     "text": [
      "A new movie record ? has been created\n"
     ]
    }
   ],
   "source": [
    "# create\n",
    "def create():\n",
    "    database = 'instance/movies.db'\n",
    "    movie = input(\"Enter movie name:\")\n",
    "    director = input(\"Enter director:\")\n",
    "    length = input(\"Enter length\")\n",
    "    year = input(\"Enter year\")\n",
    "\n",
    "    # Connect to the database file\n",
    "    conn = sqlite3.connect(database)\n",
    "\n",
    "    # execute SQL commands\n",
    "    cursor = conn.cursor()\n",
    "\n",
    "    try:\n",
    "        # insert data into a table\n",
    "        cursor.execute(\"INSERT INTO movies (_movie, _director, _length, _year) VALUES (?, ?, ?, ?)\",\n",
    "                       (movie, director, length, year))\n",
    "        # Commit the changes \n",
    "        conn.commit()\n",
    "        print(f\"A new movie record {movie} has been created\")\n",
    "\n",
    "    except sqlite3.Error as error:\n",
    "        print(\"Error with inserting\", error)\n",
    "\n",
    "    # Close the cursor and connection objects\n",
    "    cursor.close()\n",
    "    conn.close()\n",
    "\n",
    "\n",
    "create()\n"
   ]
  },
  {
   "cell_type": "code",
   "execution_count": 172,
   "metadata": {},
   "outputs": [],
   "source": [
    "#c reating\n",
    "import sqlite3\n",
    "# adding movies to the table\n",
    "\n",
    "\n",
    "def add():\n",
    "    database = 'instance/movies.db'\n",
    "    # Connect to  db file\n",
    "    conn = sqlite3.connect(database)\n",
    "\n",
    "    # execute SQL commands\n",
    "    cursor = conn.cursor()\n",
    "\n",
    "    try:\n",
    "        # insert data into a table\n",
    "        cursor.execute(\"INSERT INTO movies (_movie, _director, _length, _year) VALUES (?, ?, ?, ?)\", ('The Godfather', 'Francis Capolla', '2h 55m', 1972))\n",
    "        cursor.execute(\"INSERT INTO movies (_movie, _director, _length, _year) VALUES (?, ?, ?, ?)\",('The Dark Knight', 'Christopher Nolan', ' 2h 32m', 2008))\n",
    "        cursor.execute(\"INSERT INTO movies (_movie, _director, _length, _year) VALUES (?, ?, ?, ?)\",('Fight Club', 'David FIncher',  '2h 19m', 1999))\n",
    "        # Commit the changes\n",
    "        conn.commit()\n",
    "\n",
    "    except sqlite3.Error as error:\n",
    "        print(\"Error\", error)\n",
    "\n",
    "    # Close objects\n",
    "    cursor.close()\n",
    "    conn.close()\n",
    "\n",
    "\n",
    "add()\n"
   ]
  },
  {
   "cell_type": "code",
   "execution_count": 173,
   "metadata": {},
   "outputs": [
    {
     "name": "stdout",
     "output_type": "stream",
     "text": [
      "(2, '2009 A Space Odyssey', 'Stanley Kubrick', '2 h', 1968)\n",
      "(3, 'The Godfather', 'Francis Capolla', '2h 55m', 1972)\n",
      "(4, 'The Dark Knight', 'Christopher Nolan', ' 2h 32m', 2008)\n",
      "(5, 'Fight Club', 'David FIncher', '2h 19m', 1999)\n",
      "(7, 'The Godfather', 'Francis Capolla', '2h 55m', 1972)\n",
      "(8, 'The Dark Knight', 'Christopher Nolan', ' 2h 32m', 2008)\n",
      "(9, 'Fight Club', 'David FIncher', '2h 19m', 1999)\n",
      "(10, '?', '?', '?', '?')\n",
      "(11, 'The Godfather', 'Francis Capolla', '2h 55m', 1972)\n",
      "(12, 'The Dark Knight', 'Christopher Nolan', ' 2h 32m', 2008)\n",
      "(13, 'Fight Club', 'David FIncher', '2h 19m', 1999)\n"
     ]
    }
   ],
   "source": [
    "read()"
   ]
  },
  {
   "cell_type": "code",
   "execution_count": 180,
   "metadata": {},
   "outputs": [
    {
     "name": "stdout",
     "output_type": "stream",
     "text": [
      "----Original Table:----\n",
      "(2, '2009 A Space Odyssey', 'Stanley Kubrick', '2 h', 1968)\n",
      "(3, 'The Godfather', 'Francis Capolla', '2h 55m', 1972)\n",
      "(4, 'The Dark Knight', 'Christopher Nolan', ' 2h 32m', 2008)\n",
      "(5, 'Fight Club', 'David FIncher', '2h 19m', 1999)\n",
      "(13, 'Fight Club', 'David FIncher', '2h 19m', 1999)\n",
      "\n",
      "The row with uid 13 has been deleted\n",
      "(2, '2009 A Space Odyssey', 'Stanley Kubrick', '2 h', 1968)\n",
      "(3, 'The Godfather', 'Francis Capolla', '2h 55m', 1972)\n",
      "(4, 'The Dark Knight', 'Christopher Nolan', ' 2h 32m', 2008)\n",
      "(5, 'Fight Club', 'David FIncher', '2h 19m', 1999)\n"
     ]
    }
   ],
   "source": [
    "# delete\n",
    "import sqlite3\n",
    "\n",
    "def delete():\n",
    "    \n",
    "    database = 'instance/movies.db'\n",
    "    id = input(\"Enter movie id to delete\")\n",
    "\n",
    "    # Connect to the database file\n",
    "    conn = sqlite3.connect(database)\n",
    "\n",
    "    # Create a cursor object to execute SQL commands\n",
    "    cursor = conn.cursor()\n",
    "    \n",
    "    try:\n",
    "        cursor.execute(\"DELETE FROM movies WHERE _id = ?\", (id,))\n",
    "        if cursor.rowcount == 0:\n",
    "            # The uid was not found in the table\n",
    "            print(f\"No uid {id} was not found in the table\")\n",
    "        else:\n",
    "            # The uid was found in the table and the row was deleted\n",
    "            print(f\"The row with uid {id} has been deleted\")\n",
    "        conn.commit()\n",
    "    except sqlite3.Error as error:\n",
    "        print(\"Error in DELETE:\", error)\n",
    "        \n",
    "    # Close the cursor and connection objects\n",
    "    cursor.close()\n",
    "    conn.close()\n",
    "print(\"----Original Table:----\")\n",
    "read()\n",
    "print(\"\")\n",
    "delete()\n",
    "read()"
   ]
  },
  {
   "cell_type": "code",
   "execution_count": 181,
   "metadata": {},
   "outputs": [
    {
     "name": "stdout",
     "output_type": "stream",
     "text": [
      "----Original Databse:----\n",
      "(2, '2009 A Space Odyssey', 'Stanley Kubrick', '2 h', 1968)\n",
      "(3, 'The Godfather', 'Francis Capolla', '2h 55m', 1972)\n",
      "(4, 'The Dark Knight', 'Christopher Nolan', ' 2h 32m', 2008)\n",
      "(5, 'Fight Club', 'David FIncher', '2h 19m', 1999)\n",
      "\n",
      "----Updated Databse:----\n",
      "Movie 5 received an updated runtime: \n",
      "(2, '2009 A Space Odyssey', 'Stanley Kubrick', '2 h', 1968)\n",
      "(3, 'The Godfather', 'Francis Capolla', '2h 55m', 1972)\n",
      "(4, 'The Dark Knight', 'Christopher Nolan', ' 2h 32m', 2008)\n",
      "(5, 'Fight Club', 'David FIncher', '100', 1999)\n"
     ]
    }
   ],
   "source": [
    "# Updating\n",
    "import sqlite3\n",
    "\n",
    "def update():  \n",
    "    \n",
    "    database = 'instance/movies.db'\n",
    "    id = input(\"Enter a movie id to update movies runtime\")\n",
    "    runtime = input(\"Enter updated runtime status\")\n",
    "    if runtime == 1: \n",
    "        status = \"changed\"\n",
    "    else: \n",
    "        status = \"\"\n",
    "\n",
    "    # Connect to the database file\n",
    "    conn = sqlite3.connect(database)\n",
    "\n",
    "    # Create a cursor object to execute SQL commands\n",
    "    cursor = conn.cursor()\n",
    "\n",
    "    try:\n",
    "        # Execute an SQL command to update data in a table\n",
    "        cursor.execute(\"UPDATE movies SET _length = ? WHERE _id = ?\", (runtime, id))\n",
    "        if cursor.rowcount == 0:\n",
    "            # The uid was not found in the table\n",
    "            print(f\"No id {id} was not found in the table\")\n",
    "        else:\n",
    "            print(f\"Movie {id} received an updated runtime: {status}\")\n",
    "            conn.commit()\n",
    "    except sqlite3.Error as error:\n",
    "        print(\"Error in UPDATE:\", error)\n",
    "        \n",
    "    \n",
    "    # Close the cursor and connection objects\n",
    "    cursor.close()\n",
    "    conn.close()\n",
    "print('----Original Databse:----')\n",
    "read()   \n",
    "print(\"\")\n",
    "print('----Updated Databse:----')\n",
    "update()\n",
    "read()"
   ]
  },
  {
   "cell_type": "code",
   "execution_count": 183,
   "metadata": {},
   "outputs": [
    {
     "name": "stdout",
     "output_type": "stream",
     "text": [
      "(2, '2009 A Space Odyssey', 'Stanley Kubrick', '2 h', 1968)\n",
      "(3, 'The Godfather', 'Francis Capolla', '2h 55m', 1972)\n",
      "(4, 'The Dark Knight', 'Christopher Nolan', ' 2h 32m', 2008)\n",
      "(5, 'Fight Club', 'David FIncher', '100', 1999)\n"
     ]
    }
   ],
   "source": [
    "# Menu\n",
    "def menu():\n",
    "    operation = input(\"Enter: (C)reate (R)ead (U)pdate or (D)elete\")\n",
    "    if operation.lower() == 'c':\n",
    "        create()\n",
    "    elif operation.lower() == 'r':\n",
    "        read()\n",
    "    elif operation.lower() == 'u':\n",
    "        update()\n",
    "    elif operation.lower() == 'd':\n",
    "        delete()\n",
    "    elif len(operation)==0: # Escape Key\n",
    "        return\n",
    "    else:\n",
    "        print(\"Please enter c, r, u, d\") \n",
    "    menu() # recursion (repeats)\n",
    "        \n",
    "try:\n",
    "    menu() # start menu\n",
    "except:\n",
    "    print(\"Perform Jupyter 'Run All' prior to starting menu\")"
   ]
  }
 ],
 "metadata": {
  "kernelspec": {
   "display_name": "base",
   "language": "python",
   "name": "python3"
  },
  "language_info": {
   "codemirror_mode": {
    "name": "ipython",
    "version": 3
   },
   "file_extension": ".py",
   "mimetype": "text/x-python",
   "name": "python",
   "nbconvert_exporter": "python",
   "pygments_lexer": "ipython3",
   "version": "3.9.12"
  },
  "orig_nbformat": 4
 },
 "nbformat": 4,
 "nbformat_minor": 2
}
