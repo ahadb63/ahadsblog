{
 "cells": [
  {
   "cell_type": "markdown",
   "metadata": {},
   "source": [
    "# Grades\n",
    "\n",
    "\n",
    "- toc: true \n",
    "- badges: true\n",
    "- comments: true\n",
    "- categories: [grades]\n"
   ]
  },
  {
   "attachments": {},
   "cell_type": "markdown",
   "metadata": {},
   "source": [
    "# Grades\n",
    "| 3.1 & 3.2 | 3.3 and 3.4 | 3.5-3.7 | 3.8-3.10 | 3.9-3.11 | 3.12-3.13 | 3.14-3.15 | 3.16 | 3.17-3.18 |\n",
    "| :---------: | :-----------: | :-----------: |:-----------: |:-----------: |:-----------: |:-----------: |:-----------: |:-----------: |\n",
    "| 0.95/1 | 1/1 | .9/1 | .9/1 | 3.3/4 | 0.9/1 | 0.9/1 | notposted | notposted |\n"
   ]
  }
 ],
 "metadata": {
  "kernelspec": {
   "display_name": "Python 3.9.12 ('base')",
   "language": "python",
   "name": "python3"
  },
  "language_info": {
   "name": "python",
   "version": "3.9.12 (main, Apr  5 2022, 06:56:58) \n[GCC 7.5.0]"
  },
  "orig_nbformat": 4,
  "vscode": {
   "interpreter": {
    "hash": "ffbc78dc5ed357358f9061e93273b418d0a5d8c7f8a463c0e2f989d33fa7039d"
   }
  }
 },
 "nbformat": 4,
 "nbformat_minor": 2
}
