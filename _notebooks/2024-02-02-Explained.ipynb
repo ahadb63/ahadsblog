{
 "cells": [
  {
   "attachments": {},
   "cell_type": "markdown",
   "metadata": {},
   "source": [
    "#  Javascript Explained\n",
    "- toc: true\n",
    "- comments: true\n",
    "- categories: [javascript]"
   ]
  },
  {
   "attachments": {},
   "cell_type": "markdown",
   "metadata": {},
   "source": [
    "# Player stats exmplained.\n",
    "\n",
    "\n",
    "\n",
    "1. CSS:\n",
    "   - The CSS styles are defined in the head of the HTML document. They are applied to various elements in the body of the document to provide a pleasing visual aesthetic.\n",
    "   - The background image for the body is set to a hockey image.\n",
    "   - The font family for the entire page is set to 'Roboto', and the font color, size, and weight are specified.\n",
    "   - Styling for the search container, player data section, and title of the page is provided.\n",
    "   - A CSS class named `.hidden-stats` is defined that hides the elements it's applied to.\n",
    "\n",
    "2. External Resources:\n",
    "   - Google fonts are linked to provide typography options for 'Roboto' and 'Montserrat'.\n",
    "   - The script tag includes the Axios library, which is used for HTTP requests.\n",
    "\n",
    "3. HTML structure:\n",
    "   - The body of the HTML document contains the main content of the page. It includes a title, a search box for entering player names, and a button for triggering the search.\n",
    "   - The search box has an id of `playerName` which is used in the JavaScript code to get the value entered by the user.\n",
    "   - There's also a div with an id of `playerData` where the data returned from the API is to be displayed.\n",
    "\n",
    "5. JavaScript:\n",
    "   - There are two main JavaScript functions: `searchPlayer()` and `parseObject(data, titleText)`.\n",
    "   - The `searchPlayer()` function is an async function (to deal with promises) that gets triggered when the search button is clicked.\n",
    "   - It gets the player's name entered by the user and uses it to construct a URL for the API endpoint.\n",
    "   - An Axios GET request is made to the constructed URL, which returns a response containing the data of the requested player.\n",
    "   - If the returned data is a string, it is parsed into a JSON object.\n",
    "   - The returned data (now an object) is looped over, and each key-value pair is appended to the `playerData` div.\n",
    "   - If any value is itself an object, it is passed to the `parseObject()` function which creates a new div with a title and loops over the object in the same way as above.\n",
    "   - The `parseObject()` function also adds a button to show/hide the data and initially hides the data by adding the `hidden-stats` class.\n",
    "   \n",
    "6. JSON and Elements:\n",
    "   - JSON stands for JavaScript Object Notation. It's a lightweight data-interchange format that's easy for humans to read and write and easy for machines to parse and generate.\n",
    "   - In this code, JSON is used to receive data from the API and parse it into JavaScript objects. These objects are then used to dynamically generate HTML elements that are added to the page.\n",
    "   - HTML elements are the building blocks of HTML pages. In this code, new HTML elements (paragraphs, headings, divs, and buttons) are created using JavaScript and added to the page to display the player data. The `document.createElement()` function is used to create these elements.\n",
    "\n",
    "7. Error Handling:\n",
    "   - If an error occurs during the execution of the Axios request, it's caught and logged to the console. This is important because I am able to tell what went wrong by lookinf at what was logged in terminal. "
   ]
  },
  {
   "attachments": {},
   "cell_type": "markdown",
   "metadata": {},
   "source": [
    "# Functions\n",
    "1. `searchPlayer()`: This is an asynchronous JavaScript function that gets triggered when the user clicks the \"Search Player\" button. The function first fetches the player's name entered in the input box with id `playerName`. Then it constructs a configuration object for an Axios GET request to fetch the stats of the entered player from a specified API endpoint. The configuration object includes the method, URL, parameters, and headers for the request. Upon receiving the response from the API, the function checks whether the data is a string or not. If it is a string, it parses the data into a JSON object. The function then gets a reference to the HTML element with the id `playerData` and empties it. After that, it loops over each key-value pair in the returned data, and if the value is an object, it calls the `parseObject()` function to generate an HTML structure to represent that data. If the value isn't an object, it creates a new paragraph element, sets its text to the key and value, and appends it to the `playerData` element. If an error occurs during this process, it gets logged to the console.\n",
    "\n",
    "2. `parseObject(data, titleText)`: This JavaScript function is used to generate an HTML structure to represent data that's in the form of an object. It accepts two parameters: `data` and `titleText`. The `data` parameter is the object that the function will loop over to create the HTML structure, and the `titleText` parameter is the key for that object in the parent object. The function starts by creating a new div and a heading element. It sets the text of the heading to the `titleText` and appends it to the div. Then it loops over each key-value pair in the `data` object. If the value is another object, it calls itself recursively to create an HTML structure for that object. If the value isn't an object, it creates a new paragraph element, sets its text to the key and value, and appends it to the div. After the loop, the function creates a new button that, when clicked, toggles the display of the elements inside the div (except for the first one, which is the button itself). Initially, it hides all these elements by adding the `hidden-stats` class to them. Finally, the function returns the div, which can then be appended to the HTML structure of the page."
   ]
  }
 ],
 "metadata": {
  "language_info": {
   "name": "python"
  },
  "orig_nbformat": 4
 },
 "nbformat": 4,
 "nbformat_minor": 2
}
