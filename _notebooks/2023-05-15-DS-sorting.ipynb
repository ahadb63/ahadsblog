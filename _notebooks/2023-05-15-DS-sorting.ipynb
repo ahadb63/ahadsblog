{
 "cells": [
  {
   "attachments": {},
   "cell_type": "markdown",
   "metadata": {},
   "source": [
    "# Sorting Algorithms\n",
    "> Working with Data Structures and manipulating data.\n",
    "\n",
    "- toc: true\n",
    "- categories: []\n",
    "- type: pbl\n",
    "- week: 34"
   ]
  },
  {
   "attachments": {},
   "cell_type": "markdown",
   "metadata": {},
   "source": [
    "[wget link](https://raw.githubusercontent.com/nighthawkcoders/APCSP/master/_notebooks/2023-05-15-DS-sorting.ipynb)"
   ]
  },
  {
   "cell_type": "code",
   "execution_count": 1,
   "metadata": {},
   "outputs": [
    {
     "name": "stdout",
     "output_type": "stream",
     "text": [
      "Random List\n",
      "[85, 93, 20, 100, 88, 84, 33, 61, 86, 71]\n"
     ]
    }
   ],
   "source": [
    "import random\n",
    "\n",
    "numbers = []\n",
    "for i in range(10):\n",
    "    numbers.append(random.randint(0,100))\n",
    "print(\"Random List\")\n",
    "print(numbers)"
   ]
  },
  {
   "attachments": {},
   "cell_type": "markdown",
   "metadata": {},
   "source": [
    "# Warm Up\n",
    "\n",
    "> Discuss with a partner... \n",
    "What are some strategies you would use to sort this list? (Don't worry about writing code for now)\n",
    "- Sort from least to greatest\n",
    "- Sort from greatest to least"
   ]
  },
  {
   "attachments": {},
   "cell_type": "markdown",
   "metadata": {},
   "source": [
    "# Explore\n",
    "\n",
    "Get into groups of 3\n",
    "\n",
    "We will be focusing on 4 algorithms today.\n",
    "\n",
    "We will look at the first one together, Bubble Sort\n",
    "\n",
    "![](images/bubble-sort.png)\n",
    "\n",
    "What is happening with this sort?\n",
    "\n",
    "In your groups you will each choose to be an expert on a sorting algorithm. Merge, Selection, and Insertion.\n",
    "Take about 5 minutes to read about your algorithm (Geek for Geeks linked below) and be ready to explain it to your other group members. \n",
    "\n",
    "[Merge](https://www.geeksforgeeks.org/merge-sort/#)\n",
    "\n",
    "[Selection](https://www.geeksforgeeks.org/selection-sort/)\n",
    "\n",
    "[Insertion](https://www.geeksforgeeks.org/insertion-sort/)"
   ]
  },
  {
   "attachments": {},
   "cell_type": "markdown",
   "metadata": {},
   "source": [
    "## Practice\n",
    "\n",
    "[75, 17, 46, 80, 67, 45, 69, 79, 40, 0]\n",
    "\n",
    "How would you sort this list with... \n",
    "- Bubble Sort\n",
    "Bubble Sort is a simple comparison-based sorting algorithm. It works by repeatedly swapping the adjacent elements if they are in the wrong order. We start at the first pair of elements and move through the array, swapping elements as necessary. Each pass through the array \"bubbles up\" the next largest value to its correct position.\n",
    "- Selection Sort\n",
    "Selection sort is another comparison-based algorithm that divides the input into a sorted and an unsorted region. The algorithm repeatedly selects the smallest (or largest, if sorting in descending order) element from the unsorted subarray and swaps it with the leftmost unsorted element, moving the subarray boundaries one element to the right.\n",
    "\n",
    "[88, 39, 53, 39, 58, 43, 74, 81, 71, 51]\n",
    "\n",
    "How would you sort this list with... \n",
    "- Merge Sort \n",
    "It continuously divides the array into two halves, sorts them separately, and merges them.\n",
    "- Insertion Sort\n",
    "The array is virtually split into a sorted and an unsorted region. Values from the unsorted part are picked and placed at the correct position in the sorted part.\n"
   ]
  },
  {
   "attachments": {},
   "cell_type": "markdown",
   "metadata": {},
   "source": [
    "# Sorting Words\n",
    "> Sorting strings works in the same way as integers. Using your expertise algorithm, sort the following list of random words."
   ]
  },
  {
   "cell_type": "code",
   "execution_count": 1,
   "metadata": {},
   "outputs": [
    {
     "name": "stdout",
     "output_type": "stream",
     "text": [
      "Random List:\n",
      "['allantoic', 'Barouni', 'hungerproof', 'undebarred', 'gentlewomanish', 'unchaptered', 'hydrogalvanic', 'decimation', 'coaration', 'bracted']\n",
      "Sorted List:\n",
      "['Barouni', 'allantoic', 'bracted', 'coaration', 'decimation', 'gentlewomanish', 'hungerproof', 'hydrogalvanic', 'unchaptered', 'undebarred']\n"
     ]
    },
    {
     "name": "stderr",
     "output_type": "stream",
     "text": [
      "[nltk_data] Downloading package words to /home/pluto/nltk_data...\n",
      "[nltk_data]   Package words is already up-to-date!\n"
     ]
    }
   ],
   "source": [
    "import nltk\n",
    "import random\n",
    "\n",
    "nltk.download('words')  # Download the word list (only required once)\n",
    "\n",
    "from nltk.corpus import words\n",
    "\n",
    "english_words = words.words()\n",
    "\n",
    "# Generate a random list of words\n",
    "words = []\n",
    "for i in range(10):\n",
    "    words.append(english_words[random.randint(0, len(english_words) - 1)])\n",
    "\n",
    "print(\"Random List:\")\n",
    "print(words)\n",
    "\n",
    "# Sort the list using Python's built-in sort() function\n",
    "words.sort()\n",
    "\n",
    "print(\"Sorted List:\")\n",
    "print(words)\n"
   ]
  },
  {
   "cell_type": "code",
   "execution_count": 2,
   "metadata": {},
   "outputs": [
    {
     "name": "stderr",
     "output_type": "stream",
     "text": [
      "[nltk_data] Downloading package words to /home/pluto/nltk_data...\n",
      "[nltk_data]   Unzipping corpora/words.zip.\n"
     ]
    },
    {
     "name": "stdout",
     "output_type": "stream",
     "text": [
      "Random List\n",
      "['earth', 'Tawgi', 'camptodrome', 'hookedwise', 'giardiasis', 'putresce', 'pato', 'cellulicidal', 'thermometric', 'deutoxide']\n"
     ]
    }
   ],
   "source": [
    "import nltk\n",
    "import random\n",
    "\n",
    "nltk.download('words')  # Download the word list (only required once)\n",
    "\n",
    "from nltk.corpus import words\n",
    "\n",
    "english_words = words.words()\n",
    "#print(len(english_words))  # Prints the number of words in the list\n",
    "\n",
    "# You can now use the 'english_words' list in your code\n",
    "\n",
    "words = []\n",
    "for i in range(10):\n",
    "    words.append(english_words[random.randint(0,len(english_words))])\n",
    "print(\"Random List\")\n",
    "print(words)"
   ]
  },
  {
   "attachments": {},
   "cell_type": "markdown",
   "metadata": {},
   "source": [
    "## Discuss \n",
    "Answer the following with your group.\n",
    "\n",
    "- When should you use each algorithm? What makes an algorithm the right choice?\n",
    "- Given the following lists...\n",
    "    - [0, 2, 6, 4, 8, 10]\n",
    "    - [Elephant, Banana, Cat, Dog, Apple]\n",
    "    - [29, 13, 83, 47, 32, 78, 100, 60, 65, 15, 24, 9, 40, 68, 53, 8, 90, 58, 39, 32, 34, 91, 74, 94, 49, 87, 34, 87, 23, 17, 27, 2, 38, 58, 84, 15, 9, 46, 74, 40, 44, 8, 55, 28, 81, 92, 81, 88, 53, 38, 19, 21, 9, 54, 21, 67, 3, 41, 3, 74, 13, 71, 70, 45, 5, 36, 80, 64, 97, 86, 73, 74, 94, 79, 49, 32, 20, 68, 64, 69, 1, 77, 31, 56, 100, 80, 48, 75, 85, 93, 67, 57, 26, 56, 43, 53, 59, 28, 67, 50]\n",
    "Select the algorithm you believe is best for each, explain."
   ]
  },
  {
   "attachments": {},
   "cell_type": "markdown",
   "metadata": {},
   "source": [
    "## HACKS\n",
    "> Provided below is a Bubble Sort Algorithm sorting a list of dictionaries based off of selected key.\n",
    "\n",
    "- Now it's time to do some coding...\n",
    "\n",
    "- Run code and then research and answer these questions...\n",
    "    - Is a list and/or dictionary in python considered a primitive or collection type?  Why?\n",
    "    A list and a dictionary in Python are considered collection types, not primitive types. a primitive type is the simplest kind of data type that is provided by a programming languagelike integers, floating point numbers, and characters They are called 'primitive' because they can't be broken down into a simpler data type. Collection types  are data types that can hold multiple values at once. They are kind of like containers for the primitive data types .\n",
    "    - Is the list passed into bubble sort \"pass-by-value\" or \"pass-by-reference? Describe why in relation to output.\n",
    "    In Python, when you pass a list to a function like bubble sort, it's \"pass-by-reference\". What this means is that any changes you make to the list inside the function actually affect the original list you passed in. So if your bubble sort function rearranges the elements in the list to sort it, these changes will be reflected in the original list outside the function. This happens because, in Python, a list is a mutable object, and when you pass it to a function, you're actually passing a reference to the list's location in memory, not a separate copy of the list.\n",
    "    \n",
    "- Implement new cell(s) and/or organize cells to do the following.\n",
    "    - Create your own list\n",
    "    - Use your expertise sorting algorithm (selection, insertion, merge). Note, I got my bubble sort from Geek for Geeks and made modifications. Each student in a group should have a unique algorithm.\n",
    "    - Test your list with my bubble sort\n",
    "    - Test my list with your new sort\n",
    "    - Research analysis on sorting: comparisons, swaps, time.  Build this into your hacks.\n",
    "    - Find a better way to print the data, key first, then other elements in viewable form.\n",
    "\n",
    "Use the code below to help guide your adventure"
   ]
  },
  {
   "cell_type": "code",
   "execution_count": 1,
   "metadata": {},
   "outputs": [
    {
     "name": "stdout",
     "output_type": "stream",
     "text": [
      "['Bergeron',\n",
      " 'Crosby',\n",
      " 'Draisaitl',\n",
      " 'Kucherov',\n",
      " 'Mackinnon',\n",
      " 'Matthews',\n",
      " 'McDavid',\n",
      " 'Ovechkin']\n"
     ]
    }
   ],
   "source": [
    "\n",
    "from pprint import pprint\n",
    "\n",
    "def merge_sort(nhl_players):\n",
    "    # base case\n",
    "    if len(nhl_players) <= 1:\n",
    "        return nhl_players\n",
    "\n",
    "    # split array in half and perform merge sort recursively\n",
    "    mid = len(nhl_players) // 2\n",
    "    left_half = merge_sort(nhl_players[:mid])\n",
    "    right_half = merge_sort(nhl_players[mid:])\n",
    "\n",
    "    return merge(left_half, right_half)\n",
    "\n",
    "def merge(left, right):\n",
    "    merged = []\n",
    "    left_index = 0\n",
    "    right_index = 0\n",
    "\n",
    "    # move through the lists until we have exhausted one\n",
    "    while left_index < len(left) and right_index < len(right):\n",
    "        if left[left_index] <= right[right_index]:\n",
    "            merged.append(left[left_index])\n",
    "            left_index += 1\n",
    "        else:\n",
    "            merged.append(right[right_index])\n",
    "            right_index += 1\n",
    "\n",
    "    # append any leftovers. Because we've exhausted one list, we know they are sorted\n",
    "    if left:\n",
    "        merged.extend(left[left_index:])\n",
    "    if right:\n",
    "        merged.extend(right[right_index:])\n",
    "\n",
    "    return merged\n",
    "\n",
    "nhl_players = ['Crosby', 'McDavid', 'Ovechkin', 'Mackinnon', 'Draisaitl', 'Bergeron', 'Matthews', 'Kucherov']\n",
    "\n",
    "pprint(merge_sort(nhl_players))\n",
    "# organizes it in alphabetical order\n",
    "# Use pprint to better print the data"
   ]
  },
  {
   "cell_type": "code",
   "execution_count": 7,
   "metadata": {},
   "outputs": [
    {
     "name": "stdout",
     "output_type": "stream",
     "text": [
      "{'age': 36, 'jersey_number': 37, 'name': 'Bergeron'}\n",
      "{'age': 35, 'jersey_number': 87, 'name': 'Crosby'}\n",
      "{'age': 26, 'jersey_number': 29, 'name': 'Draisaitl'}\n",
      "{'age': 28, 'jersey_number': 86, 'name': 'Kucherov'}\n",
      "{'age': 26, 'jersey_number': 29, 'name': 'Mackinnon'}\n",
      "{'age': 24, 'jersey_number': 34, 'name': 'Matthews'}\n",
      "{'age': 25, 'jersey_number': 97, 'name': 'McDavid'}\n",
      "{'age': 36, 'jersey_number': 8, 'name': 'Ovechkin'}\n"
     ]
    }
   ],
   "source": [
    "#more sophisticated one\n",
    "def merge_sort(nhl_players):\n",
    "    if len(nhl_players) <= 1:\n",
    "        return nhl_players\n",
    "\n",
    "    mid = len(nhl_players) // 2\n",
    "    left_half = merge_sort(nhl_players[:mid])\n",
    "    right_half = merge_sort(nhl_players[mid:])\n",
    "\n",
    "    return merge(left_half, right_half)\n",
    "\n",
    "def merge(left, right):\n",
    "    merged = []\n",
    "    while left and right:\n",
    "        if left[0]['name'] <= right[0]['name']:\n",
    "            merged.append(left.pop(0))\n",
    "        else:\n",
    "            merged.append(right.pop(0))\n",
    "\n",
    "    merged.extend(left if left else right)\n",
    "\n",
    "    return merged\n",
    "\n",
    "nhl_players = [\n",
    "    {'name': 'Crosby', 'age': 35, 'jersey_number': 87},\n",
    "    {'name': 'McDavid', 'age': 25, 'jersey_number': 97},\n",
    "    {'name': 'Ovechkin', 'age': 36, 'jersey_number': 8},\n",
    "    {'name': 'Mackinnon', 'age': 26, 'jersey_number': 29},\n",
    "    {'name': 'Draisaitl', 'age': 26, 'jersey_number': 29},\n",
    "    {'name': 'Bergeron', 'age': 36, 'jersey_number': 37},\n",
    "    {'name': 'Matthews', 'age': 24, 'jersey_number': 34},\n",
    "    {'name': 'Kucherov', 'age': 28, 'jersey_number': 86}\n",
    "]\n",
    "\n",
    "sorted_players = merge_sort(nhl_players)\n",
    "\n",
    "for player in sorted_players:\n",
    "    pprint(player)\n"
   ]
  },
  {
   "cell_type": "code",
   "execution_count": 8,
   "metadata": {},
   "outputs": [
    {
     "name": "stdout",
     "output_type": "stream",
     "text": [
      "{'name': 'Bergeron', 'age': 36, 'jersey_number': 37}\n",
      "{'name': 'Crosby', 'age': 35, 'jersey_number': 87}\n",
      "{'name': 'Draisaitl', 'age': 26, 'jersey_number': 29}\n",
      "{'name': 'Kucherov', 'age': 28, 'jersey_number': 86}\n",
      "{'name': 'Mackinnon', 'age': 26, 'jersey_number': 29}\n",
      "{'name': 'Matthews', 'age': 24, 'jersey_number': 34}\n",
      "{'name': 'McDavid', 'age': 25, 'jersey_number': 97}\n",
      "{'name': 'Ovechkin', 'age': 36, 'jersey_number': 8}\n"
     ]
    }
   ],
   "source": [
    "def bubble_sort(nhl_players):\n",
    "    for i in range(len(nhl_players)):\n",
    "        for j in range(len(nhl_players) - i - 1):\n",
    "            if nhl_players[j]['name'] > nhl_players[j + 1]['name']:\n",
    "                nhl_players[j], nhl_players[j + 1] = nhl_players[j + 1], nhl_players[j]\n",
    "    return nhl_players\n",
    "\n",
    "nhl_players = [\n",
    "    {'name': 'Crosby', 'age': 35, 'jersey_number': 87},\n",
    "    {'name': 'McDavid', 'age': 25, 'jersey_number': 97},\n",
    "    {'name': 'Ovechkin', 'age': 36, 'jersey_number': 8},\n",
    "    {'name': 'Mackinnon', 'age': 26, 'jersey_number': 29},\n",
    "    {'name': 'Draisaitl', 'age': 26, 'jersey_number': 29},\n",
    "    {'name': 'Bergeron', 'age': 36, 'jersey_number': 37},\n",
    "    {'name': 'Matthews', 'age': 24, 'jersey_number': 34},\n",
    "    {'name': 'Kucherov', 'age': 28, 'jersey_number': 86}\n",
    "]\n",
    "\n",
    "sorted_players = bubble_sort(nhl_players)\n",
    "\n",
    "for player in sorted_players:\n",
    "    pprint(player)\n"
   ]
  },
  {
   "cell_type": "code",
   "execution_count": 10,
   "metadata": {},
   "outputs": [
    {
     "name": "stdout",
     "output_type": "stream",
     "text": [
      "{'age': 36, 'jersey_number': 37, 'name': 'Bergeron'}\n",
      "{'age': 35, 'jersey_number': 87, 'name': 'Crosby'}\n",
      "{'age': 26, 'jersey_number': 29, 'name': 'Draisaitl'}\n",
      "{'age': 28, 'jersey_number': 86, 'name': 'Kucherov'}\n",
      "{'age': 26, 'jersey_number': 29, 'name': 'Mackinnon'}\n",
      "{'age': 24, 'jersey_number': 34, 'name': 'Matthews'}\n",
      "{'age': 25, 'jersey_number': 97, 'name': 'McDavid'}\n",
      "{'age': 36, 'jersey_number': 8, 'name': 'Ovechkin'}\n"
     ]
    }
   ],
   "source": [
    "#morts bubble sort\n",
    "\n",
    "nhl_players = [\n",
    "    {'name': 'Crosby', 'age': 35, 'jersey_number': 87},\n",
    "    {'name': 'McDavid', 'age': 25, 'jersey_number': 97},\n",
    "    {'name': 'Ovechkin', 'age': 36, 'jersey_number': 8},\n",
    "    {'name': 'Mackinnon', 'age': 26, 'jersey_number': 29},\n",
    "    {'name': 'Draisaitl', 'age': 26, 'jersey_number': 29},\n",
    "    {'name': 'Bergeron', 'age': 36, 'jersey_number': 37},\n",
    "    {'name': 'Matthews', 'age': 24, 'jersey_number': 34},\n",
    "    {'name': 'Kucherov', 'age': 28, 'jersey_number': 86}\n",
    "]\n",
    "\n",
    "sorted_players = bubble_sort(nhl_players)\n",
    "\n",
    "for player in sorted_players:\n",
    "    pprint(player)\n",
    "def bubbleSort(list, key):\n",
    "    n = len(list) - 1  # list are indexed 0 to n-1, len is n\n",
    "    \n",
    "    # Traverse through list with i index\n",
    "    for i in range(n):\n",
    "        swapped = False  # optimize code, so it exits if now swaps on inner loop\n",
    "\n",
    "        # Inner traversal using j index\n",
    "        for j in range(n-i):  # n-i as positions on right are in order in bubble\n",
    " \n",
    "            # Swap if the element KeyN is greater KeyN1\n",
    "            keyN = list[j].get(key)\n",
    "            keyN1 = list[j+1].get(key)\n",
    "            if keyN > keyN1:\n",
    "                swapped = True\n",
    "                list[j], list[j + 1] = list[j + 1], list[j]  # single line swap\n",
    "         \n",
    "        if not swapped:  # if no swaps on inner pass, list is sorted\n",
    "            return  # exit function"
   ]
  },
  {
   "cell_type": "code",
   "execution_count": 9,
   "metadata": {},
   "outputs": [
    {
     "name": "stdout",
     "output_type": "stream",
     "text": [
      "Original\n",
      "[{'name': 'Risa', 'age': 18, 'city': 'New York'}, {'name': 'John', 'age': 63, 'city': 'Eugene'}, {'name': 'Shekar', 'age': 18, 'city': 'San Francisco'}, {'name': 'Ryan', 'age': 21, 'city': 'Los Angeles'}]\n",
      "name\n",
      "[{'name': 'John', 'age': 63, 'city': 'Eugene'}, {'name': 'Risa', 'age': 18, 'city': 'New York'}, {'name': 'Ryan', 'age': 21, 'city': 'Los Angeles'}, {'name': 'Shekar', 'age': 18, 'city': 'San Francisco'}]\n",
      "age\n",
      "[{'name': 'Risa', 'age': 18, 'city': 'New York'}, {'name': 'Shekar', 'age': 18, 'city': 'San Francisco'}, {'name': 'Ryan', 'age': 21, 'city': 'Los Angeles'}, {'name': 'John', 'age': 63, 'city': 'Eugene'}]\n",
      "city\n",
      "[{'name': 'John', 'age': 63, 'city': 'Eugene'}, {'name': 'Ryan', 'age': 21, 'city': 'Los Angeles'}, {'name': 'Risa', 'age': 18, 'city': 'New York'}, {'name': 'Shekar', 'age': 18, 'city': 'San Francisco'}]\n"
     ]
    }
   ],
   "source": [
    "\"\"\"\n",
    "* Creator: Nighthawk Coding Society\n",
    "Bubble Sort of a List with optimizations\n",
    "\"\"\"\n",
    "\n",
    "# bubble sorts a list of dictionaries, base off of provided key\n",
    "def bubbleSort(list, key):\n",
    "    n = len(list) - 1  # list are indexed 0 to n-1, len is n\n",
    "    \n",
    "    # Traverse through list with i index\n",
    "    for i in range(n):\n",
    "        swapped = False  # optimize code, so it exits if now swaps on inner loop\n",
    "\n",
    "        # Inner traversal using j index\n",
    "        for j in range(n-i):  # n-i as positions on right are in order in bubble\n",
    " \n",
    "            # Swap if the element KeyN is greater KeyN1\n",
    "            keyN = list[j].get(key)\n",
    "            keyN1 = list[j+1].get(key)\n",
    "            if keyN > keyN1:\n",
    "                swapped = True\n",
    "                list[j], list[j + 1] = list[j + 1], list[j]  # single line swap\n",
    "         \n",
    "        if not swapped:  # if no swaps on inner pass, list is sorted\n",
    "            return  # exit function\n",
    "    \n",
    "\n",
    "if __name__ == \"__main__\":\n",
    "    # list/dictionary sample\n",
    "    list_of_people = [\n",
    "    {\"name\": \"Risa\", \"age\": 18, \"city\": \"New York\"},\n",
    "    {\"name\": \"John\", \"age\": 63, \"city\": \"Eugene\"},\n",
    "    {\"name\": \"Shekar\", \"age\": 18, \"city\": \"San Francisco\"},\n",
    "    {\"name\": \"Ryan\", \"age\": 21, \"city\": \"Los Angeles\"}\n",
    "    ]\n",
    "    \n",
    "    # assuming uniform keys, pick 1st row as source of keys\n",
    "    key_row = list_of_people[0]\n",
    "\n",
    "    # print list as defined\n",
    "    print(\"Original\")\n",
    "    print(list_of_people)\n",
    "    \n",
    "    for key in key_row:  # finds each key in the row\n",
    "        print(key)\n",
    "        bubbleSort(list_of_people, key)  # sort list of people\n",
    "        print(list_of_people)"
   ]
  }
 ],
 "metadata": {
  "kernelspec": {
   "display_name": "base",
   "language": "python",
   "name": "python3"
  },
  "language_info": {
   "codemirror_mode": {
    "name": "ipython",
    "version": 3
   },
   "file_extension": ".py",
   "mimetype": "text/x-python",
   "name": "python",
   "nbconvert_exporter": "python",
   "pygments_lexer": "ipython3",
   "version": "3.9.12"
  },
  "orig_nbformat": 4
 },
 "nbformat": 4,
 "nbformat_minor": 2
}
