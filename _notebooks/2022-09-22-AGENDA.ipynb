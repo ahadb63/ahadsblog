{
 "cells": [
  {
   "cell_type": "markdown",
   "metadata": {},
   "source": [
    "# Agenda\n",
    "> work\n",
    "\n",
    "- toc: true \n",
    "- badges: true\n",
    "- comments: true\n",
    "- categories: [agenda]\n"
   ]
  },
  {
   "cell_type": "markdown",
   "metadata": {},
   "source": [
    "9/22/22 Thursday\n",
    "\n",
    "AMLIT\n",
    "- Poem Essay (tommorow at 11:59)\n",
    "\n",
    "Chemistry\n",
    "- none\n",
    "\n",
    "APUSH\n",
    "- Chapter 10 notes\n",
    "- Chapter 10 study\n",
    "\n",
    "Math \n",
    "-  B8 HW\n",
    "- Test Corrections\n",
    "\n",
    "APCOMSCI\n",
    "- none\n",
    "\n",
    "\n",
    "\n"
   ]
  }
 ],
 "metadata": {
  "kernelspec": {
   "display_name": "JavaScript (Node.js)",
   "language": "javascript",
   "name": "javascript"
  },
  "language_info": {
   "name": "javascript",
   "version": "3.9.12"
  },
  "orig_nbformat": 4,
  "vscode": {
   "interpreter": {
    "hash": "ffbc78dc5ed357358f9061e93273b418d0a5d8c7f8a463c0e2f989d33fa7039d"
   }
  }
 },
 "nbformat": 4,
 "nbformat_minor": 2
}
