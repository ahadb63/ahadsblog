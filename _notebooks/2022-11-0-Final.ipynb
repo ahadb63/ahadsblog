{
 "cells": [
  {
   "cell_type": "markdown",
   "metadata": {},
   "source": [
    "# MC Corrections and Final Presentation notes/review\n",
    "> Presentation notes + corrections\n",
    "\n",
    "- toc: true \n",
    "- badges: true\n",
    "- comments: true\n",
    "- categories: [final]"
   ]
  },
  {
   "cell_type": "markdown",
   "metadata": {},
   "source": [
    "## Final Presentation Notes\n",
    "\n",
    "For the final presentations I took notes on Haozuan, Aj, Paaras, and Samarth's group.\n",
    "\n",
    "\n",
    "- Theme of thier website: Motivational Website\n",
    "    - They provided a quote generator\n",
    "    - quotes -included happy quotes, motivational quotes\n",
    "        - (used api)\n",
    "    - They had a tracker/voter-thingy to see how many people disliked or liked the joke\n",
    "    - A counter would tell you the stats of the quote\n",
    "    \n",
    "I think this group did a great job on thier site, it was ver9y detailed and appealing.     "
   ]
  },
  {
   "cell_type": "markdown",
   "metadata": {},
   "source": [
    "### College Board Quiz Corrections\n",
    "\n",
    "- Q5: My answer was A (II only), Correct answer was B(III only)\n",
    "- Q30: My answer was  A (Keeping the numeric values in a list makes it easier to round a number to the nearest integer.) Correct answer is B(Keeping the numeric values in a list makes it easier to apply the same computation to every data element.)\n",
    "- Q34: My answer was C([\"flute\", \"violin\"]), the correct answer was B([\"guitar\", \"drums\", \"bass\"])\n",
    "- Q19: My answer was  B(An overflow error will occur because 4 bits is not large enough to represent either of the values 14 or 15.), The correct answer was C(An overflow error will occur because 4 bits is not large enough to represent 29, the sum of 14 and 15.) \n",
    "- Q20: My answer was B(Four bits are not enough to store the eight directions. Eight bits are needed for the new version of the game.), The correct answer was D(Four bits are enough to store the eight directions.)\n",
    "- Q23: My answer was A(The position of the runner is determined by calculating the time difference between the start and the end of the race and making an estimation based on the runner’s average speed.). The correct answer was D(The position of the runner is sampled at regular intervals to approximate the real-word position, and a sequence of bits is used to represent each sample.)\n",
    "- Q37: My answer was A, the correct answer was B\n",
    "- Q41: My answer was D(40), the correct answer was B(20)\n",
    "- Q45: My answer was A(count1 = 2, count2 = 2). The correct answer is B(count1 = 2, count2 = 3)\n",
    "- Q49: My answer was A(wordword ←concat(reverse(word), word)). The correct asnwer is C(word ←\"on\"word ←concat(reverse(word), word)).\n",
    "\n",
    "    \n"
   ]
  },
  {
   "cell_type": "markdown",
   "metadata": {},
   "source": [
    "\n",
    "![finalquiz](/vscode/ahadsblog/images/CBFINAL.png)\n"
   ]
  }
 ],
 "metadata": {
  "kernelspec": {
   "display_name": "Python 3.9.12 ('base')",
   "language": "python",
   "name": "python3"
  },
  "language_info": {
   "name": "python",
   "version": "3.9.12"
  },
  "orig_nbformat": 4,
  "vscode": {
   "interpreter": {
    "hash": "ffbc78dc5ed357358f9061e93273b418d0a5d8c7f8a463c0e2f989d33fa7039d"
   }
  }
 },
 "nbformat": 4,
 "nbformat_minor": 2
}
