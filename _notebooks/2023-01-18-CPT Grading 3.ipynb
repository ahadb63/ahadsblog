{
 "cells": [
  {
   "attachments": {},
   "cell_type": "markdown",
   "metadata": {},
   "source": [
    "# CPT Grading 3\n",
    "\n",
    "- toc: true \n",
    "- badges: true\n",
    "- comments: true\n",
    "- categories: [CPT3]"
   ]
  },
  {
   "attachments": {},
   "cell_type": "markdown",
   "metadata": {},
   "source": [
    "# Submission 1\n",
    "My Score: \n",
    "\n",
    "[My Rubric](https://github.com/ahadb63/ahadsblog/issues/14)\n",
    "\n",
    "College Board Score: \n",
    "\n",
    "[College Board Rubric](https://drive.google.com/file/d/1HXDauimq8edpT0-aZ2iIujzLdIxtyKMx/view)\n",
    "\n",
    "Reflection:\n",
    "\n",
    "---\n",
    "\n",
    "# Submission 2\n",
    "My Score: \n",
    "\n",
    "[My Rubric](https://github.com/ahadb63/ahadsblog/issues/14)\n",
    "\n",
    "College Board Score: \n",
    "\n",
    "[College Board Rubric](https://drive.google.com/file/d/1HXDauimq8edpT0-aZ2iIujzLdIxtyKMx/view)\n",
    "\n",
    "Reflection: \n",
    "\n",
    "---\n",
    "\n",
    "# Submission 3\n",
    "My Score: \n",
    "\n",
    "[My Rubric](https://github.com/ahadb63/ahadsblog/issues/14)\n",
    "\n",
    "College Board Score: \n",
    "\n",
    "[College Board Rubric](https://drive.google.com/file/d/1HXDauimq8edpT0-aZ2iIujzLdIxtyKMx/view)\n",
    "\n",
    "Reflection: \n",
    "\n",
    "---\n",
    "\n",
    "# Submission 4\n",
    "My Score: \n",
    "\n",
    "[My Rubric](https://github.com/ahadb63/ahadsblog/issues/14)\n",
    "\n",
    "College Board Score: \n",
    "\n",
    "[College Board Rubric](https://drive.google.com/file/d/1HXDauimq8edpT0-aZ2iIujzLdIxtyKMx/view)\n",
    "\n",
    "Reflection: \n",
    "\n",
    "---\n",
    "\n",
    "### takeaway\n"
   ]
  }
 ],
 "metadata": {
  "kernelspec": {
   "display_name": "base",
   "language": "python",
   "name": "python3"
  },
  "language_info": {
   "name": "python",
   "version": "3.9.12 (main, Apr  5 2022, 06:56:58) \n[GCC 7.5.0]"
  },
  "orig_nbformat": 4,
  "vscode": {
   "interpreter": {
    "hash": "ffbc78dc5ed357358f9061e93273b418d0a5d8c7f8a463c0e2f989d33fa7039d"
   }
  }
 },
 "nbformat": 4,
 "nbformat_minor": 2
}
