{
 "cells": [
  {
   "cell_type": "markdown",
   "metadata": {},
   "source": [
    "# Binary Search Lesson 3.11\n",
    "\n",
    "\n",
    "- toc: true \n",
    "- badges: true\n",
    "- comments: true\n",
    "- categories: [binary]\n"
   ]
  },
  {
   "cell_type": "markdown",
   "metadata": {},
   "source": [
    "# Lesson 3.11 Binary Search\n",
    "\n",
    "Goals/Objectives:\n",
    "- detirmine number of iterations required to find vlue in data set.\n",
    "- explain requirements for binary search\n",
    "\n",
    "\n",
    "What is Binary Search?\n",
    "- Binary search is a search algorithm that finds the position of a target value within a sorted array. Binary search compares the target value to the middle element of the array. \n",
    "- An algorithm for iterating to find a value inside a data set\n",
    "\n",
    "About Binary Search:\n",
    "- Binary Search Algorithm starts in the middle of a data set of numbers and eliminates half the data. This process reapeats until the desired value is found or until all elements have been eliminated.\n",
    "- In order to use binary search effectivly and properly, data must be stored in order\n",
    "- "
   ]
  },
  {
   "cell_type": "markdown",
   "metadata": {},
   "source": [
    "Think about how you would you would try to find a certain number in this set.\n",
    "\n",
    "![Number Set](/vscode/ahadsblog/images/NUMBERS.png)\n",
    "/images/NUMBERS.png\n",
    "\n",
    "\n",
    "One way would be to line up the numbers and count them individually untill you find the desired value.\n",
    "\n",
    "When working with large data sets with lots of numbers, methods like these wont work\n",
    "- Instead, a Binary Search would be more effective.\n",
    "\n",
    "![Number Set](/vscode/ahadsblog/images/BinarySearchOrder.png)\n",
    "\n",
    "\n",
    "Here we can see the numbers are set in an increasing order. Setting numbers in an increasing or decreasing is needed for a binary search\n",
    "- As stated before binary seach splits the data set in half then\n",
    "\n",
    "![Number Set](/vscode/ahadsblog/images/BinarySearchTree.png)\n",
    "\n",
    "\n"
   ]
  }
 ],
 "metadata": {
  "kernelspec": {
   "display_name": "Python 3.9.12 ('base')",
   "language": "python",
   "name": "python3"
  },
  "language_info": {
   "name": "python",
   "version": "3.9.12"
  },
  "orig_nbformat": 4,
  "vscode": {
   "interpreter": {
    "hash": "ffbc78dc5ed357358f9061e93273b418d0a5d8c7f8a463c0e2f989d33fa7039d"
   }
  }
 },
 "nbformat": 4,
 "nbformat_minor": 2
}
