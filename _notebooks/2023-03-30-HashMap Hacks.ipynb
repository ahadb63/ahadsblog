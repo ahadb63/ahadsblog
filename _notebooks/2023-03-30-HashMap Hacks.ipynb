{
 "cells": [
  {
   "cell_type": "code",
   "execution_count": 34,
   "metadata": {},
   "outputs": [
    {
     "name": "stdout",
     "output_type": "stream",
     "text": [
      "{'League': 'NHL',\n",
      " 'country': 'North America',\n",
      " 'current season': '2022-2023',\n",
      " 'teams': {1: 'Boston Bruins',\n",
      "           2: 'Chicago Blackhawks',\n",
      "           3: 'Toronto Maple Leafs',\n",
      "           4: 'Los Angeles Kings',\n",
      "           5: 'Edmonton Oliers'}}\n"
     ]
    }
   ],
   "source": [
    "import pprint #import library\n",
    "\n",
    "nhl_teams = {\n",
    "    \"League\": \"NHL\",\n",
    "    \"country\": \"North America\",\n",
    "    \"current season\": '2022-2023',\n",
    "    \"teams\": {\n",
    "        1: \"Boston Bruins\",\n",
    "        2: \"Chicago Blackhawks\",\n",
    "        3: \"Toronto Maple Leafs\",\n",
    "        4: \"Los Angeles Kings\",\n",
    "        5: \"Edmonton Oliers\",\n",
    "        \n",
    "    }\n",
    "}\n",
    "\n",
    "# Printing the dictionary\n",
    "pprint.pprint(nhl_teams)"
   ]
  },
  {
   "cell_type": "code",
   "execution_count": 35,
   "metadata": {},
   "outputs": [
    {
     "name": "stdout",
     "output_type": "stream",
     "text": [
      "{1: 'Boston Bruins',\n",
      " 2: 'Chicago Blackhawks',\n",
      " 3: 'Toronto Maple Leafs',\n",
      " 4: 'Los Angeles Kings',\n",
      " 5: 'Edmonton Oliers'}\n"
     ]
    }
   ],
   "source": [
    "pprint.pprint(nhl_teams.get('teams'))"
   ]
  },
  {
   "cell_type": "code",
   "execution_count": 36,
   "metadata": {},
   "outputs": [
    {
     "name": "stdout",
     "output_type": "stream",
     "text": [
      "'NHL'\n"
     ]
    }
   ],
   "source": [
    "pprint.pprint(nhl_teams.get('League'))"
   ]
  },
  {
   "cell_type": "code",
   "execution_count": 37,
   "metadata": {},
   "outputs": [
    {
     "name": "stdout",
     "output_type": "stream",
     "text": [
      "{'Best Players': ['David Pastarnak',\n",
      "                  'Conner Mcdavid',\n",
      "                  'Auston Mattphews',\n",
      "                  'David Pastarnak',\n",
      "                  'Linus Ullmark',\n",
      "                  'Alex Ovechkin'],\n",
      " 'League': 'NHL',\n",
      " 'country': 'North America',\n",
      " 'current season': '2022-2023',\n",
      " 'teams': {1: 'Boston Bruins',\n",
      "           2: 'Chicago Blackhawks',\n",
      "           3: 'Toronto Maple Leafs',\n",
      "           4: 'Los Angeles Kings',\n",
      "           5: 'Edmonton Oliers'}}\n"
     ]
    }
   ],
   "source": [
    "# adding a value with a new key\n",
    "nhl_teams[\"Best Players\"] = (['David Pastarnak', 'Conner Mcdavid', 'Auston Mattphews', 'David Pastarnak', 'Linus Ullmark', 'Alex Ovechkin'])\n",
    "# What can you change to make sure there are no duplicate players?\n",
    "\n",
    "# Take out a duplicate\n",
    "# Make it into a set\n",
    "\n",
    "# Printing the dictionary\n",
    "pprint.pprint(nhl_teams)"
   ]
  },
  {
   "cell_type": "code",
   "execution_count": 40,
   "metadata": {},
   "outputs": [
    {
     "name": "stdout",
     "output_type": "stream",
     "text": [
      "Original List:  ['David Pastarnak', 'Conner Mcdavid', 'Auston Mattphews', 'David Pastarnak', 'Linus Ullmark', 'Alex Ovechkin']\n",
      "List after removing duplicate elements:  ['Conner Mcdavid', 'Auston Mattphews', 'Linus Ullmark', 'Alex Ovechkin', 'David Pastarnak']\n"
     ]
    }
   ],
   "source": [
    "\n",
    "# removing duplicate elements from the list\n",
    "print(\"Original List: \", nhl_teams['Best Players'])\n",
    "res = [*set(nhl_teams['Best Players'])]\n",
    "print(\"List after removing duplicate elements: \", res)\n"
   ]
  },
  {
   "cell_type": "code",
   "execution_count": 41,
   "metadata": {},
   "outputs": [
    {
     "name": "stdout",
     "output_type": "stream",
     "text": [
      "{'Best Players': ['David Pastarnak',\n",
      "                  'Conner Mcdavid',\n",
      "                  'Auston Mattphews',\n",
      "                  'David Pastarnak',\n",
      "                  'Linus Ullmark',\n",
      "                  'Alex Ovechkin'],\n",
      " 'League': 'NHL',\n",
      " 'country': 'North America',\n",
      " 'current season': '2022-2023',\n",
      " 'teams': {1: 'Boston Bruins',\n",
      "           2: 'Chicago Blackhawks',\n",
      "           3: 'Toronto Maple Leafs',\n",
      "           4: 'Los Angeles Kings',\n",
      "           5: 'Edmonton Oliers',\n",
      "           6: 'New York Rangers'}}\n"
     ]
    }
   ],
   "source": [
    "# Adding a an key-value pair to an existing key \n",
    "nhl_teams[\"teams\"].update({6:\"New York Rangers\"})\n",
    "\n",
    "# How would add an additional team \n",
    "# use .update\n",
    "#  filter to teams, add new number key they type team name\n",
    "\n",
    "# Printing the dictionary\n",
    "pprint.pprint(nhl_teams)"
   ]
  },
  {
   "cell_type": "code",
   "execution_count": 45,
   "metadata": {},
   "outputs": [
    {
     "name": "stdout",
     "output_type": "stream",
     "text": [
      "League: NHL\n",
      "country: North America\n",
      "current season: 2022-2023\n",
      "teams: {1: 'Boston Bruins', 2: 'Chicago Blackhawks', 3: 'Toronto Maple Leafs', 4: 'Los Angeles Kings', 5: 'Edmonton Oliers', 6: 'New York Rangers'}\n",
      "Best Players: ['David Pastarnak', 'Conner Mcdavid', 'Auston Mattphews', 'David Pastarnak', 'Linus Ullmark', 'Alex Ovechkin']\n"
     ]
    }
   ],
   "source": [
    "# Print nhl teams in more readable format\n",
    "for k,v in nhl_teams.items(): # iterate using a for loop for key and value\n",
    "    print(str(k) + \": \" + str(v))\n",
    "\n",
    "# Write your own code to print tracks in readable format\n",
    "\n",
    "# use pprint library"
   ]
  },
  {
   "cell_type": "code",
   "execution_count": 76,
   "metadata": {},
   "outputs": [
    {
     "ename": "KeyboardInterrupt",
     "evalue": "Interrupted by user",
     "output_type": "error",
     "traceback": [
      "\u001b[0;31m---------------------------------------------------------------------------\u001b[0m",
      "\u001b[0;31mKeyboardInterrupt\u001b[0m                         Traceback (most recent call last)",
      "\u001b[1;32m/vscode/ahadsblog/_notebooks/2023-03-30-HashMap Hacks.ipynb Cell 8\u001b[0m in \u001b[0;36m<cell line: 9>\u001b[0;34m()\u001b[0m\n\u001b[1;32m      <a href='vscode-notebook-cell://wsl%2Bubuntu/vscode/ahadsblog/_notebooks/2023-03-30-HashMap%20Hacks.ipynb#X14sdnNjb2RlLXJlbW90ZQ%3D%3D?line=5'>6</a>\u001b[0m     \u001b[39melse\u001b[39;00m:\n\u001b[1;32m      <a href='vscode-notebook-cell://wsl%2Bubuntu/vscode/ahadsblog/_notebooks/2023-03-30-HashMap%20Hacks.ipynb#X14sdnNjb2RlLXJlbW90ZQ%3D%3D?line=6'>7</a>\u001b[0m         pprint\u001b[39m.\u001b[39mpprint(nhl_teams\u001b[39m.\u001b[39mget(search\u001b[39m.\u001b[39mlower()))\n\u001b[0;32m----> <a href='vscode-notebook-cell://wsl%2Bubuntu/vscode/ahadsblog/_notebooks/2023-03-30-HashMap%20Hacks.ipynb#X14sdnNjb2RlLXJlbW90ZQ%3D%3D?line=8'>9</a>\u001b[0m search()\n",
      "\u001b[1;32m/vscode/ahadsblog/_notebooks/2023-03-30-HashMap Hacks.ipynb Cell 8\u001b[0m in \u001b[0;36msearch\u001b[0;34m()\u001b[0m\n\u001b[1;32m      <a href='vscode-notebook-cell://wsl%2Bubuntu/vscode/ahadsblog/_notebooks/2023-03-30-HashMap%20Hacks.ipynb#X14sdnNjb2RlLXJlbW90ZQ%3D%3D?line=1'>2</a>\u001b[0m \u001b[39mdef\u001b[39;00m \u001b[39msearch\u001b[39m():\n\u001b[0;32m----> <a href='vscode-notebook-cell://wsl%2Bubuntu/vscode/ahadsblog/_notebooks/2023-03-30-HashMap%20Hacks.ipynb#X14sdnNjb2RlLXJlbW90ZQ%3D%3D?line=2'>3</a>\u001b[0m     search \u001b[39m=\u001b[39m \u001b[39minput\u001b[39;49m(\u001b[39m\"\u001b[39;49m\u001b[39mWhat would you like to know about the NHL? \u001b[39;49m\u001b[39m\\n\u001b[39;49;00m\u001b[39m For teams type --> Teams\u001b[39;49m\u001b[39m\"\u001b[39;49m)\n\u001b[1;32m      <a href='vscode-notebook-cell://wsl%2Bubuntu/vscode/ahadsblog/_notebooks/2023-03-30-HashMap%20Hacks.ipynb#X14sdnNjb2RlLXJlbW90ZQ%3D%3D?line=3'>4</a>\u001b[0m     \u001b[39mif\u001b[39;00m nhl_teams\u001b[39m.\u001b[39mget(search\u001b[39m.\u001b[39mlower()) \u001b[39m==\u001b[39m \u001b[39mNone\u001b[39;00m:\n\u001b[1;32m      <a href='vscode-notebook-cell://wsl%2Bubuntu/vscode/ahadsblog/_notebooks/2023-03-30-HashMap%20Hacks.ipynb#X14sdnNjb2RlLXJlbW90ZQ%3D%3D?line=4'>5</a>\u001b[0m         \u001b[39mprint\u001b[39m(\u001b[39m\"\u001b[39m\u001b[39mInvalid Search\u001b[39m\u001b[39m\"\u001b[39m)\n",
      "File \u001b[0;32m~/anaconda3/lib/python3.9/site-packages/ipykernel/kernelbase.py:1075\u001b[0m, in \u001b[0;36mKernel.raw_input\u001b[0;34m(self, prompt)\u001b[0m\n\u001b[1;32m   1071\u001b[0m \u001b[39mif\u001b[39;00m \u001b[39mnot\u001b[39;00m \u001b[39mself\u001b[39m\u001b[39m.\u001b[39m_allow_stdin:\n\u001b[1;32m   1072\u001b[0m     \u001b[39mraise\u001b[39;00m StdinNotImplementedError(\n\u001b[1;32m   1073\u001b[0m         \u001b[39m\"\u001b[39m\u001b[39mraw_input was called, but this frontend does not support input requests.\u001b[39m\u001b[39m\"\u001b[39m\n\u001b[1;32m   1074\u001b[0m     )\n\u001b[0;32m-> 1075\u001b[0m \u001b[39mreturn\u001b[39;00m \u001b[39mself\u001b[39;49m\u001b[39m.\u001b[39;49m_input_request(\n\u001b[1;32m   1076\u001b[0m     \u001b[39mstr\u001b[39;49m(prompt),\n\u001b[1;32m   1077\u001b[0m     \u001b[39mself\u001b[39;49m\u001b[39m.\u001b[39;49m_parent_ident[\u001b[39m\"\u001b[39;49m\u001b[39mshell\u001b[39;49m\u001b[39m\"\u001b[39;49m],\n\u001b[1;32m   1078\u001b[0m     \u001b[39mself\u001b[39;49m\u001b[39m.\u001b[39;49mget_parent(\u001b[39m\"\u001b[39;49m\u001b[39mshell\u001b[39;49m\u001b[39m\"\u001b[39;49m),\n\u001b[1;32m   1079\u001b[0m     password\u001b[39m=\u001b[39;49m\u001b[39mFalse\u001b[39;49;00m,\n\u001b[1;32m   1080\u001b[0m )\n",
      "File \u001b[0;32m~/anaconda3/lib/python3.9/site-packages/ipykernel/kernelbase.py:1120\u001b[0m, in \u001b[0;36mKernel._input_request\u001b[0;34m(self, prompt, ident, parent, password)\u001b[0m\n\u001b[1;32m   1117\u001b[0m             \u001b[39mbreak\u001b[39;00m\n\u001b[1;32m   1118\u001b[0m \u001b[39mexcept\u001b[39;00m \u001b[39mKeyboardInterrupt\u001b[39;00m:\n\u001b[1;32m   1119\u001b[0m     \u001b[39m# re-raise KeyboardInterrupt, to truncate traceback\u001b[39;00m\n\u001b[0;32m-> 1120\u001b[0m     \u001b[39mraise\u001b[39;00m \u001b[39mKeyboardInterrupt\u001b[39;00m(\u001b[39m\"\u001b[39m\u001b[39mInterrupted by user\u001b[39m\u001b[39m\"\u001b[39m) \u001b[39mfrom\u001b[39;00m \u001b[39mNone\u001b[39m\n\u001b[1;32m   1121\u001b[0m \u001b[39mexcept\u001b[39;00m \u001b[39mException\u001b[39;00m:\n\u001b[1;32m   1122\u001b[0m     \u001b[39mself\u001b[39m\u001b[39m.\u001b[39mlog\u001b[39m.\u001b[39mwarning(\u001b[39m\"\u001b[39m\u001b[39mInvalid Message:\u001b[39m\u001b[39m\"\u001b[39m, exc_info\u001b[39m=\u001b[39m\u001b[39mTrue\u001b[39;00m)\n",
      "\u001b[0;31mKeyboardInterrupt\u001b[0m: Interrupted by user"
     ]
    }
   ],
   "source": [
    "# Using conditionals to retrieve info\n",
    "def search():\n",
    "    search = input(\"What would you like to know about the NHL? \\n For teams type --> Teams\")\n",
    "    if nhl_teams.get(search.lower()) == None:\n",
    "        print(\"Invalid Search\")\n",
    "    else:\n",
    "        pprint.pprint(nhl_teams.get(search.lower()))\n",
    "\n",
    "search()\n",
    "\n",
    "#\n",
    "#"
   ]
  },
  {
   "cell_type": "code",
   "execution_count": null,
   "metadata": {},
   "outputs": [],
   "source": []
  }
 ],
 "metadata": {
  "kernelspec": {
   "display_name": "base",
   "language": "python",
   "name": "python3"
  },
  "language_info": {
   "codemirror_mode": {
    "name": "ipython",
    "version": 3
   },
   "file_extension": ".py",
   "mimetype": "text/x-python",
   "name": "python",
   "nbconvert_exporter": "python",
   "pygments_lexer": "ipython3",
   "version": "3.9.12"
  },
  "orig_nbformat": 4,
  "vscode": {
   "interpreter": {
    "hash": "ffbc78dc5ed357358f9061e93273b418d0a5d8c7f8a463c0e2f989d33fa7039d"
   }
  }
 },
 "nbformat": 4,
 "nbformat_minor": 2
}
