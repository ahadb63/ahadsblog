{
 "cells": [
  {
   "attachments": {},
   "cell_type": "markdown",
   "metadata": {},
   "source": [
    "# P4-M 4/24 Big Idea 3\n",
    "> Lesson about Big Idea 3\n",
    "author: Finn, Edwin, Zeen, Gene, James, Kush, Luka\n",
    "toc: true\n",
    "comments: true\n",
    "week: 30\n",
    "type: ap\n",
    "categories: [student]\n",
    "layout: base"
   ]
  },
  {
   "attachments": {},
   "cell_type": "markdown",
   "metadata": {},
   "source": [
    "## Introduction: Zeen\n",
    "Hello, my name is zeen and today we will be presenting big idea 3. Our topics include 2d arrays, iteration, and lists and dictionaries.\n",
    "\n",
    "### Objectives\n",
    "Master the concepts of iteration, list, 2d-arrays, Dictionaries, and APIs\n",
    "\n",
    "### Vocab\n",
    "Here is some vocab during the lesson, you should be familar with them already no need for me to read these out, now I will pass the speaking off to Kush\n",
    "\n",
    "\n",
    "\n",
    "- **Iteration**: A process that repates itself\n",
    "- **Array**: Sometimes called a list, can keep strings and intergers inside it\n",
    "- **2D-Array**: A collection of data elements arranged in a grid-like structure with rows and columns\n",
    "- **Mutable**:  the ability to be changed or modified \n",
    "- **Key**: A Singular identifier that is associated with a certin value\n"
   ]
  },
  {
   "attachments": {},
   "cell_type": "markdown",
   "metadata": {},
   "source": [
    "## 1: 2D Array\n",
    "> Tic Tac Toe: Kush Sirohi\n",
    "\n",
    "- What are some examples of 2d Arrays\n",
    "    - A chessboard can be represented as an 8x8 2D array, where each square on the board is a cell in the array.\n",
    "    - A spreadsheet is another example of a 2D array, where each cell is identified by its row and column indices, and contains a value or formula.\n",
    "- What is a modern day game that could be classified as a 2D array\n",
    "- Stardew Valley and ROTMG"
   ]
  },
  {
   "cell_type": "code",
   "execution_count": null,
   "metadata": {},
   "outputs": [],
   "source": [
    "array = [\"Hello\", \"Hi\", \"Whats up\"]\n",
    "twoDArray = [[\"Name\", \"ID\", \"Age\"], [\"Kush\", \"1\", \"16\"], [\"Finn\", \"2\", \"16\"]]\n",
    "\n",
    "print(f\"This is a normal array: {array}\")\n",
    "\n",
    "print(\"This is a 2D array\")\n",
    "for row in twoDArray:\n",
    "    print(row)"
   ]
  },
  {
   "attachments": {},
   "cell_type": "markdown",
   "metadata": {},
   "source": [
    "## How I used 2D Arrays (game example)\n",
    "- Describe a 2D array in your own words\n",
    "- A 2D array is a type of data structure that is organized as a grid or matrix with rows and columns. It can be thought of as a table with rows and columns, where each cell in the table holds a value. Each cell is uniquely identified by its row and column indices, which are used to access or manipulate the value in that cell."
   ]
  },
  {
   "cell_type": "code",
   "execution_count": 1,
   "metadata": {},
   "outputs": [
    {
     "name": "stdout",
     "output_type": "stream",
     "text": [
      "   0   1   2\n",
      "0        \n",
      "1        \n",
      "2        \n",
      "   0   1   2\n",
      "0        \n",
      "1    X   \n",
      "2        \n",
      "That space is already taken. Try again.\n",
      "   0   1   2\n",
      "0        \n",
      "1    X   \n",
      "2        \n",
      "That space is already taken. Try again.\n",
      "   0   1   2\n",
      "0        \n",
      "1    X   \n",
      "2        \n"
     ]
    },
    {
     "ename": "ValueError",
     "evalue": "invalid literal for int() with base 10: ''",
     "output_type": "error",
     "traceback": [
      "\u001b[0;31m---------------------------------------------------------------------------\u001b[0m",
      "\u001b[0;31mValueError\u001b[0m                                Traceback (most recent call last)",
      "\u001b[1;32m/vscode/ahadsblog/_notebooks/2023-04-21-EOYPLAYGROUND.ipynb Cell 6\u001b[0m in \u001b[0;36m<cell line: 72>\u001b[0;34m()\u001b[0m\n\u001b[1;32m     <a href='vscode-notebook-cell://wsl%2Bubuntu/vscode/ahadsblog/_notebooks/2023-04-21-EOYPLAYGROUND.ipynb#W5sdnNjb2RlLXJlbW90ZQ%3D%3D?line=68'>69</a>\u001b[0m             \u001b[39mprint\u001b[39m(\u001b[39m\"\u001b[39m\u001b[39mThat space is already taken. Try again.\u001b[39m\u001b[39m\"\u001b[39m)\n\u001b[1;32m     <a href='vscode-notebook-cell://wsl%2Bubuntu/vscode/ahadsblog/_notebooks/2023-04-21-EOYPLAYGROUND.ipynb#W5sdnNjb2RlLXJlbW90ZQ%3D%3D?line=70'>71</a>\u001b[0m \u001b[39m# Start the game\u001b[39;00m\n\u001b[0;32m---> <a href='vscode-notebook-cell://wsl%2Bubuntu/vscode/ahadsblog/_notebooks/2023-04-21-EOYPLAYGROUND.ipynb#W5sdnNjb2RlLXJlbW90ZQ%3D%3D?line=71'>72</a>\u001b[0m play_game()\n",
      "\u001b[1;32m/vscode/ahadsblog/_notebooks/2023-04-21-EOYPLAYGROUND.ipynb Cell 6\u001b[0m in \u001b[0;36mplay_game\u001b[0;34m()\u001b[0m\n\u001b[1;32m     <a href='vscode-notebook-cell://wsl%2Bubuntu/vscode/ahadsblog/_notebooks/2023-04-21-EOYPLAYGROUND.ipynb#W5sdnNjb2RlLXJlbW90ZQ%3D%3D?line=47'>48</a>\u001b[0m print_board()\n\u001b[1;32m     <a href='vscode-notebook-cell://wsl%2Bubuntu/vscode/ahadsblog/_notebooks/2023-04-21-EOYPLAYGROUND.ipynb#W5sdnNjb2RlLXJlbW90ZQ%3D%3D?line=48'>49</a>\u001b[0m \u001b[39m# Get the player’s move\u001b[39;00m\n\u001b[0;32m---> <a href='vscode-notebook-cell://wsl%2Bubuntu/vscode/ahadsblog/_notebooks/2023-04-21-EOYPLAYGROUND.ipynb#W5sdnNjb2RlLXJlbW90ZQ%3D%3D?line=49'>50</a>\u001b[0m row \u001b[39m=\u001b[39m \u001b[39mint\u001b[39;49m(\u001b[39minput\u001b[39;49m(\u001b[39mf\u001b[39;49m\u001b[39m\"\u001b[39;49m\u001b[39m{\u001b[39;49;00mplayer\u001b[39m}\u001b[39;49;00m\u001b[39m'\u001b[39;49m\u001b[39ms turn. Enter row (0-2): \u001b[39;49m\u001b[39m\"\u001b[39;49m))\n\u001b[1;32m     <a href='vscode-notebook-cell://wsl%2Bubuntu/vscode/ahadsblog/_notebooks/2023-04-21-EOYPLAYGROUND.ipynb#W5sdnNjb2RlLXJlbW90ZQ%3D%3D?line=50'>51</a>\u001b[0m col \u001b[39m=\u001b[39m \u001b[39mint\u001b[39m(\u001b[39minput\u001b[39m(\u001b[39mf\u001b[39m\u001b[39m\"\u001b[39m\u001b[39m{\u001b[39;00mplayer\u001b[39m}\u001b[39;00m\u001b[39m'\u001b[39m\u001b[39ms turn. Enter column (0-2): \u001b[39m\u001b[39m\"\u001b[39m))\n\u001b[1;32m     <a href='vscode-notebook-cell://wsl%2Bubuntu/vscode/ahadsblog/_notebooks/2023-04-21-EOYPLAYGROUND.ipynb#W5sdnNjb2RlLXJlbW90ZQ%3D%3D?line=51'>52</a>\u001b[0m \u001b[39m# Check if the move is valid\u001b[39;00m\n",
      "\u001b[0;31mValueError\u001b[0m: invalid literal for int() with base 10: ''"
     ]
    }
   ],
   "source": [
    "board = [[' ', ' ', ' '],\n",
    "         [' ', ' ', ' '],\n",
    "         [' ', ' ', ' ']]\n",
    "         \n",
    "# Function to print the current state of the game board\n",
    "def print_board():\n",
    "    print(\"   0   1   2\")\n",
    "    for i in range(3):\n",
    "        print(i, end='  ')\n",
    "        for j in range(3):\n",
    "            print(board[i][j], end=' ')\n",
    "        print()\n",
    "\n",
    "# Function to check if a player has won the game\n",
    "def check_win(player):\n",
    "    # Check rows for a win\n",
    "    for i in range(3):\n",
    "        if board[i][0] == player and board[i][1] == player and board[i][2] == player:\n",
    "            return True\n",
    "    # Check columns for a win\n",
    "    for j in range(3):\n",
    "        if board[0][j] == player and board[1][j] == player and board[2][j] == player:\n",
    "            return True\n",
    "    # Check diagonals for a win\n",
    "    if board[0][0] == player and board[1][1] == player and board[2][2] == player:\n",
    "        return True\n",
    "    if board[0][2] == player and board[1][1] == player and board[2][0] == player:\n",
    "        return True\n",
    "    # If no win condition is met, return False\n",
    "    return False\n",
    "\n",
    "# Function to check if the game is a tie\n",
    "def check_tie():\n",
    "    for i in range(3):\n",
    "        for j in range(3):\n",
    "            if board[i][j] == ' ':\n",
    "                return False\n",
    "    return True\n",
    "\n",
    "# Function to play the game\n",
    "def play_game():\n",
    "    # Initialize player and turn counter\n",
    "    player = 'X'\n",
    "    turns = 0\n",
    "    # Loop until the game is over\n",
    "    while True:\n",
    "        # Print the current state of the board\n",
    "        print_board()\n",
    "        # Get the player’s move\n",
    "        row = int(input(f\"{player}'s turn. Enter row (0-2): \"))\n",
    "        col = int(input(f\"{player}'s turn. Enter column (0-2): \"))\n",
    "        # Check if the move is valid\n",
    "        if board[row][col] == ' ':\n",
    "            board[row][col] = player\n",
    "            turns += 1\n",
    "            # Check if the player has won\n",
    "            if check_win(player):\n",
    "                print_board()\n",
    "                print(f\"{player} wins!\")\n",
    "                return\n",
    "            # Check if the game is a tie\n",
    "            if check_tie():\n",
    "                print_board()\n",
    "                print(\"It's a tie!\")\n",
    "                return\n",
    "            # Switch players\n",
    "            player = 'O' if player == 'X' else 'X'\n",
    "        else:\n",
    "            print(\"That space is already taken. Try again.\")\n",
    "\n",
    "# Start the game\n",
    "play_game()\n"
   ]
  },
  {
   "attachments": {},
   "cell_type": "markdown",
   "metadata": {},
   "source": [
    "## 2: Iteration\n",
    "> Robot Game: Finn Carpenter\n",
    "- What is the defenition of iteration in your own words\n",
    "- Iteration refers to the process of repeatedly executing a set of instructions or a block of code until a specific condition is met or a desired result is achieved. "
   ]
  },
  {
   "cell_type": "code",
   "execution_count": 2,
   "metadata": {},
   "outputs": [
    {
     "name": "stdout",
     "output_type": "stream",
     "text": [
      "hi\n",
      "hi\n",
      "hi\n",
      "hi\n",
      "hi\n",
      "hello\n",
      "hello\n",
      "hello\n",
      "hello\n",
      "hello\n",
      "hello\n",
      "1\n",
      "2\n",
      "3\n",
      "4\n",
      "5\n"
     ]
    }
   ],
   "source": [
    "### Different methods of iteration\n",
    "\n",
    "times = 0\n",
    "numbers = [1, 2, 3, 4, 5]\n",
    "\n",
    "## Loops\n",
    "for i in range(5):\n",
    "    print(\"hi\")\n",
    "\n",
    "\n",
    "while times <= 5:\n",
    "    print(\"hello\")\n",
    "    times = times + 1\n",
    "\n",
    "## Function with a parameters\n",
    "def print_numbers(x):\n",
    "    for num in x:\n",
    "        print(num)\n",
    "\n",
    "print_numbers(numbers)\n",
    "\n"
   ]
  },
  {
   "attachments": {},
   "cell_type": "markdown",
   "metadata": {},
   "source": [
    "## Iteration Game\n",
    "- [Link to the game](https://f1nnc.github.io/Playground/robot)\n",
    "- Play the levels (only play the first 2 in class)\n",
    "- Explain how the game relates to itertation\n",
    "- "
   ]
  },
  {
   "attachments": {},
   "cell_type": "markdown",
   "metadata": {},
   "source": [
    "## How I used iteration (game example)\n",
    "- What parts of the code use iteration\n",
    "- The movement segments (up down right left) use nested iteration"
   ]
  },
  {
   "cell_type": "code",
   "execution_count": null,
   "metadata": {
    "vscode": {
     "languageId": "javascript"
    }
   },
   "outputs": [],
   "source": [
    "function run() {\n",
    "    // Read input values from the HTML document and convert them to integers.\n",
    "    UPinput = parseInt(document.getElementById(\"up\").value);\n",
    "    DOWNinput = parseInt(document.getElementById(\"down\").value);\n",
    "    LEFTinput = parseInt(document.getElementById(\"left\").value);\n",
    "    RIGHTinput = parseInt(document.getElementById(\"right\").value);\n",
    "    looper = parseInt(document.getElementById(\"loop\").value);\n",
    "\n",
    "    runner.style.opacity = 0;\n",
    "    \n",
    "\n",
    "    // Create an array to hold the movements.\n",
    "    let movements = [];\n",
    "\n",
    "    // Push 'up' movements to the array.\n",
    "    for (let l = 0; l < looper; l++) {\n",
    "        for (let k = 0; k < UPinput; k++) {\n",
    "            movements.push(up);\n",
    "        }\n",
    "\n",
    "        // Push 'down' movements to the array.\n",
    "        for (let i = 0; i < DOWNinput; i++) {\n",
    "            movements.push(down);\n",
    "        }\n",
    "\n",
    "        // Push 'left' movements to the array.\n",
    "        for (let a = 0; a < LEFTinput; a++) {\n",
    "            movements.push(left);\n",
    "        }\n",
    "\n",
    "        // Push 'right' movements to the array.\n",
    "        for (let c = 0; c < RIGHTinput; c++) {\n",
    "            movements.push(right);\n",
    "        }\n",
    "    }\n",
    "\n",
    "\n",
    "    // Set the initial index to 0 and execute each movement in sequence with a delay of 800 milliseconds.\n",
    "    let index = 0;\n",
    "    let intervalId = setInterval(() => {\n",
    "        // If the end of the movements array has been reached, stop executing movements.\n",
    "        if (index >= movements.length) {\n",
    "            clearInterval(intervalId);\n",
    "            win(); // Call the win function.\n",
    "            return;\n",
    "        }\n",
    "        movements[index](); // Execute the movement at the current index.\n",
    "        index++; // Increment the index.\n",
    "    }, 800);\n",
    "}"
   ]
  },
  {
   "attachments": {},
   "cell_type": "markdown",
   "metadata": {},
   "source": [
    "## 3: List and Dictionaries\n",
    "> Scramble Game: Edwin \n"
   ]
  },
  {
   "cell_type": "code",
   "execution_count": null,
   "metadata": {},
   "outputs": [],
   "source": [
    "# List and Dictonary Example\n",
    "\n",
    "List = [1, 2, 3, 4, 5]\n",
    "Dict = {\n",
    "    1: \"Hi\",\n",
    "    2: \"Hello\",\n",
    "    3: \"Whats Up\"\n",
    "}\n",
    "\n",
    "# Why Do I call 0 for the first thing in a list, but 1 for Dict\n",
    "#\n",
    "\n",
    "print(List[0])\n",
    "print(Dict[1])"
   ]
  },
  {
   "attachments": {},
   "cell_type": "markdown",
   "metadata": {},
   "source": [
    "## How I used a dictonary to make a game\n",
    "> Memory Game: James\n",
    "- [Link](https://f1nnc.github.io/Playground/memory2)\n",
    "- ![Code](https://nighthawkcoders.github.io/APCSP/images/jamescode.png)"
   ]
  },
  {
   "attachments": {},
   "cell_type": "markdown",
   "metadata": {},
   "source": [
    "## How I used List to make a game\n",
    "- Explain which parts of the code use lists\n",
    "- Word lists is a list\n",
    "- Explain what list manipulation is happening in that part\n",
    "- The word is being scrambled and the list is edited"
   ]
  },
  {
   "cell_type": "code",
   "execution_count": null,
   "metadata": {},
   "outputs": [],
   "source": [
    "import random\n",
    "\n",
    "word_list = [\"python\", \"computer\", \"programming\", \"algorithm\", \"database\", \"function\", \"variable\", \"loop\", \"iteration\", \"array\", \"mutable\", \"insertion\", \"deletion\", \"key\", \"API\"]\n",
    "\n",
    "word = random.choice(word_list)\n",
    "\n",
    "scrambled_word = \"\".join(random.sample(word, len(word)))\n",
    "\n",
    "print(f\"Unscramble the following Computer Science Word: {scrambled_word}\")\n",
    "\n",
    "hints = 1\n",
    "guesses = 1\n",
    "guess = \"\"\n",
    "\n",
    "while guess != word and guesses <= 4:\n",
    "    guess = input(\"What's the unscrambled word? \").lower()\n",
    "    if guess != word:\n",
    "        print(\"Sorry, that's not the word. Try again!\")\n",
    "        if guesses == 1:\n",
    "            guesses += 1\n",
    "        elif guesses == 2:\n",
    "            print(f\"Hint 1: The first letter of the word is '{word[0]}'\")\n",
    "            guesses += 1\n",
    "        elif guesses == 3:\n",
    "            print(f\"Hint 2: The second letter of the word is '{word[1]}'\")\n",
    "            guesses += 1\n",
    "        else:\n",
    "            print(f\"All 4 Guesses have been used, you didn't unscramble the word, the word was {word}\")\n",
    "            guesses += 1\n",
    "    else:\n",
    "        print(\"Congratulations, you unscrambled the word!\")"
   ]
  },
  {
   "attachments": {},
   "cell_type": "markdown",
   "metadata": {},
   "source": [
    "# Hacks: Your Score/1\n",
    "\n",
    "\n",
    "## General 0.3\n",
    "- Copy this noteboook into your personal fastpages\n",
    "- Answer all questions\n",
    "    - put the question in a new markdown block (so we can grade faster)\n",
    "\n",
    "## Iteration 0.2 (can get up to 0.23)\n",
    "- Get to level 5\n",
    "    - Take ScreenShots of your name inside the box an put them in your ticket\n",
    "    - Create a code segment with iteration that does something cool\n",
    "\n",
    "## 2D array 0.2 (can get up to 0.23)\n",
    "- Explain how the tic tac toe game works\n",
    "- Give 3 Examples of games that can be made from 2D arrays\n",
    "\n",
    "## List and Dictionaries 0.2 (can get up to 0.23)\n",
    "- Explain the differences between Lists and Dictionaries\n",
    "- Make a code block that manipulates either a list or a dictionary"
   ]
  },
  {
   "attachments": {},
   "cell_type": "markdown",
   "metadata": {},
   "source": [
    "# my hacks"
   ]
  },
  {
   "attachments": {},
   "cell_type": "markdown",
   "metadata": {},
   "source": [
    "### General Hacks\n",
    "\n",
    "\n",
    "> Tic Tac Toe: Kush Sirohi\n",
    "\n",
    "- What are some examples of 2d Arrays\n",
    "    - A chessboard can be represented as an 8x8 2D array, where each square on the board is a cell in the array.\n",
    "    - A spradsheet is another example of a 2D array, where each cell is identified by its row and column indices, and contains a value or formula.\n",
    "- What is a modern day game that could be classified as a 2D array\n",
    "- Stardew Valley and ROTMG\n",
    "\n",
    "- Describe a 2D array in your own words\n",
    "- A 2D array is a type of data structure that is organized as a grid or matrix with rows and columns. It can be thought of as a table with rows and columns, where each cell in the table holds a value. Each cell is uniquely identified by its row and column indices, which are used to access or manipulate the value in that cell.\n",
    "\n",
    "> Robot Game: Finn Carpenter\n",
    "- What is the defenition of iteration in your own words\n",
    "- Iteration refers to the process of repeatedly executing a set of instructions or a block of code until a specific condition is met or a desired result is achieved. \n",
    "\n",
    "- What parts of the code use iteration\n",
    "- The movement segments (up down right left) use nested iteration\n",
    "\n",
    "- Explain which parts of the code use lists\n",
    "- Word lists is a list\n",
    "- Explain what list manipulation is happening in that part\n",
    "- The word is being scrambled and the list is edited"
   ]
  },
  {
   "attachments": {},
   "cell_type": "markdown",
   "metadata": {},
   "source": [
    "### Iteration Hacks\n",
    "\n",
    "![](code_block.png)"
   ]
  },
  {
   "cell_type": "code",
   "execution_count": 5,
   "metadata": {},
   "outputs": [
    {
     "name": "stdout",
     "output_type": "stream",
     "text": [
      "1\t2\t3\t4\t5\t6\t7\t8\t9\t10\t\n",
      "2\t4\t6\t8\t10\t12\t14\t16\t18\t20\t\n",
      "3\t6\t9\t12\t15\t18\t21\t24\t27\t30\t\n",
      "4\t8\t12\t16\t20\t24\t28\t32\t36\t40\t\n",
      "5\t10\t15\t20\t25\t30\t35\t40\t45\t50\t\n",
      "6\t12\t18\t24\t30\t36\t42\t48\t54\t60\t\n",
      "7\t14\t21\t28\t35\t42\t49\t56\t63\t70\t\n",
      "8\t16\t24\t32\t40\t48\t56\t64\t72\t80\t\n",
      "9\t18\t27\t36\t45\t54\t63\t72\t81\t90\t\n",
      "10\t20\t30\t40\t50\t60\t70\t80\t90\t100\t\n"
     ]
    }
   ],
   "source": [
    "for i in range(1, 11):\n",
    "    for j in range(1, 11):\n",
    "        print(i * j, end=\"\\t\")\n",
    "    print()\n",
    "# prints times table"
   ]
  },
  {
   "attachments": {},
   "cell_type": "markdown",
   "metadata": {},
   "source": [
    "### 2D array Hacks\n",
    "\n",
    "Tic-Tac-Toe - A classic two-player game that is played on a 3x3 grid of cells. Each player takes turns placing their symbol (either X or O) in an empty cell. The first player to get three of their symbols in a row (either horizontally, vertically, or diagonally) wins the game.\n",
    "\n",
    "Minesweeper - A single-player game in which the player must clear a rectangular grid of cells that contains hidden mines. Each cell either contains a mine or a number indicating how many mines are adjacent to that cell. The player must use this information to deduce the location of the mines and clear all the safe cells without detonating any mines.\n",
    "\n",
    "#### Tic Tac Toe\n",
    "\n",
    "The play_game() function initializes the game board as a 2D array with empty cells represented by spaces. It then enters into a loop that continues until the game is over (either a win or a tie). In each iteration of the loop, it prints the current state of the board using the print_board() function and prompts the current player for their move. The player's move is represented as a row and column index on the game board.\n",
    "\n",
    "The function then checks if the move is valid (i.e., the chosen cell is empty). If the move is valid, it updates the game board with the player's symbol and checks if the player has won using the check_win() function. If the game is not over, it checks if the game is a tie using the check_tie() function and switches to the other player's turn if the game is still ongoing.\n",
    "\n"
   ]
  },
  {
   "attachments": {},
   "cell_type": "markdown",
   "metadata": {},
   "source": [
    "### List and Dictionaries \n",
    "\n",
    "In summary, lists and dictionaries are both data structures in Python, but they differ in their indexing, mutability, representation, and use cases. Lists are ordered collections of elements, identified by their position or index in the list, and are useful for homogeneous data and operations such as sorting and filtering. Dictionaries are unordered collections of key-value pairs, identified by their unique key, and are useful for heterogeneous data and operations such as lookup and mapping. Lists are represented using square brackets and dictionaries using curly braces. Lists are mutable, and so are dictionaries, but keys in dictionaries must be immutable.\n",
    "\n",
    "\n"
   ]
  },
  {
   "cell_type": "code",
   "execution_count": 6,
   "metadata": {},
   "outputs": [
    {
     "name": "stdout",
     "output_type": "stream",
     "text": [
      "{'Alice': 25, 'Bob': 30, 'Charlie': 35, 'David': 40}\n",
      "{'Alice': 25, 'Bob': 30, 'David': 40}\n",
      "{'Alice': 25, 'Bob': 35, 'David': 40}\n"
     ]
    }
   ],
   "source": [
    "# create a dictionary of names and ages\n",
    "ages = {'Alice': 25, 'Bob': 30, 'Charlie': 35}\n",
    "\n",
    "# add a new key-value pair to the dictionary\n",
    "ages['David'] = 40\n",
    "\n",
    "# print the updated dictionary\n",
    "print(ages)  # Output: {'Alice': 25, 'Bob': 30, 'Charlie': 35, 'David': 40}\n",
    "\n",
    "# remove a key-value pair from the dictionary\n",
    "del ages['Charlie']\n",
    "\n",
    "# print the updated dictionary\n",
    "print(ages)  # Output: {'Alice': 25, 'Bob': 30, 'David': 40}\n",
    "\n",
    "# update the value of an existing key in the dictionary\n",
    "ages['Bob'] = 35\n",
    "\n",
    "# print the updated dictionary\n",
    "print(ages)  # Output: {'Alice': 25, 'Bob': 35, 'David': 40}\n"
   ]
  },
  {
   "cell_type": "markdown",
   "metadata": {},
   "source": []
  }
 ],
 "metadata": {
  "kernelspec": {
   "display_name": "base",
   "language": "python",
   "name": "python3"
  },
  "language_info": {
   "codemirror_mode": {
    "name": "ipython",
    "version": 3
   },
   "file_extension": ".py",
   "mimetype": "text/x-python",
   "name": "python",
   "nbconvert_exporter": "python",
   "pygments_lexer": "ipython3",
   "version": "3.9.12"
  },
  "orig_nbformat": 4
 },
 "nbformat": 4,
 "nbformat_minor": 2
}
