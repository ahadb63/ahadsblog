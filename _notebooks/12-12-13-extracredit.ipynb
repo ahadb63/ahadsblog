{
 "cells": [
  {
   "attachments": {},
   "cell_type": "markdown",
   "metadata": {},
   "source": [
    "# Kathyleen Beveridge\n",
    "- worked at qualcomm (2005-2018)\n",
    "- Worked at HP (1996-2004)\n",
    "- Works at Thermo Fisher Scientific\n",
    "- Born in Vietnam and moved to US\n",
    "- Lived in spain and san jose\n",
    " ## Company statements\n",
    " HP: create technology that make lifes better for everyone\n",
    " Qualcomm: Inventing new tech the world love\n",
    " Fischer Scienticif: Enable our\n",
    "\n",
    " - all companies create technology for the greater of the people."
   ]
  },
  {
   "cell_type": "code",
   "execution_count": null,
   "metadata": {},
   "outputs": [],
   "source": []
  }
 ],
 "metadata": {
  "language_info": {
   "name": "python"
  },
  "orig_nbformat": 4
 },
 "nbformat": 4,
 "nbformat_minor": 2
}
