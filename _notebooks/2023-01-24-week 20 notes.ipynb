{
 "cells": [
  {
   "attachments": {},
   "cell_type": "markdown",
   "metadata": {},
   "source": [
    "# 5.1 Beneficial and Harmful Effects/ 5.2 Digital Divide (1/24/23)\n",
    "\n",
    "- toc: true \n",
    "- badges: true\n",
    "- comments: true\n",
    "- categories: [5.1 notes, 5.2 notes]"
   ]
  },
  {
   "attachments": {},
   "cell_type": "markdown",
   "metadata": {},
   "source": [
    "## Open AI and ChatGPT - Pros and Cons\n",
    "- Private company (cant buy stock)\n",
    "- ChatGPT is a disruptive technology\n",
    "    - changing the way we do things\n",
    "- ChatGPT may disrupt comapnies like Google\n",
    "    - Google gets payed of ads from google search\n",
    "    - chat gpt gives more straight forward answers with less clicks compared to google.\n",
    "- Google will have to change thier platform and thier revenue model.\n",
    "- Schools are banning ChatGPT\n",
    "    - Positive: Kids stop cheating, kids arent relying on chatgpt to do thier work.\n",
    "    - Cons: Creativity is taken away. Chat GPT is just like google but quicker and more effiecnt (in terms of what kids are using it for like searching answers/studying)\n",
    "    \n",
    "### Our Project\n",
    "Benefits of our project:\n",
    "\n",
    "   -  Entertaining for the user if they are bored\n",
    "   -  It’s a good way to spend time with friends or family and have fun together\n",
    "   -  It’s a learning experience for everyone involved\n",
    "\n",
    "Potential con of our project:\n",
    "\n",
    " -  It may be slightly buggy (it was developed by high schoolers)\n",
    " -  People can procrastinate and play our games\n",
    "\n"
   ]
  },
  {
   "attachments": {},
   "cell_type": "markdown",
   "metadata": {},
   "source": [
    "### Dopamine Issues\n",
    "- Modern technolgy has led to an easy acces of dopamine\n",
    "- Easy access to dopamine raises things liek stress levels and it is hard to find other things fun after that\n",
    "- Social Media and digital companies pray of the fact that people, especially kids, get addicted to thier apps such as tiktok\n",
    "\n",
    "#### Personal\n",
    "- I think I use my phone a little too much but it is nothing threatening seeing I play sports, maintain good grades and have a social life.\n",
    "- I should consider decreasing screen time to combat procrastination"
   ]
  },
  {
   "attachments": {},
   "cell_type": "markdown",
   "metadata": {},
   "source": [
    "## Digital Divide\n",
    "- Unlike our school, lots of others have little to the technology we have\n",
    "    - we take our technology for granted\n",
    "- When the pandemic hit and digital learning increased, people who didnt have constant access to internet or technology suffered.\n",
    "\n",
    "\n",
    "### Digital empowerment\n",
    "1. Develop digital literacy skills\n",
    "\n",
    "2. Build a strong online presence\n",
    "\n",
    "3. Protect personal data\n",
    "\n",
    "4. Stay informed\n",
    "\n",
    "5. Network and collaborate\n",
    "\n",
    "6. Continuously learn and adapt"
   ]
  },
  {
   "attachments": {},
   "cell_type": "markdown",
   "metadata": {},
   "source": [
    "## How does someone that is empowered help someone that is not empowered? Describe something you could do at Del Norte HS.\n",
    "- If someone is more digitally empowered than another. THe obvious step is to share. Sharing resoucres such as wifi or laptops or iphones can help digitally empower another student.\n",
    "- Another way of helping without directly providing something physical is helping/teaching. Doing things like signing up for tutorial or asking questions from more knowledgable peers will help one increare there digital power\n",
    "\n",
    "## Is paper or red tape blocking digital empowerment? Are there such barriers at Del Norte? Elsewhere? \n",
    "-  Paper and red tape can slow down and stop digital empowerment becuase they make it harder to access information. These older systems take up more time and are less effiecnt as well as less knowledgeable. Digitilizing information makes it more convientint and effecient for others.\n",
    "- Example : Blocks on websites on PUSD Wifi\n",
    "    - some neccesary websites and applications require the bypassing of the school wifi."
   ]
  }
 ],
 "metadata": {
  "kernelspec": {
   "display_name": "base",
   "language": "python",
   "name": "python3"
  },
  "language_info": {
   "name": "python",
   "version": "3.9.12 (main, Apr  5 2022, 06:56:58) \n[GCC 7.5.0]"
  },
  "orig_nbformat": 4,
  "vscode": {
   "interpreter": {
    "hash": "ffbc78dc5ed357358f9061e93273b418d0a5d8c7f8a463c0e2f989d33fa7039d"
   }
  }
 },
 "nbformat": 4,
 "nbformat_minor": 2
}
