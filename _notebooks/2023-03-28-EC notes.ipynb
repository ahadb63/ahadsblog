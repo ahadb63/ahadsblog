{
 "cells": [
  {
   "attachments": {},
   "cell_type": "markdown",
   "metadata": {},
   "source": [
    "# 3/28/23 Extra Credit Notes\n",
    "> CSSM abbasadors give presentations\n",
    "- toc: true\n",
    "- categories: []\n",
    "- type: notes\n"
   ]
  },
  {
   "attachments": {},
   "cell_type": "markdown",
   "metadata": {},
   "source": [
    "## Notes\n",
    "- Ambasadors are from Cal state san marcos\n",
    "- 'grades dont define you'\n",
    "- Computer science is used in fields outside of CS majors\n",
    "    - coding is very versatile and used in many feilds\n",
    "- Cal state is the nationla leader in social mobility\n",
    "- Applied physics, cyber security, computer engineering; constanly updating cirriculum and classes at cal state san marcos\n",
    "- joining clubs is important when doing an undergrad \n",
    "    - Lots of vareity in clubs at cal state san marcos\n",
    "- Lots of internship oppurtunities at cal state\n",
    "    - networking is key to having a good career and clubs and internships are a good way to network\n",
    "    - try to avoid unpaid internships\n",
    "    - apply even if you feel underqualified - worse thing worse is a no\n",
    "    - ask faculty members to read essay and ask others for help.\n",
    "- Lots of summer programs at cal state san marcos that offer pay\n",
    "- Grants are government money to get you to school \n",
    "- Scholarships are private money that helps you get to school\n",
    "- It is on the student to find a scholarship\n",
    "- Loans\n",
    "    - avoid getting loan in general\n",
    "    - Unsubsidized loan: dont have to worry on intrest on loan, puts some intrest on loan\n",
    "    - subsidized loan: partially funded by gov\n",
    "- Many cs majors go into military industrial complex after graduating \n",
    "- sometimes you get payed to go to gradute school\n",
    "\n"
   ]
  }
 ],
 "metadata": {
  "language_info": {
   "name": "python"
  },
  "orig_nbformat": 4
 },
 "nbformat": 4,
 "nbformat_minor": 2
}
