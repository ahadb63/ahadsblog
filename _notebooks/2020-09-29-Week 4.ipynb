{
 "cells": [
  {
   "cell_type": "markdown",
   "metadata": {},
   "source": [
    "# Week 4"
   ]
  },
  {
   "cell_type": "markdown",
   "metadata": {},
   "source": [
    "```\n",
    "# Week 4\n",
    "> Week 4 assignments\n",
    "\n",
    "\n",
    "- toc: true\n",
    "- badges: true\n",
    "- comments: true\n",
    "- categories: [Flask, markdown]\n",
    "```"
   ]
  },
  {
   "cell_type": "markdown",
   "metadata": {},
   "source": [
    "[Flask Web Page Video](https://www.youtube.com/watch?v=MfXMaHytZDI)\n",
    " - Collaboration\n",
    "    - Group is new, none of us know each other well\n",
    "    - Variance in gender and culture\n",
    "    - United under intrest for comsci\n",
    " - Potential Group Project Ideas\n",
    "   - Trivia game\n",
    "   - Mafia game\n",
    "   - Media database\n",
    "      - characters\n",
    "      - movies \n",
    "      - anime"
   ]
  }
 ],
 "metadata": {
  "kernelspec": {
   "display_name": "Python 3.9.12 ('base')",
   "language": "python",
   "name": "python3"
  },
  "language_info": {
   "name": "python",
   "version": "3.9.12"
  },
  "orig_nbformat": 4,
  "vscode": {
   "interpreter": {
    "hash": "ffbc78dc5ed357358f9061e93273b418d0a5d8c7f8a463c0e2f989d33fa7039d"
   }
  }
 },
 "nbformat": 4,
 "nbformat_minor": 2
}
