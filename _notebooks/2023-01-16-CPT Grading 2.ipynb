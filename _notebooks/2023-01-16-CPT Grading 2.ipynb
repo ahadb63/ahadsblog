{
 "cells": [
  {
   "attachments": {},
   "cell_type": "markdown",
   "metadata": {},
   "source": [
    "# CPT Grading 2\n",
    "\n",
    "- toc: true \n",
    "- badges: true\n",
    "- comments: true\n",
    "- categories: [CPT]"
   ]
  },
  {
   "attachments": {},
   "cell_type": "markdown",
   "metadata": {},
   "source": [
    "# Submission 1\n",
    "My Score: 1/6\n",
    "\n",
    "[My Rubric](https://github.com/ahadb63/ahadsblog/issues/11)\n",
    "\n",
    "College Board Score: 1/6\n",
    "\n",
    "[College Board Rubric](https://drive.google.com/file/d/1HXDauimq8edpT0-aZ2iIujzLdIxtyKMx/view)\n",
    "\n",
    "Reflection: My scoring and the college board scoring were similar on this submission. I recognized that the submission was missing a lot of components so they werent able to earn full points.\n",
    "\n",
    "---\n",
    "\n",
    "# Submission 2\n",
    "My Score: 6/6\n",
    "\n",
    "[My Rubric](https://github.com/ahadb63/ahadsblog/issues/11)\n",
    "\n",
    "College Board Score: 6/6\n",
    "\n",
    "[College Board Rubric](https://drive.google.com/file/d/1HXDauimq8edpT0-aZ2iIujzLdIxtyKMx/view)\n",
    "\n",
    "Reflection: My scoring and the college board scoring were the same. I felt like this submission was checking all the boxes as I was going through the rubric. I can use this as an example and for tips so that I also get full points.\n",
    "\n",
    "---\n",
    "\n",
    "# Submission 3\n",
    "My Score: 6/6\n",
    "\n",
    "[My Rubric](https://github.com/ahadb63/ahadsblog/issues/11)\n",
    "\n",
    "College Board Score: 5/6\n",
    "\n",
    "[College Board Rubric](https://drive.google.com/file/d/1HXDauimq8edpT0-aZ2iIujzLdIxtyKMx/view)\n",
    "\n",
    "Reflection: Again my score and college board's score are very similar this time mine being one points too high. This means that I recognized most of the good work the submission had but I might have went to easy on them and awarded another point\n",
    "\n",
    "---\n",
    "\n",
    "# Submission 4\n",
    "My Score: 5/6\n",
    "\n",
    "[My Rubric](https://github.com/ahadb63/ahadsblog/issues/11)\n",
    "\n",
    "College Board Score: 3/6\n",
    "\n",
    "[College Board Rubric](https://drive.google.com/file/d/1HXDauimq8edpT0-aZ2iIujzLdIxtyKMx/view)\n",
    "\n",
    "Reflection: This time my score and college boards score were a little off. I may have not analyzed the submissin correctly in accordance to the rubric therefor ending up giving the submission more points than it deserves.\n",
    "\n",
    "---\n",
    "\n",
    "### takeaway\n",
    "Using both CPT grading 1 and 2, I am able to take away lots of information from the submissions. I now know what to do and what not do. Looking at succesful CPT projects has enabled me to take ideas and implement them into my own project for a full score."
   ]
  }
 ],
 "metadata": {
  "kernelspec": {
   "display_name": "base",
   "language": "python",
   "name": "python3"
  },
  "language_info": {
   "name": "python",
   "version": "3.9.12 (main, Apr  5 2022, 06:56:58) \n[GCC 7.5.0]"
  },
  "orig_nbformat": 4,
  "vscode": {
   "interpreter": {
    "hash": "ffbc78dc5ed357358f9061e93273b418d0a5d8c7f8a463c0e2f989d33fa7039d"
   }
  }
 },
 "nbformat": 4,
 "nbformat_minor": 2
}
