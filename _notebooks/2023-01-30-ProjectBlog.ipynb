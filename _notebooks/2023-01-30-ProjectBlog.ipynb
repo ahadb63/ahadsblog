{
 "cells": [
  {
   "attachments": {},
   "cell_type": "markdown",
   "metadata": {},
   "source": [
    "\n",
    "# Project Blog\n",
    "\n",
    "\n",
    "- toc: true \n",
    "- badges: true\n",
    "- comments: true\n",
    "- categories: [CBQ]"
   ]
  },
  {
   "attachments": {},
   "cell_type": "markdown",
   "metadata": {},
   "source": [
    "\n",
    "\n",
    "# Pre-view/ Outline and write up\n",
    "\n",
    "| Category | Expectation | Explanation/Response |\n",
    "| :------: | ----------- | ----------- |\n",
    "| Program Purpose and Function | Describes the purpose of the program, describes the program's functionality, and can take an input and return an output. | The purpose of this website and program is to offer fun games that entertain while also providing a competitive edge. The program uses a virtual currency as well as a leaderboard to engage with the users. In game tokens or currency can be used and earned by interactions.|\n",
    "| Data Abstraction | Shows how data has been stored in a collection and shows data from that collection as it contributes to the overall purpose of the program. Identifies the name of a variable representing the collection being used and describes what the data contained in the collection represents in the program. | Our program abstracts data by creating records that are accessed in the backend database. The purpose of this database is to store information on users(Leaderboard stats, tokens, etc). User ID, name and password are things that are also stored |\n",
    "| Managing Complexity | Shows a collection of data that manages complexity. Explains an alternative method that would have been more complex and explains why that method could not be used or how it would have to be written differently. | There will be many alternative ways to track currency or program each game, so we will show how we chose the simplest way to achieve the desired functionality and explain how it could have been done another way. |\n",
    "| Procedural Abstraction | Shows a student-developed procedure with at least one parameter that has an effect on the functionality of the procedure, and shows where that procedure is called. Describes how the procedure contributes to the functionality of the program. | Each of our 4 games will include all of these. They will all have at least 1 parameter that effects functionality |\n",
    "| Algorithm Implementation | Includes a student-developed algorithm that includes sequencing, selection, and iteration. Explains how the algorithm works in detail enough to where someone could recreate it. | The games that we develop for the virtual arcade will have sufficient algorithms to fit this criteria. |\n",
    "| Testing | Describe two calls to the selected procedure in response 3c. Each call must pass a argument that causes different outputs. Describes conditions being tested by each call. Identifies the result of each call. | We will test different features in each game, which test certain conditions and output different results. |\n",
    "\n",
    "## Create Performance Task\n",
    "Each of our 4 members has thier own game in the website. This way everyones CPT project will be thier game that they are working on. FOr the N@TM, all of our games will be incorperated into a larget website which we are already doing. Website includes account signup, currency, and a leaderboard.\n",
    "\n",
    "\n",
    "# Code Plan\n",
    "\n",
    "My code plan uses HTML, JavaScript, and CSS.\n",
    "My code plan has steps that will be completed in order so that nothing is missing/forgotten from the process.\n",
    "My code plan is also subject to change.\n",
    "\n",
    "1. User pays 2 tokens to start game\n",
    "2. Rules/ How to Play will be displayed before game starts\n",
    "3. Game starts\n",
    "    - classic snake\n",
    "    - classic rules\n",
    "Next step occurs when user dies\n",
    "4. User will be shown a you lose screen\n",
    "5. Leaderboard/highscore wil update\n",
    "6. Retry/PLay again screen will appear and the process will repeat\n",
    "\n",
    "\n",
    "# Video Plan\n",
    "In my video, I will show the game running. I will show what happens when you lose and run the game again. Highscores will be kept and updated. Every loss, -1 tokens. If you win, + 50 tokens (snake is hard to complete)\n",
    "There may also be some theme customization\n"
   ]
  }
 ],
 "metadata": {
  "kernelspec": {
   "display_name": "base",
   "language": "python",
   "name": "python3"
  },
  "language_info": {
   "name": "python",
   "version": "3.9.12"
  },
  "orig_nbformat": 4,
  "vscode": {
   "interpreter": {
    "hash": "ffbc78dc5ed357358f9061e93273b418d0a5d8c7f8a463c0e2f989d33fa7039d"
   }
  }
 },
 "nbformat": 4,
 "nbformat_minor": 2
}
