{
 "cells": [
  {
   "attachments": {},
   "cell_type": "markdown",
   "metadata": {},
   "source": [
    "# DevOps  4/26 hacks\n",
    "  \n",
    "- title: DevOps 4/26 hacks\n",
    "- author: Ahad Biabani"
   ]
  },
  {
   "cell_type": "code",
   "execution_count": 1,
   "metadata": {},
   "outputs": [
    {
     "name": "stdout",
     "output_type": "stream",
     "text": [
      "104.18.17.236\n"
     ]
    }
   ],
   "source": [
    "import socket\n",
    "\n",
    "# Change the following host and see what IP it prints!\n",
    "host = \"nhl.com\"\n",
    "ip = socket.gethostbyname(host)\n",
    "\n",
    "print(ip)"
   ]
  },
  {
   "cell_type": "code",
   "execution_count": 2,
   "metadata": {},
   "outputs": [
    {
     "name": "stdout",
     "output_type": "stream",
     "text": [
      "Successfully connected!\n"
     ]
    }
   ],
   "source": [
    "# Initiate a TCP connection to port 80\n",
    "with socket.socket(socket.AF_INET, socket.SOCK_STREAM) as s:\n",
    "    s.connect((ip, 80))\n",
    "    print(\"Successfully connected!\")"
   ]
  },
  {
   "attachments": {},
   "cell_type": "markdown",
   "metadata": {},
   "source": [
    "## Check-In\n",
    "\n",
    "1. What is an IP address?\n",
    "    - An IP (Internet Protocol) address is a numerical label assigned to every device connected to a computer network that uses the Internet Protocol for communication. It serves as a unique identifier for the device and allows it to communicate with other devices on the network.\n",
    "2. What is a TCP port?\n",
    "    - In computer networking, a TCP (Transmission Control Protocol) port is a virtual communication endpoint that enables two devices to establish a connection and exchange data over the internet or a network."
   ]
  },
  {
   "cell_type": "code",
   "execution_count": 3,
   "metadata": {},
   "outputs": [
    {
     "name": "stdout",
     "output_type": "stream",
     "text": [
      "HTTP/1.1 400 Bad Request\n",
      "Server: cloudflare\n",
      "Date: Mon, 01 May 2023 23:24:27 GMT\n",
      "Content-Type: text/html\n",
      "Content-Length: 155\n",
      "Connection: close\n",
      "CF-RAY: -\n",
      "\n",
      "<html>\n",
      "<head><title>400 Bad Request</title></head>\n",
      "<body>\n",
      "<center><h1>400 Bad Request</h1></center>\n",
      "<hr><center>cloudflare</center>\n",
      "</body>\n",
      "</html>\n",
      "\n"
     ]
    }
   ],
   "source": [
    "with socket.socket(socket.AF_INET, socket.SOCK_STREAM) as s:\n",
    "    s.connect((ip, 80))\n",
    "\n",
    "    # Send a GET request to \"/\"\n",
    "    s.sendall(b\"GET / HTTP/1.1\\r\\n\\r\\n\")\n",
    "\n",
    "    # Recieve & print 2048 bytes of data\n",
    "    data = s.recv(2048)\n",
    "    print(data.decode())"
   ]
  },
  {
   "cell_type": "code",
   "execution_count": 4,
   "metadata": {},
   "outputs": [
    {
     "name": "stdout",
     "output_type": "stream",
     "text": [
      "Status code: 200\n",
      "Headers: {'Date': 'Mon, 01 May 2023 23:25:41 GMT', 'Expires': '-1', 'Cache-Control': 'private, max-age=0', 'Content-Type': 'text/html; charset=ISO-8859-1', 'Content-Security-Policy-Report-Only': \"object-src 'none';base-uri 'self';script-src 'nonce-sdjLIksrqvc0n2tPynQo2w' 'strict-dynamic' 'report-sample' 'unsafe-eval' 'unsafe-inline' https: http:;report-uri https://csp.withgoogle.com/csp/gws/other-hp\", 'P3P': 'CP=\"This is not a P3P policy! See g.co/p3phelp for more info.\"', 'Content-Encoding': 'gzip', 'Server': 'gws', 'X-XSS-Protection': '0', 'X-Frame-Options': 'SAMEORIGIN', 'Set-Cookie': '1P_JAR=2023-05-01-23; expires=Wed, 31-May-2023 23:25:41 GMT; path=/; domain=.google.com; Secure, AEC=AUEFqZdRJPsYavtkqZTPWUzDzUGf5z6krYS7TiH-MzuAoUiJ_dRuAuT1Rw; expires=Sat, 28-Oct-2023 23:25:41 GMT; path=/; domain=.google.com; Secure; HttpOnly; SameSite=lax, NID=511=UgbiJSNYjreqCbo-kQ7usTaZjwq2jxFyqE6uJX0A8ZZGZl4cMDzl3M0PSpqtZSANS2EX2DIQeyAclM6x8NBYoyY_J7oZIXtIAgliQMx2p7kaJg_u00oNnK_yH-OSjPgnyblgyWyEPNblJjYu_XJLOHkxuWxPFgR8B09tzrs55bU; expires=Tue, 31-Oct-2023 23:25:41 GMT; path=/; domain=.google.com; HttpOnly', 'Alt-Svc': 'h3=\":443\"; ma=2592000,h3-29=\":443\"; ma=2592000', 'Transfer-Encoding': 'chunked'}\n",
      "Response text: <!doctype html><html itemscope=\"\" itemtype=\"http://schema.org/WebPage\" lang=\"en\"><head><meta content\n",
      "Content-Type: {'Date': 'Mon, 01 May 2023 23:25:41 GMT', 'Expires': '-1', 'Cache-Control': 'private, max-age=0', 'Content-Type': 'text/html; charset=ISO-8859-1', 'Content-Security-Policy-Report-Only': \"object-src 'none';base-uri 'self';script-src 'nonce-sdjLIksrqvc0n2tPynQo2w' 'strict-dynamic' 'report-sample' 'unsafe-eval' 'unsafe-inline' https: http:;report-uri https://csp.withgoogle.com/csp/gws/other-hp\", 'P3P': 'CP=\"This is not a P3P policy! See g.co/p3phelp for more info.\"', 'Content-Encoding': 'gzip', 'Server': 'gws', 'X-XSS-Protection': '0', 'X-Frame-Options': 'SAMEORIGIN', 'Set-Cookie': '1P_JAR=2023-05-01-23; expires=Wed, 31-May-2023 23:25:41 GMT; path=/; domain=.google.com; Secure, AEC=AUEFqZdRJPsYavtkqZTPWUzDzUGf5z6krYS7TiH-MzuAoUiJ_dRuAuT1Rw; expires=Sat, 28-Oct-2023 23:25:41 GMT; path=/; domain=.google.com; Secure; HttpOnly; SameSite=lax, NID=511=UgbiJSNYjreqCbo-kQ7usTaZjwq2jxFyqE6uJX0A8ZZGZl4cMDzl3M0PSpqtZSANS2EX2DIQeyAclM6x8NBYoyY_J7oZIXtIAgliQMx2p7kaJg_u00oNnK_yH-OSjPgnyblgyWyEPNblJjYu_XJLOHkxuWxPFgR8B09tzrs55bU; expires=Tue, 31-Oct-2023 23:25:41 GMT; path=/; domain=.google.com; HttpOnly', 'Alt-Svc': 'h3=\":443\"; ma=2592000,h3-29=\":443\"; ma=2592000', 'Transfer-Encoding': 'chunked'}\n"
     ]
    }
   ],
   "source": [
    "import requests\n",
    "\n",
    "# Change the URL to whatever you'd like\n",
    "response = requests.get(\"https://google.com\")\n",
    "\n",
    "print(\"Status code:\", response.status_code)\n",
    "print(\"Headers:\", response.headers)\n",
    "print(\"Response text:\", response.text[:100])\n",
    "print(\"Content-Type:\", response.headers)\n",
    "\n",
    "# Add a line to print the \"Content-Type\" header of the response\n",
    "# Try an image URL!"
   ]
  },
  {
   "cell_type": "code",
   "execution_count": 5,
   "metadata": {},
   "outputs": [
    {
     "name": "stdout",
     "output_type": "stream",
     "text": [
      "<!doctype html>\n",
      "<html>\n",
      "<head>\n",
      "<title>Cool site</title>\n",
      "<meta name=\"description\" content=\"cool site for apcsp\">\n",
      "</head>\n",
      "<body>\n",
      "Hello, this is my cool site. Check out my products:\n",
      "<a href=\"/products\">Products!!</a>\n",
      "</body>\n",
      "</html>\n",
      "\n"
     ]
    }
   ],
   "source": [
    "aws = \"3.130.255.192\"\n",
    "\n",
    "response = requests.get(\"http://\" + aws)\n",
    "print(response.text)\n"
   ]
  },
  {
   "attachments": {},
   "cell_type": "markdown",
   "metadata": {},
   "source": [
    "## Configuration\n",
    "\n",
    "```nginx\n",
    "server {\n",
    "    // Listen on virtual \"port 80\"\n",
    "    listen 80;\n",
    "    listen [::]:80;\n",
    "    server_name 3.130.255.192;\n",
    "\n",
    "    location / {\n",
    "        // Inform server about original client\n",
    "        proxy_set_header        Host $host;\n",
    "        proxy_set_header        X-Real-IP $remote_addr;\n",
    "        proxy_set_header        X-Forwarded-For $proxy_add_x_forwarded_for;\n",
    "        proxy_set_header        X-Forwarded-Proto $scheme;\n",
    "\n",
    "        // Forward all requests transparently to the server running on our computer\n",
    "        proxy_pass              http://localhost:9099;\n",
    "    }\n",
    "}\n",
    "```\n",
    "\n",
    "### Load Balancing\n",
    "\n",
    "```nginx\n",
    "upstream example.com {\n",
    "    server server1.example.com;\n",
    "    server server1.example.com;\n",
    "}\n",
    "```\n",
    "\n",
    "### HTTP Headers\n",
    "\n",
    "```nginx\n",
    "server {\n",
    "    add_header X-Cool-Header \"I love APCSP!\";\n",
    "\n",
    "    location /pages {\n",
    "        add_header X-Cooler-Header \"This is my secret header!\";\n",
    "    }\n",
    "}\n",
    "```\n",
    "\n",
    "## Check In\n",
    "\n",
    "1. Research 1 HTTP header and describe, in detail, its purpose.\n",
    "One HTTP header that plays a critical role in web communication is the \"User-Agent\" header. The User-Agent header is an HTTP request header field that identifies the client software, including the web browser or application, that sends the HTTP request to the server.\n",
    "\n",
    "The User-Agent header helps the web server to understand the type of device or software the client is using to request the resource, including its operating system, version, and capabilities. This information enables the server to optimize the content delivery for that specific device, such as serving a mobile-friendly version of a website to a mobile browser.\n",
    "2. Write a line in a sample NGINX configuration that will add that specific header to the `/information` location\n",
    " from flask import Flask\n",
    "from flask_nginx import Nginx\n",
    "\n",
    "app = Flask(__name__)\n",
    "nginx = Nginx(app)\n",
    "\n",
    "@app.route('/information')\n",
    "def get_information():\n",
    "    headers = {'User-Agent': 'My Custom User Agent'}\n",
    "    return 'Information page', 200, headers\n",
    "\n",
    "if __name__ == '__main__':\n",
    "    app.run()\n",
    "\n",
    "3. Explain the purpose of the load balancing performed by NGINX\n",
    "The main purpose of load balancing performed by NGINX is to distribute incoming requests from clients across multiple backend servers to ensure that no single server becomes overloaded or a single point of failure. NGINX can balance the traffic among multiple servers based on various algorithms, including round-robin, least connections, IP hash, and more, to optimize resource utilization and reduce response times.\n",
    "4. Modify the following code block to obtain the value of the secret header on `/products` of the AWS site\n",
    "import requests\n",
    "\n",
    "aws = \"3.130.255.192\"\n",
    "\n",
    "response = requests.get(\"http://\" + aws+ \"/products\")\n",
    "\n",
    "secret_header = response.headers.get(\"X-Secret-Header\")\n",
    "\n",
    "print(\"The secret header is:\", secret_header)\n",
    "\n"
   ]
  },
  {
   "cell_type": "code",
   "execution_count": 6,
   "metadata": {},
   "outputs": [
    {
     "name": "stdout",
     "output_type": "stream",
     "text": [
      "The secret header is: ...\n"
     ]
    }
   ],
   "source": [
    "aws = \"3.130.255.192\"\n",
    "\n",
    "response = requests.get(\"http://\" + aws+ \"/products\")\n",
    "\n",
    "print(\"The secret header is:\", \"...\")"
   ]
  },
  {
   "cell_type": "code",
   "execution_count": 7,
   "metadata": {},
   "outputs": [
    {
     "name": "stdout",
     "output_type": "stream",
     "text": [
      "The secret header is: None\n"
     ]
    }
   ],
   "source": [
    "import requests\n",
    "\n",
    "aws = \"3.130.255.192\"\n",
    "\n",
    "response = requests.get(\"http://\" + aws+ \"/products\")\n",
    "\n",
    "secret_header = response.headers.get(\"X-Secret-Header\")\n",
    "\n",
    "print(\"The secret header is:\", secret_header)\n"
   ]
  },
  {
   "attachments": {},
   "cell_type": "markdown",
   "metadata": {},
   "source": [
    "# CORS Hacks\n",
    "\n",
    "1. Explain what CORS is and what it stands for\n",
    "CORS (Cross-Origin Resource Sharing) is a security feature implemented in web browsers that restricts web pages from making requests to a different domain than the one that served the original content. CORS is a web standard that defines a set of HTTP headers and a protocol for enabling safe cross-origin requests between different domains.\n",
    "2. Describe how you would be able to implement CORS into your own websites\n",
    "To implement CORS into your own website, you need to configure your web server to send appropriate CORS headers in the response to requests from other domains. \n",
    "3. Describe why you would want to implement CORS into your own websites\n",
    "Cross-domain access: CORS allows you to enable cross-domain access to your website's resources, which can be useful if you want to share data or resources with other websites or if you want to build a web application that needs to access resources from different domains.\n",
    "4. How could use CORS to benefit yourself in the future?\n",
    "Cross-domain data sharing: CORS can be used to share data between different websites, which can be useful in scenarios such as social media integration or collaborative applications.\n",
    "\n",
    "Total: 0.2 points\n",
    "\n",
    "# KASM Hacks\n",
    "\n",
    "1. What is the purpose of \"sudo\" when running commands in terminal?\n",
    "The purpose of \"sudo\" when running commands in the terminal is to execute the command with elevated privileges, usually as the \"root\" user or a user with administrative privileges. In Unix-based operating systems like Linux and macOS, the \"root\" user is the user with the highest level of system access, and it can perform any operation on the system.\n",
    "2. What are some commands which allow us to look at how the storage of a machine is set up as?\n",
    "df -h: This command shows the disk space usage on all mounted file systems in a human-readable format. It shows the total size, used space, free space, and percentage of used space for each file system.\n",
    "lsblk: This command lists all available block devices, such as hard drives, solid-state drives, and USB drives, and their corresponding mount points. It shows the size, type, and file system of each block device.\n",
    "3. What do you think are some alternatives to running \"curl -O\" to get the zip file for KASM?\n",
    "Use wget: Instead of using curl, you can use the wget command to download the KASM zip file. The wget command is similar to curl and can be used to download files from the web. For example, you can use the command \"wget https://download.kasmweb.com/kasm_workspaces.zip\" to download the KASM zip file.\n",
    "4. What kind of commands do you think the \"install.sh\" command has and why is it necessary to call it?\n",
    "Dependency checks: The script may check for the required dependencies and software packages needed for the software installation.\n",
    "Download and extraction: The script may download and extract the software files from a remote server or archive file.\n",
    "5. Explain in at least 3-4 sentences how deploying KASM is related to/requires other topics talked about in the lesson and/or potential ways to add things mentioned in the lesson to this guide.\n",
    "Deploying KASM requires knowledge of several topics covered in the lesson, such as networking, server management, and security. Specifically, deploying KASM involves configuring a server to host the KASM application, setting up the appropriate network infrastructure to allow access to the application, and securing the server and application to prevent unauthorized access.\n",
    "\n",
    "To add more detail to this guide, it could be useful to include sections on configuring a server for KASM deployment, setting up a network infrastructure for KASM access, and securing the KASM application and server. Additionally, information on how to troubleshoot common issues that may arise during the deployment process could be included. Finally, examples of how KASM can be used in real-world scenarios could be added to provide context and demonstrate the practical applications of KASM.\n",
    "Total: 0.2 points\n",
    "\n"
   ]
  }
 ],
 "metadata": {
  "kernelspec": {
   "display_name": "base",
   "language": "python",
   "name": "python3"
  },
  "language_info": {
   "codemirror_mode": {
    "name": "ipython",
    "version": 3
   },
   "file_extension": ".py",
   "mimetype": "text/x-python",
   "name": "python",
   "nbconvert_exporter": "python",
   "pygments_lexer": "ipython3",
   "version": "3.9.12"
  },
  "orig_nbformat": 4
 },
 "nbformat": 4,
 "nbformat_minor": 2
}
