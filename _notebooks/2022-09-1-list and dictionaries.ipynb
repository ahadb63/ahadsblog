{
 "cells": [
  {
   "cell_type": "code",
   "execution_count": 21,
   "metadata": {},
   "outputs": [
    {
     "name": "stdout",
     "output_type": "stream",
     "text": [
      "[63, 'ahad', 37, {'FirstName': 'Ahad', 'LastName': 'Biabani'}, {'Residence': 'San Diego', 'Age': 'Sixteen'}]\n"
     ]
    }
   ],
   "source": [
    "Mylist = [63, \"ahad\", 37]\n",
    "\n",
    "Mylist.append({\n",
    "    \"FirstName\" : \"Ahad\",\n",
    "    \"LastName\" : \"Biabani\"\n",
    "})\n",
    "\n",
    "Mylist.append({\n",
    "    \"Residence\" : \"San Diego\",\n",
    "    \"Age\" : \"Sixteen\"\n",
    "})\n",
    "\n",
    "print(Mylist)\n",
    "\n",
    "def print_data(de_rec):\n",
    "    print(d_rec[\"FirstName\"], de_rec[\"LastName\"])\n",
    "    print(\"\\t\", \"Residence:\", de_rec[\"residence\"])\n"
   ]
  }
 ],
 "metadata": {
  "kernelspec": {
   "display_name": "Python 3.8.10 64-bit",
   "language": "python",
   "name": "python3"
  },
  "language_info": {
   "codemirror_mode": {
    "name": "ipython",
    "version": 3
   },
   "file_extension": ".py",
   "mimetype": "text/x-python",
   "name": "python",
   "nbconvert_exporter": "python",
   "pygments_lexer": "ipython3",
   "version": "3.8.10"
  },
  "orig_nbformat": 4,
  "vscode": {
   "interpreter": {
    "hash": "916dbcbb3f70747c44a77c7bcd40155683ae19c65e1c03b4aa3499c5328201f1"
   }
  }
 },
 "nbformat": 4,
 "nbformat_minor": 2
}
