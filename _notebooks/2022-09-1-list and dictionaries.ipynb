{
 "cells": [
  {
   "cell_type": "markdown",
   "metadata": {},
   "source": [
    "# List and Dictionaries\n",
    "- toc: true \n",
    "- badges: true\n",
    "- comments: true\n",
    "- categories: [Markdown]"
   ]
  },
  {
   "cell_type": "markdown",
   "metadata": {},
   "source": [
    "```\n",
    "# \"List and Dictionaries\"\n",
    "> \"Customized list and dictionary\"\n",
    "\n",
    "- toc: true\n",
    "- branch: master\n",
    "- badges: true\n",
    "- comments: true\n",
    "- author: Hamel Husain & Jeremy Howard\n",
    "- categories: [fastpages, jupyter]\n",
    "```"
   ]
  },
  {
   "cell_type": "markdown",
   "metadata": {},
   "source": [
    "# List and Dictionaries"
   ]
  },
  {
   "cell_type": "code",
   "execution_count": 48,
   "metadata": {},
   "outputs": [
    {
     "name": "stdout",
     "output_type": "stream",
     "text": [
      "[{'FirstName': 'AhadSurname:BiabaniFavoriteFood:Steak', 'FavoriteSport': 'Ice Hockey', 'FavoriteVideoGame': 'BattleField 1', 'FavoriteArtist': 'Destroy Lonely', 'Hobbies': 'Ice Hockey and Video Games', 'FavoriteSubject': 'APCSP'}]\n",
      "While loop output\n",
      "\n"
     ]
    },
    {
     "ename": "KeyError",
     "evalue": "'Surname'",
     "output_type": "error",
     "traceback": [
      "\u001b[0;31m---------------------------------------------------------------------------\u001b[0m",
      "\u001b[0;31mKeyError\u001b[0m                                  Traceback (most recent call last)",
      "\u001b[1;32m/vscode/ahadsblog/_notebooks/2022-09-1-list and dictionaries.ipynb Cell 2\u001b[0m in \u001b[0;36m<cell line: 34>\u001b[0;34m()\u001b[0m\n\u001b[1;32m     <a href='vscode-notebook-cell://wsl%2Bubuntu/vscode/ahadsblog/_notebooks/2022-09-1-list%20and%20dictionaries.ipynb#X11sdnNjb2RlLXJlbW90ZQ%3D%3D?line=30'>31</a>\u001b[0m         i \u001b[39m+\u001b[39m\u001b[39m=\u001b[39m \u001b[39m1\u001b[39m\n\u001b[1;32m     <a href='vscode-notebook-cell://wsl%2Bubuntu/vscode/ahadsblog/_notebooks/2022-09-1-list%20and%20dictionaries.ipynb#X11sdnNjb2RlLXJlbW90ZQ%3D%3D?line=31'>32</a>\u001b[0m     \u001b[39mreturn\u001b[39;00m\n\u001b[0;32m---> <a href='vscode-notebook-cell://wsl%2Bubuntu/vscode/ahadsblog/_notebooks/2022-09-1-list%20and%20dictionaries.ipynb#X11sdnNjb2RlLXJlbW90ZQ%3D%3D?line=33'>34</a>\u001b[0m while_loop()\n",
      "\u001b[1;32m/vscode/ahadsblog/_notebooks/2022-09-1-list and dictionaries.ipynb Cell 2\u001b[0m in \u001b[0;36mwhile_loop\u001b[0;34m()\u001b[0m\n\u001b[1;32m     <a href='vscode-notebook-cell://wsl%2Bubuntu/vscode/ahadsblog/_notebooks/2022-09-1-list%20and%20dictionaries.ipynb#X11sdnNjb2RlLXJlbW90ZQ%3D%3D?line=27'>28</a>\u001b[0m \u001b[39mwhile\u001b[39;00m i \u001b[39m<\u001b[39m \u001b[39mlen\u001b[39m(ThingsILike):\n\u001b[1;32m     <a href='vscode-notebook-cell://wsl%2Bubuntu/vscode/ahadsblog/_notebooks/2022-09-1-list%20and%20dictionaries.ipynb#X11sdnNjb2RlLXJlbW90ZQ%3D%3D?line=28'>29</a>\u001b[0m     record \u001b[39m=\u001b[39m ThingsILike[i]\n\u001b[0;32m---> <a href='vscode-notebook-cell://wsl%2Bubuntu/vscode/ahadsblog/_notebooks/2022-09-1-list%20and%20dictionaries.ipynb#X11sdnNjb2RlLXJlbW90ZQ%3D%3D?line=29'>30</a>\u001b[0m     print_data(record)\n\u001b[1;32m     <a href='vscode-notebook-cell://wsl%2Bubuntu/vscode/ahadsblog/_notebooks/2022-09-1-list%20and%20dictionaries.ipynb#X11sdnNjb2RlLXJlbW90ZQ%3D%3D?line=30'>31</a>\u001b[0m     i \u001b[39m+\u001b[39m\u001b[39m=\u001b[39m \u001b[39m1\u001b[39m\n\u001b[1;32m     <a href='vscode-notebook-cell://wsl%2Bubuntu/vscode/ahadsblog/_notebooks/2022-09-1-list%20and%20dictionaries.ipynb#X11sdnNjb2RlLXJlbW90ZQ%3D%3D?line=31'>32</a>\u001b[0m \u001b[39mreturn\u001b[39;00m\n",
      "\u001b[1;32m/vscode/ahadsblog/_notebooks/2022-09-1-list and dictionaries.ipynb Cell 2\u001b[0m in \u001b[0;36mprint_data\u001b[0;34m(d_rec)\u001b[0m\n\u001b[1;32m     <a href='vscode-notebook-cell://wsl%2Bubuntu/vscode/ahadsblog/_notebooks/2022-09-1-list%20and%20dictionaries.ipynb#X11sdnNjb2RlLXJlbW90ZQ%3D%3D?line=12'>13</a>\u001b[0m \u001b[39mdef\u001b[39;00m \u001b[39mprint_data\u001b[39m(d_rec):\n\u001b[0;32m---> <a href='vscode-notebook-cell://wsl%2Bubuntu/vscode/ahadsblog/_notebooks/2022-09-1-list%20and%20dictionaries.ipynb#X11sdnNjb2RlLXJlbW90ZQ%3D%3D?line=13'>14</a>\u001b[0m     \u001b[39mprint\u001b[39m(d_rec[\u001b[39m\"\u001b[39m\u001b[39mFirstName\u001b[39m\u001b[39m\"\u001b[39m], d_rec[\u001b[39m\"\u001b[39;49m\u001b[39mSurname\u001b[39;49m\u001b[39m\"\u001b[39;49m])\n\u001b[1;32m     <a href='vscode-notebook-cell://wsl%2Bubuntu/vscode/ahadsblog/_notebooks/2022-09-1-list%20and%20dictionaries.ipynb#X11sdnNjb2RlLXJlbW90ZQ%3D%3D?line=14'>15</a>\u001b[0m     \u001b[39mprint\u001b[39m(\u001b[39m\"\u001b[39m\u001b[39m\\t\u001b[39;00m\u001b[39m\"\u001b[39m, \u001b[39m\"\u001b[39m\u001b[39mFavoriteFood:\u001b[39m\u001b[39m\"\u001b[39m, d_rec[\u001b[39m\"\u001b[39m\u001b[39mFavoriteFood\u001b[39m\u001b[39m\"\u001b[39m])\n\u001b[1;32m     <a href='vscode-notebook-cell://wsl%2Bubuntu/vscode/ahadsblog/_notebooks/2022-09-1-list%20and%20dictionaries.ipynb#X11sdnNjb2RlLXJlbW90ZQ%3D%3D?line=15'>16</a>\u001b[0m     \u001b[39mprint\u001b[39m(\u001b[39m\"\u001b[39m\u001b[39m\\t\u001b[39;00m\u001b[39m\"\u001b[39m, \u001b[39m\"\u001b[39m\u001b[39mFavoriteSport:\u001b[39m\u001b[39m\"\u001b[39m, d_rec[\u001b[39m\"\u001b[39m\u001b[39mFavoriteSport\u001b[39m\u001b[39m\"\u001b[39m])  \n",
      "\u001b[0;31mKeyError\u001b[0m: 'Surname'"
     ]
    }
   ],
   "source": [
    "ThingsILike = []\n",
    "\n",
    "ThingsILike.append({\n",
    "    \"FirstName\": \"Ahad\"\n",
    "    \"Surname:\" \"Biabani\"\n",
    "    \"FavoriteFood:\" \"Steak\",\n",
    "    \"FavoriteSport\": \"Ice Hockey\",\n",
    "    \"FavoriteVideoGame\": \"BattleField 1\",\n",
    "    \"FavoriteArtist\": \"Destroy Lonely\",\n",
    "    \"Hobbies\": \"Ice Hockey and Video Games\",\n",
    "    \"FavoriteSubject\": \"APCSP\"\n",
    "})\n",
    "def print_data(d_rec):\n",
    "    print(d_rec[\"FirstName\"], d_rec[\"Surname\"])\n",
    "    print(\"\\t\", \"FavoriteFood:\", d_rec[\"FavoriteFood\"])\n",
    "    print(\"\\t\", \"FavoriteSport:\", d_rec[\"FavoriteSport\"])  \n",
    "    print(\"\\t\", \"FavoriteVideoGame:\", d_rec[\"FavoriteVideoGame\"]) \n",
    "    print(\"\\t\", \"FavoriteArtist:\", d_rec[\"FavoriteArtist\"])\n",
    "    print(\"\\t\", \"Hobbies: \",d_rec[\"Hobbies\"]) \n",
    "    print(\"\\t\", \"FavoriteSubject: \",d_rec[\"FavoriteSubject\"])  \n",
    "    print()\n",
    "\n",
    "print(ThingsILike)\n",
    "\n",
    "def while_loop():\n",
    "    print(\"While loop output\\n\")\n",
    "    i = 0\n",
    "    while i < len(ThingsILike):\n",
    "        record = ThingsILike[i]\n",
    "        print_data(record)\n",
    "        i += 1\n",
    "    return\n",
    "\n",
    "while_loop()"
   ]
  },
  {
   "cell_type": "code",
   "execution_count": 1,
   "metadata": {},
   "outputs": [
    {
     "name": "stdout",
     "output_type": "stream",
     "text": [
      "For loop output\n",
      "\n",
      "Ahad Biabani\n",
      "\t Email: aobiabain@gmail.com\n",
      "\t Residence: San Diego\n",
      "\t Birth Day: Sept 18\n",
      "\t Cars: None\n",
      "\n",
      "Recursive loop output\n",
      "\n"
     ]
    }
   ],
   "source": [
    "#collapse-hide\n",
    "\n",
    "AboutMe = []\n",
    "\n",
    "AboutMe.append({\n",
    "    \"FirstName\": \"Ahad\",\n",
    "    \"LastName\": \"Biabani\",\n",
    "    \"DOB\": \"Sept 18\",\n",
    "    \"Residence\": \"San Diego\",\n",
    "    \"Email\": \"aobiabain@gmail.com\",\n",
    "    \"Owns_Cars\": [\"None\"]\n",
    "})\n",
    "\n",
    "\n",
    "\n",
    "def print_data(d_rec):\n",
    "    print(d_rec[\"FirstName\"], d_rec[\"LastName\"])\n",
    "    print(\"\\t\", \"Email:\", d_rec[\"Email\"])\n",
    "    print(\"\\t\", \"Residence:\", d_rec[\"Residence\"])\n",
    "    print(\"\\t\", \"Birth Day:\", d_rec[\"DOB\"])\n",
    "    print(\"\\t\", \"Cars: \", end=\"\")\n",
    "    print(\", \".join(d_rec[\"Owns_Cars\"]))\n",
    "    print()\n",
    "    \n",
    "def for_loop():\n",
    "    print(\"For loop output\\n\")\n",
    "    for record in AboutMe:\n",
    "        print_data(record)\n",
    "\n",
    "for_loop()\n",
    "\n",
    "def recursive_loop(i):\n",
    "    if i < len(AboutMe):\n",
    "        record = AboutMe[i]\n",
    "        print_data(record)\n",
    "        recursive_loop(i + 1)\n",
    "    return\n",
    "    \n",
    "print(\"Recursive loop output\\n\")\n",
    "\n"
   ]
  }
 ],
 "metadata": {
  "kernelspec": {
   "display_name": "Python 3.8.10 64-bit",
   "language": "python",
   "name": "python3"
  },
  "language_info": {
   "codemirror_mode": {
    "name": "ipython",
    "version": 3
   },
   "file_extension": ".py",
   "mimetype": "text/x-python",
   "name": "python",
   "nbconvert_exporter": "python",
   "pygments_lexer": "ipython3",
   "version": "3.8.10"
  },
  "orig_nbformat": 4,
  "vscode": {
   "interpreter": {
    "hash": "916dbcbb3f70747c44a77c7bcd40155683ae19c65e1c03b4aa3499c5328201f1"
   }
  }
 },
 "nbformat": 4,
 "nbformat_minor": 2
}
