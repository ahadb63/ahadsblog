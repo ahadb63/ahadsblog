{
 "cells": [
  {
   "cell_type": "markdown",
   "metadata": {},
   "source": [
    "# List and Dictionaries\n",
    "- toc: true \n",
    "- badges: true\n",
    "- comments: true\n",
    "- categories: [Markdown]"
   ]
  },
  {
   "cell_type": "markdown",
   "metadata": {},
   "source": [
    "```\n",
    "# \"List and Dictionaries\"\n",
    "> \"Customized list and dictionary\"\n",
    "\n",
    "- toc: true\n",
    "- branch: master\n",
    "- badges: true\n",
    "- comments: true\n",
    "- author: Hamel Husain & Jeremy Howard\n",
    "- categories: [fastpages, jupyter]\n",
    "```"
   ]
  },
  {
   "cell_type": "markdown",
   "metadata": {},
   "source": [
    "# List and Dictionaries"
   ]
  },
  {
   "cell_type": "markdown",
   "metadata": {},
   "source": [
    "This section is personalized to me and shows the things I like. This uses iteration - while loop"
   ]
  },
  {
   "cell_type": "code",
   "execution_count": null,
   "metadata": {},
   "outputs": [],
   "source": [
    "ThingsILike = []\n",
    "\n",
    "ThingsILike.append({\n",
    "    \"FirstName\": \"Ahad\"\n",
    "    \"LastName:\" \"Biabani\"\n",
    "    \"FavoriteFood:\" \"Steak\",\n",
    "    \"FavoriteSport\": \"Ice Hockey\",\n",
    "    \"FavoriteVideoGame\": \"BattleField 1\",\n",
    "    \"FavoriteArtist\": \"Destroy Lonely\",\n",
    "    \"Hobbies\": \"Ice Hockey and Video Games\",\n",
    "    \"FavoriteSubject\": \"APCSP\"\n",
    "})\n",
    "def print_data(d_rec):\n",
    "    print(d_rec[\"FirstName\"], d_rec[\"LastName\"]) # using comma puts space between values\n",
    "    print(\"\\t\", \"FavoriteFood:\", d_rec[\"FavoriteFood\"]) # \\t is a tab indent\n",
    "    print(\"\\t\", \"FavoriteSport:\", d_rec[\"FavoriteSport\"])  \n",
    "    print(\"\\t\", \"FavoriteVideoGame:\", d_rec[\"FavoriteVideoGame\"]) \n",
    "    print(\"\\t\", \"FavoriteArtist:\", d_rec[\"FavoriteArtist\"])\n",
    "    print(\"\\t\", \"Hobbies: \",d_rec[\"Hobbies\"]) \n",
    "    print(\"\\t\", \"FavoriteSubject: \",d_rec[\"FavoriteSubject\"]) \n",
    "    print(end= \"\") \n",
    "    print() \n",
    "\n",
    "print(ThingsILike)\n",
    "#for loop algorithm iterates on length of Things I Like\n",
    "def while_loop():# while loop algorithm contains an initial n and an index incrementing statement (n += 1)\n",
    "    print(\"While loop output\\n\")\n",
    "    i = 0\n",
    "    while i < len(ThingsILike):\n",
    "        record = ThingsILike[i]\n",
    "        print_data(record)\n",
    "        i += 1\n",
    "    return\n",
    "\n",
    "while_loop() # while loop algorithm contains an initial n and an index incrementing statement (n += 1)"
   ]
  },
  {
   "cell_type": "markdown",
   "metadata": {},
   "source": [
    "This section is also personalized to me. This section uses iteration - for loop"
   ]
  },
  {
   "cell_type": "code",
   "execution_count": null,
   "metadata": {},
   "outputs": [
    {
     "name": "stdout",
     "output_type": "stream",
     "text": [
      "For loop output\n",
      "\n",
      "Ahad Biabani\n",
      "\t Email: aobiabain@gmail.com\n",
      "\t Residence: San Diego\n",
      "\t Birth Day: Sept 18\n",
      "\t Cars: None\n",
      "\n"
     ]
    }
   ],
   "source": [
    "#collapse-hide\n",
    "\n",
    "AboutMe = []\n",
    "\n",
    "AboutMe.append({\n",
    "    \"FirstName\": \"Ahad\",\n",
    "    \"LastName\": \"Biabani\",\n",
    "    \"DOB\": \"Sept 18\",\n",
    "    \"Residence\": \"San Diego\",\n",
    "    \"Email\": \"aobiabain@gmail.com\",\n",
    "    \"Owns_Cars\": [\"None\"]\n",
    "})\n",
    "\n",
    "\n",
    "\n",
    "def print_data(d_rec):\n",
    "    print(d_rec[\"FirstName\"], d_rec[\"LastName\"])\n",
    "    print(\"\\t\", \"Email:\", d_rec[\"Email\"])\n",
    "    print(\"\\t\", \"Residence:\", d_rec[\"Residence\"])\n",
    "    print(\"\\t\", \"Birth Day:\", d_rec[\"DOB\"])\n",
    "    print(\"\\t\", \"Cars: \", end=\"\")\n",
    "    print(\", \".join(d_rec[\"Owns_Cars\"]))\n",
    "    print()\n",
    "    \n",
    "def for_loop():\n",
    "    print(\"For loop output\\n\")\n",
    "    for record in AboutMe:\n",
    "        print_data(record)\n",
    "\n",
    "for_loop()\n",
    "\n",
    "\n"
   ]
  },
  {
   "cell_type": "markdown",
   "metadata": {},
   "source": [
    "This section is also personalized to me. This uses iteration - recursive loop"
   ]
  },
  {
   "cell_type": "code",
   "execution_count": null,
   "metadata": {},
   "outputs": [
    {
     "name": "stdout",
     "output_type": "stream",
     "text": [
      "Recursive loop output\n",
      "\n",
      "Ahad Biabani\n",
      "\t Email: aobiabain@gmail.com\n",
      "\t Residence: San Diego\n",
      "\t Birth Day: Sept 18\n",
      "\t Cars: None\n",
      "\n"
     ]
    }
   ],
   "source": [
    "#collapse-hide\n",
    "\n",
    "AboutMe = []\n",
    "\n",
    "AboutMe.append({\n",
    "    \"FirstName\": \"Ahad\",\n",
    "    \"LastName\": \"Biabani\",\n",
    "    \"DOB\": \"Sept 18\",\n",
    "    \"Residence\": \"San Diego\",\n",
    "    \"Email\": \"aobiabain@gmail.com\",\n",
    "    \"Owns_Cars\": [\"None\"]\n",
    "})\n",
    "\n",
    "\n",
    "\n",
    "def print_data(d_rec):\n",
    "    print(d_rec[\"FirstName\"], d_rec[\"LastName\"])\n",
    "    print(\"\\t\", \"Email:\", d_rec[\"Email\"])\n",
    "    print(\"\\t\", \"Residence:\", d_rec[\"Residence\"])\n",
    "    print(\"\\t\", \"Birth Day:\", d_rec[\"DOB\"])\n",
    "    print(\"\\t\", \"Cars: \", end=\"\")\n",
    "    print(\", \".join(d_rec[\"Owns_Cars\"]))\n",
    "    print()\n",
    "    \n",
    "def recursive_loop(i):\n",
    "    if i < len(AboutMe):\n",
    "        record = AboutMe[i]\n",
    "        print_data(record)\n",
    "        recursive_loop(i + 1)\n",
    "    return\n",
    "    \n",
    "print(\"Recursive loop output\\n\")\n",
    "recursive_loop(0) # recursion algorithm loops incrementing on each call (n + 1) until exit condition is met\n"
   ]
  },
  {
   "cell_type": "markdown",
   "metadata": {},
   "source": [
    "This is a quiz stored in a list"
   ]
  },
  {
   "cell_type": "code",
   "execution_count": 1,
   "metadata": {},
   "outputs": [
    {
     "name": "stdout",
     "output_type": "stream",
     "text": [
      "This is a 4 question quiz\n",
      "Question: What is Ahads last name?\n"
     ]
    }
   ],
   "source": [
    "questions = 4 # number of quiz questions\n",
    "correct = 0 # initialize number of correct answers as 0 \n",
    "\n",
    "print(\"This is a 4 question quiz\")\n",
    "\n",
    "\n",
    "def question_and_answer(prompt, answer):\n",
    "    print(\"Question: \" + prompt) # asks user a question\n",
    "    user_input = input() # takes user's input as variable msg \n",
    "    print(\"Answer: \" + user_input) # print user's input as Answer\n",
    "    \n",
    "    if answer == user_input.lower(): # convert user's input to lowercase\n",
    "        print(\"Correct Answer\")\n",
    "        global correct # allows to modify variable outside of current scope \n",
    "        correct += 1 # add 1 to correct count\n",
    "    else:\n",
    "        print (\"Incorrect Answer\")\n",
    "    return user_input \n",
    "\n",
    "question_1 = question_and_answer(\"What is Ahads last name?\", \"Biabani\")\n",
    "question_2 = question_and_answer(\"What sport does Ahad play\", \"Ice Hockey\")\n",
    "question_3 = question_and_answer(\"How old is Ahad\", \"16\")\n",
    "question_4 = question_and_answer(\"When is his birthday?\", \"September 18th\")\n",
    "\n",
    "if correct < 3:\n",
    "    print('You scored {correct} correct answers out of 4, ur bad')\n",
    "elif correct < 5:\n",
    "    print('You scored {correct} correct answers out of 4, okay')\n",
    "else: \n",
    "    print('You scored {correct} correct answers out of 4, good')\n",
    "\n",
    "\n",
    "\n",
    "\n",
    "print(\"A record of your quiz:\")"
   ]
  }
 ],
 "metadata": {
  "kernelspec": {
   "display_name": "Python 3.8.10 64-bit",
   "language": "python",
   "name": "python3"
  },
  "language_info": {
   "codemirror_mode": {
    "name": "ipython",
    "version": 3
   },
   "file_extension": ".py",
   "mimetype": "text/x-python",
   "name": "python",
   "nbconvert_exporter": "python",
   "pygments_lexer": "ipython3",
   "version": "3.8.10"
  },
  "orig_nbformat": 4,
  "vscode": {
   "interpreter": {
    "hash": "916dbcbb3f70747c44a77c7bcd40155683ae19c65e1c03b4aa3499c5328201f1"
   }
  }
 },
 "nbformat": 4,
 "nbformat_minor": 2
}
