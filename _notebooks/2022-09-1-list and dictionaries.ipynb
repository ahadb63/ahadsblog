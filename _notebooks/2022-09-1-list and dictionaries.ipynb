{
 "cells": [
  {
   "cell_type": "markdown",
   "metadata": {},
   "source": [
    "---\n",
    "toc: true\n",
    "layout: post\n",
    "description: List and Dictionaries - About Me\n",
    "categories: [List and Dictionaries]\n",
    "title: List and Dictionaries\n",
    "---"
   ]
  },
  {
   "cell_type": "code",
   "execution_count": null,
   "metadata": {},
   "outputs": [
    {
     "name": "stdout",
     "output_type": "stream",
     "text": [
      "For loop output\n",
      "\n",
      "Ahad Biabani\n",
      "\t Email: aobiabain@gmail.com\n",
      "\t Residence: San Diego\n",
      "\t Birth Day: Sept 18\n",
      "\t Cars: None\n",
      "\n",
      "Recursive loop output\n",
      "\n",
      "Ahad Biabani\n",
      "\t Email: aobiabain@gmail.com\n",
      "\t Residence: San Diego\n",
      "\t Birth Day: Sept 18\n",
      "\t Cars: None\n",
      "\n",
      "Recursive loop output\n",
      "\n",
      "Ahad Biabani\n",
      "\t Email: aobiabain@gmail.com\n",
      "\t Residence: San Diego\n",
      "\t Birth Day: Sept 18\n",
      "\t Cars: None\n",
      "\n"
     ]
    }
   ],
   "source": [
    "#collapse-hide\n",
    "\n",
    "AboutMe = []\n",
    "\n",
    "AboutMe.append({\n",
    "    \"FirstName\": \"Ahad\",\n",
    "    \"LastName\": \"Biabani\",\n",
    "    \"DOB\": \"Sept 18\",\n",
    "    \"Residence\": \"San Diego\",\n",
    "    \"Email\": \"aobiabain@gmail.com\",\n",
    "    \"Owns_Cars\": [\"None\"]\n",
    "})\n",
    "\n",
    "\n",
    "\n",
    "def print_data(d_rec):\n",
    "    print(d_rec[\"FirstName\"], d_rec[\"LastName\"])\n",
    "    print(\"\\t\", \"Email:\", d_rec[\"Email\"])\n",
    "    print(\"\\t\", \"Residence:\", d_rec[\"Residence\"])\n",
    "    print(\"\\t\", \"Birth Day:\", d_rec[\"DOB\"])\n",
    "    print(\"\\t\", \"Cars: \", end=\"\")\n",
    "    print(\", \".join(d_rec[\"Owns_Cars\"]))\n",
    "    print()\n",
    "    \n",
    "def for_loop():\n",
    "    print(\"For loop output\\n\")\n",
    "    for record in AboutMe:\n",
    "        print_data(record)\n",
    "\n",
    "for_loop()\n",
    "\n",
    "def recursive_loop(i):\n",
    "    if i < len(AboutMe):\n",
    "        record = AboutMe[i]\n",
    "        print_data(record)\n",
    "        recursive_loop(i + 1)\n",
    "    return\n",
    "    \n",
    "print(\"Recursive loop output\\n\")\n",
    "recursive_loop(0)\n",
    "  \n",
    "def recursive_loop(i):\n",
    "    if i < len(AboutMe):\n",
    "        record = AboutMe[i]\n",
    "        print_data(record)\n",
    "        recursive_loop(i + 1)\n",
    "    return\n",
    "    \n",
    "print(\"Recursive loop output\\n\")\n",
    "recursive_loop(0)   \n"
   ]
  }
 ],
 "metadata": {
  "kernelspec": {
   "display_name": "Python 3.8.10 64-bit",
   "language": "python",
   "name": "python3"
  },
  "language_info": {
   "codemirror_mode": {
    "name": "ipython",
    "version": 3
   },
   "file_extension": ".py",
   "mimetype": "text/x-python",
   "name": "python",
   "nbconvert_exporter": "python",
   "pygments_lexer": "ipython3",
   "version": "3.8.10"
  },
  "orig_nbformat": 4,
  "vscode": {
   "interpreter": {
    "hash": "916dbcbb3f70747c44a77c7bcd40155683ae19c65e1c03b4aa3499c5328201f1"
   }
  }
 },
 "nbformat": 4,
 "nbformat_minor": 2
}
