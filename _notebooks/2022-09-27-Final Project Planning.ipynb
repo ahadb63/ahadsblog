{
 "cells": [
  {
   "cell_type": "markdown",
   "metadata": {},
   "source": [
    "# Team Final Project\n",
    "> My groups final products ideas\n",
    "\n",
    "- toc: true \n",
    "- badges: true\n",
    "- comments: true\n",
    "- categories: [final, project]\n"
   ]
  },
  {
   "cell_type": "markdown",
   "metadata": {},
   "source": [
    "# Final Project Early Idea\n",
    "\n",
    "Webpage that has multiple minigames\n",
    "- Games like chess, poker, slots?, snake, wordle,\n",
    "- Games will be categorized in categories. For example, there will be a Board Games, Card Games, etc."
   ]
  },
  {
   "cell_type": "markdown",
   "metadata": {},
   "source": [
    "## Roles\n",
    "Sabine - Frontend dev\n",
    "Dash - Backend dev\n",
    "Ahad - Backend dev\n",
    "Aiden - Scrum Master"
   ]
  }
 ],
 "metadata": {
  "kernelspec": {
   "display_name": "Python 3.9.12 ('base')",
   "language": "python",
   "name": "python3"
  },
  "language_info": {
   "name": "python",
   "version": "3.9.12 (main, Apr  5 2022, 06:56:58) \n[GCC 7.5.0]"
  },
  "orig_nbformat": 4,
  "vscode": {
   "interpreter": {
    "hash": "ffbc78dc5ed357358f9061e93273b418d0a5d8c7f8a463c0e2f989d33fa7039d"
   }
  }
 },
 "nbformat": 4,
 "nbformat_minor": 2
}
