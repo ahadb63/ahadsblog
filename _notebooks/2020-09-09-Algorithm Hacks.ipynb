{
 "cells": [
  {
   "cell_type": "markdown",
   "metadata": {},
   "source": [
    "# Algorithm Hacks\n",
    "\n",
    "- toc: true \n",
    "- badges: true\n",
    "- comments: true\n",
    "- categories: [Algorithm, Hacks]\n"
   ]
  },
  {
   "cell_type": "code",
   "execution_count": 1,
   "metadata": {
    "vscode": {
     "languageId": "shellscript"
    }
   },
   "outputs": [
    {
     "ename": "ReferenceError",
     "evalue": "document is not defined",
     "output_type": "error",
     "traceback": [
      "evalmachine.<anonymous>:4",
      "document.getElementById('getResult').addEventListener('click', ()=>{",
      "^",
      "",
      "ReferenceError: document is not defined",
      "    at evalmachine.<anonymous>:4:1",
      "    at ContextifyScript.Script.runInThisContext (vm.js:25:33)",
      "    at Object.runInThisContext (vm.js:97:38)",
      "    at run ([eval]:1020:15)",
      "    at onRunRequest ([eval]:864:18)",
      "    at onMessage ([eval]:828:13)",
      "    at emitTwo (events.js:106:13)",
      "    at process.emit (events.js:191:7)",
      "    at process.nextTick (internal/child_process.js:758:12)",
      "    at _combinedTickCallback (internal/process/next_tick.js:73:7)"
     ]
    }
   ],
   "source": [
    "var vars = ['a','b','c']\n",
    "\t,expressions = ['! ( a || b || c )', '(!a && !b && !c)'];\n",
    "\t\n",
    "document.getElementById('getResult').addEventListener('click', ()=>{\n",
    "\tvar len = vars.length\n",
    "\t\t,splitBy = Math.round(len/2)\n",
    "\t\t,trueSet\n",
    "\t\t,trues = []\n",
    "\t\t,falses = []\n",
    "\t\t,truthData = [];\n",
    "\t\n",
    "\tvars = document.getElementById('vars').value.split(',');\n",
    "\texpressions = document.getElementById('expression').value.split(',');\n",
    "\n",
    "\t\n",
    "\ttruthData.push(truth(vars, vars, true));\n",
    "\tfor(var i=1; i<=splitBy; i++) {\n",
    "\t\ttrueSet = reduceToCombinations(permut(vars, i));\n",
    "\t\t\n",
    "\t\ttrueSet.forEach((truthSrc)=>{\n",
    "\t\t\ttrues = truth(vars, truthSrc);\n",
    "\t\t\ttruthData.push(trues);\n",
    "\t\t});\n",
    "\t\t\n",
    "\t\t\n",
    "\t}\n",
    "\ttruthData.push(truth(vars, vars));\n",
    "\t\n",
    "\twriteTruthTable(truthData);\n",
    "});\n",
    "\n",
    "function truth(set, truths, reverse) {\n",
    "\tvar w = {};\n",
    "\t\n",
    "\tset.forEach(v=>w[v]=(truths.indexOf(v)>=0 ? true : false)^reverse);\n",
    "\t\n",
    "\treturn w;\n",
    "}\n",
    "\n",
    "function reduceToCombinations(arr) {\n",
    "\tvar i=1\n",
    "\t\t,lastEl;\n",
    "\n",
    "\tarr = arr.map(v=>{return v.split('').sort().join('')}).sort();\n",
    "\t\n",
    "\tlastEl = arr[0];\n",
    "\twhile(i<arr.length) {\n",
    "\t\tif(arr[i] == lastEl) {\n",
    "\t\t\tarr.splice(i,1);\n",
    "\t\t} else {\n",
    "\t\t\tlastEl = arr[i];\n",
    "\t\t\ti++;\n",
    "\t\t}\n",
    "\t}\n",
    "\t\n",
    "\tarr = arr.map(v=>{return v.split('')});\n",
    "\t\n",
    "\treturn arr;\n",
    "}\n",
    "\n",
    "function writeTruthTable(truthData) {\n",
    "\tvar table = '<table cellpadding=0 cellspacing=0>'\n",
    "\t\t,keys\n",
    "\t\t,vals\n",
    "\t\t,exprRes;\n",
    "\t\t\n",
    "\ttable += '<thead><tr>';\n",
    "\tvars.forEach(v=>{\n",
    "\t\ttable += '<th>';\n",
    "\t\ttable += v;\n",
    "\t\ttable += '</th>';\n",
    "\t});\n",
    "\texpressions.forEach(v=>{\n",
    "\t\ttable += '<th>';\n",
    "\t\ttable += v;\n",
    "\t\ttable += '</th>';\n",
    "\t});\n",
    "\ttable += '</tr></thead>';\n",
    "\t\n",
    "\ttruthData.forEach((v)=> {\n",
    "\t\tvals = [];\n",
    "\t\tkeys = [];\n",
    "\t\ttable += '<tr>';\n",
    "\t\tconsole.log(v);\n",
    "\t\tfor(i in v){\n",
    "\t\t\tvals.push(v[i]);\n",
    "\t\t\tkeys.push(i);\n",
    "\t\t\ttable += '<td>';\n",
    "\t\t\ttable += v[i];\n",
    "\t\t\ttable += '</td>';\n",
    "\t\t};\n",
    "\t\tfor(var i = 0; i<keys.length; i++) {\n",
    "\t\t\teval(`var ${keys[i]} = ${vals[i]};`);\n",
    "\t\t}\n",
    "\t\texpressions.forEach((expr)=>{\n",
    "\t\t\texprRes = eval(expr);\n",
    "\t\t\ttable += `<td class=\"${exprRes}\">`;\n",
    "\t\t\ttable += exprRes ? 'T' : 'F';\n",
    "\t\t\ttable += '</td>';\n",
    "\t\t});\n",
    "\t\t\n",
    "\t\ttable += '</tr>';\n",
    "\t});\n",
    "\t\n",
    "\ttable += '</table>';\n",
    "\t\n",
    "\tdocument.getElementById('result').innerHTML = table;\n",
    "}\n",
    "\n",
    "function permut(arr, c) {\n",
    "\tvar buf = []\n",
    "\t\t,len\n",
    "\t\t,arrSlice\n",
    "\t\t,permArr\n",
    "\t\t,proArr;\n",
    "\tif(c<=1) {\n",
    "\t\treturn arr;\n",
    "\t} else {\n",
    "\t\tlen = arr.length;\n",
    "\t\tfor(var i=0;i<len;i++) {\n",
    "\t\t\tarrSlice = arr.slice(0,i).concat(arr.slice(i+1));\n",
    "\t\t\tpermArr = permut(arrSlice,c-1);\n",
    "\t\t\tproArr = [];\n",
    "\t\t\tfor(var y=0; y<permArr.length; y++) {\n",
    "\t\t\t\tproArr.push([arr[i]].concat(permArr[y]).join(''));\n",
    "\t\t\t}\n",
    "\t\t\tbuf.push(...proArr);\n",
    "\t\t}\n",
    "\t}\n",
    "\treturn buf;\n",
    "}"
   ]
  },
  {
   "cell_type": "code",
   "execution_count": 2,
   "metadata": {
    "vscode": {
     "languageId": "shellscript"
    }
   },
   "outputs": [
    {
     "ename": "SyntaxError",
     "evalue": "Unexpected identifier",
     "output_type": "error",
     "traceback": [
      "evalmachine.<anonymous>:12",
      "  }A() || B() && C()",
      "   ^",
      "",
      "SyntaxError: Unexpected identifier",
      "    at createScript (vm.js:56:10)",
      "    at Object.runInThisContext (vm.js:97:10)",
      "    at run ([eval]:1020:15)",
      "    at onRunRequest ([eval]:864:18)",
      "    at onMessage ([eval]:828:13)",
      "    at emitTwo (events.js:106:13)",
      "    at process.emit (events.js:191:7)",
      "    at process.nextTick (internal/child_process.js:758:12)",
      "    at _combinedTickCallback (internal/process/next_tick.js:73:7)",
      "    at process._tickCallback (internal/process/next_tick.js:104:9)"
     ]
    }
   ],
   "source": [
    "const A = () => {\n",
    "    console.log('A');\n",
    "    return true;\n",
    "  }\n",
    "  const B = () => {\n",
    "    console.log('B');\n",
    "    return true;\n",
    "  }\n",
    "  const C = () => {\n",
    "    console.log('C');\n",
    "    return false;\n",
    "  }A() || B() && C()\n",
    "  // prints \"A\", returns true\n",
    "  (A() || B()) && C()\n",
    "  // prints \"A C\", returns false"
   ]
  },
  {
   "cell_type": "code",
   "execution_count": 1,
   "metadata": {
    "vscode": {
     "languageId": "shellscript"
    }
   },
   "outputs": [
    {
     "name": "stdout",
     "output_type": "stream",
     "text": [
      "\n",
      " : 1\n",
      " : 1\n",
      "\n",
      " : 2\n",
      " : 2\n",
      "\n",
      " : 3\n",
      " : 3\n",
      "\n",
      " : 1\n",
      " : 1\n",
      "\n",
      " : 1\n",
      " : 1\n",
      "\n",
      " : 1\n",
      " : 1\n",
      "\n",
      " : 1\n",
      " : 1\n",
      "\n",
      " : 2\n",
      " : 2\n",
      "\n",
      "Thank you\n"
     ]
    }
   ],
   "source": [
    "from itertools import product\n",
    "\n",
    "while True:\n",
    "    bexp = input('\\nBoolean expression: ')\n",
    "    bexp = bexp.strip()\n",
    "    if not bexp:\n",
    "        print(\"\\nThank you\")\n",
    "        break\n",
    "    code = compile(bexp, '<string>', 'eval')\n",
    "    names = code.co_names\n",
    "    print('\\n' + ' '.join(names), ':', bexp)\n",
    "    for values in product(range(2), repeat=len(names)):\n",
    "        env = dict(zip(names, values))\n",
    "        print(' '.join(str(v) for v in values), ':', eval(code, env))"
   ]
  }
 ],
 "metadata": {
  "kernelspec": {
   "display_name": "Python 3.9.12 ('base')",
   "language": "python",
   "name": "python3"
  },
  "language_info": {
   "codemirror_mode": {
    "name": "ipython",
    "version": 3
   },
   "file_extension": ".py",
   "mimetype": "text/x-python",
   "name": "python",
   "nbconvert_exporter": "python",
   "pygments_lexer": "ipython3",
   "version": "3.9.12"
  },
  "orig_nbformat": 4,
  "vscode": {
   "interpreter": {
    "hash": "ffbc78dc5ed357358f9061e93273b418d0a5d8c7f8a463c0e2f989d33fa7039d"
   }
  }
 },
 "nbformat": 4,
 "nbformat_minor": 2
}
