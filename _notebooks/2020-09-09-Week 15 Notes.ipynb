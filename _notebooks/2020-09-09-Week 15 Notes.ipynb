{
 "cells": [
  {
   "cell_type": "markdown",
   "metadata": {},
   "source": [
    "# Notes Week 15\n",
    "\n",
    "\n",
    "- toc: true \n",
    "- badges: true\n",
    "- comments: true\n",
    "- categories: [notes, 3.8, 3.10]\n"
   ]
  },
  {
   "cell_type": "markdown",
   "metadata": {},
   "source": [
    "# 3.8 and 3.10\n",
    "## Lists\n",
    "\n",
    "Lists: a sequence of variables\n",
    "- we can use lists to store multiple items into one variable\n",
    "- used to store collections of data\n",
    "- changeable, ordered, allow duplicates"
   ]
  },
  {
   "cell_type": "code",
   "execution_count": 1,
   "metadata": {},
   "outputs": [
    {
     "name": "stdout",
     "output_type": "stream",
     "text": [
      "grape\n"
     ]
    }
   ],
   "source": [
    "fruits = [\"apple\", \"grape\", \"strawberry\"]\n",
    "index = 1\n",
    "\n",
    "print (fruits[index])\n",
    "\n",
    "# Index starts at 0 and not 1, so grape will be printed and not apple (College Board starts at 1)"
   ]
  },
  {
   "cell_type": "code",
   "execution_count": 2,
   "metadata": {},
   "outputs": [
    {
     "name": "stdout",
     "output_type": "stream",
     "text": [
      "['football', 'soccer', 'baseball', 'golf', 'basketball']\n"
     ]
    }
   ],
   "source": [
    "sports = [\"football\", \"soccer\", \"baseball\", \"golf\", \"basketball\"]\n",
    "\n",
    "# add \"golf\" as the 3rd element in the list\n",
    "print (sports)"
   ]
  },
  {
   "cell_type": "code",
   "execution_count": 3,
   "metadata": {},
   "outputs": [
    {
     "name": "stdout",
     "output_type": "stream",
     "text": [
      "['football', 'hockey', 'baseball', 'basketball']\n"
     ]
    }
   ],
   "source": [
    "sports = [\"football\", \"hockey\", \"baseball\", \"basketball\"]\n",
    "\n",
    "# change the value \"soccer\" to \"hockey\"\n",
    "print (sports)"
   ]
  },
  {
   "cell_type": "markdown",
   "metadata": {},
   "source": [
    "- Output of list practice is\n",
    " - unusual, "
   ]
  },
  {
   "cell_type": "markdown",
   "metadata": {},
   "source": [
    "# Iteration\n",
    "-  Iteration is the repetition of a process or utterance applied to the result or taken from a previous statement.\n",
    "- Types of Iteration include using a \"for loop\", using a \"for loop and range()\", using a \"while loop\", and using comprehension \n",
    " \n"
   ]
  },
  {
   "cell_type": "code",
   "execution_count": 4,
   "metadata": {},
   "outputs": [
    {
     "name": "stdout",
     "output_type": "stream",
     "text": [
      "alpha\n",
      "bravo\n",
      "charlie\n"
     ]
    }
   ],
   "source": [
    "# Using an example of iter()\n",
    "a = ['alpha', 'bravo', 'charlie']\n",
    "\n",
    "itr = iter(a)\n",
    "print(next(itr))\n",
    "print(next(itr))\n",
    "print(next(itr))"
   ]
  },
  {
   "cell_type": "markdown",
   "metadata": {},
   "source": [
    "# Loops \n",
    "- Well, above is basically just printing them again, so how do we takes these iterators into something we can make use for? \n",
    "- Loops take essentially what we did above and automates it, here are some examples."
   ]
  },
  {
   "cell_type": "markdown",
   "metadata": {},
   "source": [
    "# Iteration HW"
   ]
  },
  {
   "cell_type": "code",
   "execution_count": 5,
   "metadata": {},
   "outputs": [],
   "source": [
    "words = [\"alfa\", \"bravo\", \"charlie\", \"delta\", \"echo\", \"foxtrot\", \"golf\", \"hotel\", \"india\", \"juliett\", \"kilo\",\n",
    "\"lima\", \"mike\", \"november\", \"oscar\", \"papa\", \"quebec\", \"romeo\", \"sierra\", \"tango\", \"uniform\", \"victor\", \"whiskey\", \"xray\", \"yankee\", \"zulu\"]\n",
    "\n",
    "inp = input().lower()\n",
    "\n",
    "\n",
    "itr = iter(words)\n",
    "\n",
    "name = [\"delta\", \"alpha\", \"hotel\"]\n",
    "d = \"delta\"\n",
    "a = \"alfa\"\n",
    "h = \"hotel\"\n",
    "\n"
   ]
  },
  {
   "cell_type": "markdown",
   "metadata": {},
   "source": [
    "# 2d List Challenge\n"
   ]
  },
  {
   "cell_type": "code",
   "execution_count": 6,
   "metadata": {},
   "outputs": [],
   "source": [
    "print_matrix3 = [[1, 2, 3], [4, 5, 6], [7, 8, 9], [\" \", 0, \" \"]]\n",
    "\n"
   ]
  },
  {
   "cell_type": "markdown",
   "metadata": {},
   "source": [
    "# 3.8 and 3.10 Hacks\n",
    "> hacks for 3.8 and 3.10"
   ]
  },
  {
   "cell_type": "code",
   "execution_count": 7,
   "metadata": {},
   "outputs": [
    {
     "name": "stdout",
     "output_type": "stream",
     "text": [
      "['football', 'hockey', 'baseball', 'basketball']\n"
     ]
    }
   ],
   "source": [
    "sports = [\"football\", \"hockey\", \"baseball\", \"basketball\"]\n",
    "\n",
    "# change the value \"soccer\" to \"hockey\"\n",
    "print (sports)\n"
   ]
  },
  {
   "cell_type": "code",
   "execution_count": 8,
   "metadata": {},
   "outputs": [
    {
     "name": "stdout",
     "output_type": "stream",
     "text": [
      "['football', 'soccer', 'baseball', 'golf', 'basketball']\n"
     ]
    }
   ],
   "source": [
    "sports = [\"football\", \"soccer\", \"baseball\", \"golf\", \"basketball\"]\n",
    "\n",
    "# add \"golf\" as the 3rd element in the list\n",
    "print (sports)"
   ]
  },
  {
   "cell_type": "code",
   "execution_count": 9,
   "metadata": {},
   "outputs": [],
   "source": [
    "keypad =   [[1, 2, 3],\n",
    "            [4, 5, 6],\n",
    "            [7, 8, 9],\n",
    "            [\" \", 0, \" \"]]\n"
   ]
  },
  {
   "cell_type": "code",
   "execution_count": 10,
   "metadata": {},
   "outputs": [
    {
     "name": "stdout",
     "output_type": "stream",
     "text": [
      "1 2 3\n",
      "4 5 6\n",
      "7 8 9\n",
      "  0  \n"
     ]
    }
   ],
   "source": [
    "def print_matrix3(matrix):\n",
    "    for row in matrix:\n",
    "        print(*row)\n",
    "\n",
    "print_matrix3(keypad)"
   ]
  },
  {
   "cell_type": "code",
   "execution_count": 11,
   "metadata": {},
   "outputs": [],
   "source": [
    "def print_matrix1(matrix): \n",
    "    for i in range(len(matrix)):  \n",
    "        for j in range(len(matrix[i])):  \n",
    "            print(matrix[i][j], end=\" \") "
   ]
  },
  {
   "cell_type": "code",
   "execution_count": 12,
   "metadata": {},
   "outputs": [
    {
     "name": "stdout",
     "output_type": "stream",
     "text": [
      "Raw matrix (list of lists): \n",
      "[[1, 2, 3], [4, 5, 6], [7, 8, 9], [' ', 0, ' ']]\n",
      "Matrix printed using nested for loop iteration:\n",
      "1 2 3 4 5 6 7 8 9   0   \n"
     ]
    }
   ],
   "source": [
    "print(\"Raw matrix (list of lists): \")\n",
    "print(keypad)\n",
    "print(\"Matrix printed using nested for loop iteration:\")\n",
    "print_matrix1(keypad)\n",
    "print()\n"
   ]
  },
  {
   "cell_type": "code",
   "execution_count": 13,
   "metadata": {},
   "outputs": [
    {
     "name": "stdout",
     "output_type": "stream",
     "text": [
      "1 2 3 \n",
      "4 5 6 \n",
      "7 8 9 \n",
      "  0   \n"
     ]
    }
   ],
   "source": [
    "def print_matrix2(matrix):\n",
    "    for row in matrix:  # Iterates through rows. Iterates through every value in matrix and list. \n",
    "        for col in row:  # Iterates value in row. row values stored in col.\n",
    "            print(col, end=\" \") \n",
    "        print() \n",
    "\n",
    "print_matrix2(keypad)"
   ]
  },
  {
   "cell_type": "code",
   "execution_count": 14,
   "metadata": {},
   "outputs": [
    {
     "name": "stdout",
     "output_type": "stream",
     "text": [
      "\n",
      "\n"
     ]
    }
   ],
   "source": [
    "words = [\"alfa\", \"bravo\", \"charlie\", \"delta\", \"echo\", \"foxtrot\", \"golf\", \"hotel\", \"india\", \"juliett\", \"kilo\",\n",
    "\"lima\", \"mike\", \"november\", \"oscar\", \"papa\", \"quebec\", \"romeo\", \"sierra\", \"tango\", \"uniform\", \"victor\", \"whiskey\", \"xray\", \"yankee\", \"zulu\"]\n",
    "\n",
    "output = \"\"\n",
    "\n",
    "for letter in inp:\n",
    "    for word in words:\n",
    "        if letter == word[0]: # fidns rigth words\n",
    "            output += word + \" \" # adds space\n",
    "\n",
    "print(inp + \"\\n\" + output)\n",
    "# input is ahad biabani"
   ]
  },
  {
   "cell_type": "markdown",
   "metadata": {},
   "source": [
    "Print what month you were born and how old you are by iterating through the keyboard (don't just write a string)."
   ]
  },
  {
   "cell_type": "code",
   "execution_count": 15,
   "metadata": {},
   "outputs": [],
   "source": [
    "keyboard = [[\"`\", 1, 2, 3, 4, 5, 6, 7, 8, 9, 0, \"-\", \"=\"],\n",
    "            [\"Q\", \"W\", \"E\", \"R\", \"T\", \"Y\", \"U\", \"I\", \"O\", \"P\", \"[\", \"]\"],\n",
    "            [\"A\", \"S\", \"D\", \"F\", \"G\", \"H\", \"J\", \"K\", \"L\", \";\", \"'\"],\n",
    "            [\"Z\", \"X\", \"C\", \"V\", \"B\", \"N\", \"M\", \",\", \".\", \"/\"]]\n"
   ]
  },
  {
   "cell_type": "code",
   "execution_count": 16,
   "metadata": {},
   "outputs": [
    {
     "name": "stdout",
     "output_type": "stream",
     "text": [
      "September\n",
      "18\n"
     ]
    }
   ],
   "source": [
    "# row column\n",
    "month = keyboard[2][1] + keyboard[1][2] + keyboard[1][9] + keyboard[1][4] + keyboard[1][2] + keyboard[3][6] + keyboard[3][4] + keyboard[1][2] + keyboard[1][3]\n",
    "age = str(keyboard[0][1]) + str(keyboard[0][8])\n",
    "\n",
    "print(month[:1] + month[1:].lower())\n",
    "print(age)"
   ]
  },
  {
   "cell_type": "markdown",
   "metadata": {},
   "source": [
    "## NOTES "
   ]
  },
  {
   "cell_type": "markdown",
   "metadata": {},
   "source": [
    " VARIABLE : A variable is a named location in a computer's memory where a programmer can store and retrieve data. The data stored in a variable can be of various types, such as numbers, strings, or booleans (true or false values).\n",
    "\n",
    "DATA TYPE : Data types refer to the different types of data that a variable can hold. Some common data types include integers, floating-point numbers, strings, and booleans.\n",
    "\n",
    "ASSIGNMENT OPERATORS : Assignment operators are used to assign a value to a variable. For example, the equal sign (=) is an assignment operator that is used to assign a value to a variable on the left side of the equal sign.\n",
    "\n",
    "LISTS : Lists are a data structure that allows a programmer to store and manipulate multiple values in a single, ordered collection.\n",
    "\n",
    "2D LISTS :lists are lists that contain other lists as elements. They can be thought of as a grid, with rows and columns, where each element in the grid is itself a list.\n",
    "\n",
    "DICTIONARIES : Dictionaries are another data structure that allows a programmer to store and manipulate data. Unlike lists, which are ordered collections of data, dictionaries are unordered collections of key-value pairs.\n",
    "\n",
    "CLASS ALGORITHMS : A class is a concept in object-oriented programming that allows a programmer to define a new data type. A class can contain variables and functions (called methods) that operate on those variables.\n",
    "\n",
    "ALGORITHMS Algorithms are a set of steps or instructions that a computer can follow to solve a problem or accomplish a task.\n",
    "\n",
    "SEQUENCE : A sequence is a common control flow pattern in which a set of instructions is executed in order, one after the other.\n",
    "\n",
    "SELECTION : Selection is a control flow pattern in which a program only executes certain instructions depending on whether a certain condition is met.\n",
    "\n",
    "ITERATION : Iteration is a control flow pattern in which a set of instructions is executed repeatedly until a certain condition is met. This is often accomplished using a looping construct, such as a for loop or a while loop."
   ]
  },
  {
   "cell_type": "code",
   "execution_count": 17,
   "metadata": {},
   "outputs": [
    {
     "name": "stdout",
     "output_type": "stream",
     "text": [
      "7\n",
      "variable example\n"
     ]
    }
   ],
   "source": [
    "x = 3\n",
    "y = 4\n",
    "print(x + y)\n",
    "print (\"variable example\")"
   ]
  },
  {
   "cell_type": "code",
   "execution_count": 18,
   "metadata": {},
   "outputs": [
    {
     "name": "stdout",
     "output_type": "stream",
     "text": [
      "data type examples\n"
     ]
    }
   ],
   "source": [
    "# This is a variable with an integer data type\n",
    "my_var = 10\n",
    "\n",
    "# This is a variable with a floating-point data type\n",
    "my_other_var = 10.5\n",
    "\n",
    "# This is a variable with a string data type\n",
    "my_string = \"Hello, world!\"\n",
    " \n",
    "\n",
    "print(\"data type examples\")"
   ]
  },
  {
   "cell_type": "code",
   "execution_count": 19,
   "metadata": {},
   "outputs": [
    {
     "name": "stdout",
     "output_type": "stream",
     "text": [
      "assignment operator example\n"
     ]
    }
   ],
   "source": [
    "# This is a variable that is assigned the value 10\n",
    "my_var = 10\n",
    "\n",
    "# This is a variable that is assigned the value of another variable\n",
    "my_other_var = my_var\n",
    "\n",
    "print(\"assignment operator example\")"
   ]
  },
  {
   "cell_type": "code",
   "execution_count": 20,
   "metadata": {},
   "outputs": [
    {
     "name": "stdout",
     "output_type": "stream",
     "text": [
      "list examples\n"
     ]
    }
   ],
   "source": [
    "# This is a list of strings\n",
    "my_list = [\"apple\", \"banana\", \"orange\"]\n",
    "\n",
    "# This is a list of integers\n",
    "my_other_list = [1, 2, 3, 4, 5]\n",
    "\n",
    "# This is an empty list\n",
    "my_empty_list = []\n",
    "\n",
    "print(\"list examples\")"
   ]
  },
  {
   "cell_type": "code",
   "execution_count": null,
   "metadata": {},
   "outputs": [],
   "source": []
  },
  {
   "attachments": {},
   "cell_type": "markdown",
   "metadata": {},
   "source": [
    "# 3.12 - 3.13 Notes"
   ]
  },
  {
   "attachments": {},
   "cell_type": "markdown",
   "metadata": {},
   "source": [
    "- ## Calling Procedures\n",
    "\n",
    "Slide 1:\n",
    "- A (procedure) is a named group of programming instructions that may have parameters and return values.\n",
    "- Procedures are referred to by different names, such as (method) or (function), depending on the programing language.\n",
    "- Parameters are input values of a procedure. (arguments) specify the values of the parameters when procedure is called.\n",
    "- A procedure call interrupts the sequential execution of statements causing the program to execute the statements within the procedure before continuing. One the last statement in the procedure (or a return statement) has executed, flow or control is returned to the point immediately following where the procedure was (called).\n",
    "\n",
    "Slide 2:\n",
    "- When calling procedures, it's important to take notice to whether it returns data, or a block of (statements).\n",
    "- If the procedure just returns a block of statements, you call the procedure by referring to the procedure name, and (input) the arguments.\n",
    "- If the procedure returns some sort of data like a (boolean) or (value), then you will assign that value to a variable\n",
    "\n",
    "Slide 3:\n",
    "\n",
    "- Assume the Temperature outside is Fahrenheit. \n",
    "- The procedure convertFahrenheit is intended to convert from Fahrenheit to Celsius.\n",
    "- Convert the following psuedocode to python\n",
    "\n"
   ]
  },
  {
   "attachments": {},
   "cell_type": "markdown",
   "metadata": {},
   "source": [
    "- ## Developing Procedures\n",
    "\n",
    "Slide 8:\n",
    "\n",
    "Picking a descriptive name is important in case you revisit the code later on (separate words with capitals) There are 2 different types of procedures- ones that return a value and those that simply execute a block of statements Steps of developing procedure: picking a useful name, thinking of parameters (what data does the procedure need to know), making a flowchart or writing procedure in pseudocode, and actually developing the procedure.\n",
    "\n",
    "Slide 9:\n",
    "\n",
    "In this example, a teacher is writing a program that will replace the grade on a previous quiz if the new grade is better than the previous.\n",
    "\n",
    "    What would be a good name for this procedure?\n",
    "    What parameters do we need for this procedure?\n",
    "    Try writing this procedure out in python based on the given pseudocode\n",
    "\n"
   ]
  },
  {
   "cell_type": "code",
   "execution_count": null,
   "metadata": {},
   "outputs": [],
   "source": [
    "quizGrade = 0\n",
    "currentPoints = 100\n",
    "def replace_quiz_grade(currentPoints):\n",
    "    global quizGrade\n",
    "    currentGrade = currentPoints / 40\n",
    "    currentGrade = currentGrade * 100\n",
    "    if currentGrade > quizGrade:\n",
    "        quizGrade = currentGrade\n",
    "        \n",
    "print(quizGrade)\n",
    "replace_quiz_grade(currentPoints)\n",
    "print(quizGrade)"
   ]
  },
  {
   "attachments": {},
   "cell_type": "markdown",
   "metadata": {},
   "source": [
    "3.12-3.13 Homework and hacks"
   ]
  },
  {
   "cell_type": "code",
   "execution_count": 2,
   "metadata": {},
   "outputs": [],
   "source": [
    "def grade_tracker():\n",
    "  math_grade = input(\"What is your current grade in Math? \")\n",
    "  chemistry_grade = input(\"What is your current grade in Chemistry? \")\n",
    "  computer_science_grade = input(\"What is your current grade in Computer Science? \")\n",
    "  history_grade = input(\"What is your current grade in History? \")\n",
    "\n",
    "  print(\"Here are your current grades:\")\n",
    "  print(\"Math: \" + math_grade)\n",
    "  print(\"Chemistry: \" + chemistry_grade)\n",
    "  print(\"Computer Science: \" + computer_science_grade)\n",
    "  print(\"History: \" + history_grade)\n",
    "\n",
    "grade_tracker()"
   ]
  },
  {
   "attachments": {},
   "cell_type": "markdown",
   "metadata": {},
   "source": [
    " # 3.16 HW"
   ]
  },
  {
   "cell_type": "code",
   "execution_count": null,
   "metadata": {},
   "outputs": [
    {
     "name": "stdout",
     "output_type": "stream",
     "text": [
      "Position: 0.5\n",
      "Position: 0.9019\n",
      "Position: 1.2057000000000002\n",
      "Position: 1.4114000000000002\n",
      "Position: 1.5190000000000001\n",
      "Position: 1.5285000000000002\n",
      "Position: 1.4399000000000002\n",
      "Position: 1.2532\n",
      "Position: 0.9684000000000001\n",
      "Position: 0.5855000000000001\n",
      "Position: 0.10450000000000015\n",
      "Position: -0.4745999999999998\n",
      "The object has hit the ground!\n"
     ]
    }
   ],
   "source": [
    "# Define the initial position and velocity of the object\n",
    "pos = 0\n",
    "vel = 5 \n",
    "\n",
    "# Define the time step (in seconds)\n",
    "dt = 0.1\n",
    "\n",
    "# Simulate the motion of the object\n",
    "while pos >= 0:\n",
    "    # Update the position of the object\n",
    "    pos += vel * dt\n",
    "    print(f\"Position: {pos}\")\n",
    "\n",
    "    # Update the velocity of the object (assuming constant acceleration)\n",
    "    vel += -9.81 * dt\n",
    "\n",
    "# Print a message when the object hits the ground\n",
    "print(\"The object has hit the ground!\")\n",
    "\n",
    "# This simulation models the motion of an object under the influence of gravity.\n",
    "#  It updates the position and velocity of the object at each time step, using a simple kinematic equation.\n",
    "#  The simulation continues until the object hits the ground (i.e., its position becomes negative), at which point it prints a message.\n"
   ]
  }
 ],
 "metadata": {
  "kernelspec": {
   "display_name": "Python 3.9.12 ('base')",
   "language": "python",
   "name": "python3"
  },
  "language_info": {
   "codemirror_mode": {
    "name": "ipython",
    "version": 3
   },
   "file_extension": ".py",
   "mimetype": "text/x-python",
   "name": "python",
   "nbconvert_exporter": "python",
   "pygments_lexer": "ipython3",
   "version": "3.9.12"
  },
  "orig_nbformat": 4,
  "vscode": {
   "interpreter": {
    "hash": "ffbc78dc5ed357358f9061e93273b418d0a5d8c7f8a463c0e2f989d33fa7039d"
   }
  }
 },
 "nbformat": 4,
 "nbformat_minor": 2
}
