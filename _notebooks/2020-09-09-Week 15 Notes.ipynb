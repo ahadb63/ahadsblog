{
 "cells": [
  {
   "cell_type": "markdown",
   "metadata": {},
   "source": [
    "# Notes Week 15\n",
    "\n",
    "\n",
    "- toc: true \n",
    "- badges: true\n",
    "- comments: true\n",
    "- categories: [notes, 3.8, 3.10]\n"
   ]
  },
  {
   "cell_type": "markdown",
   "metadata": {},
   "source": [
    "# 3.8 and 3.10\n",
    "## Lists\n",
    "\n",
    "Lists: a sequence of variables\n",
    "- we can use lists to store multiple items into one variable\n",
    "- used to store collections of data\n",
    "- changeable, ordered, allow duplicates"
   ]
  },
  {
   "cell_type": "code",
   "execution_count": 1,
   "metadata": {},
   "outputs": [
    {
     "name": "stdout",
     "output_type": "stream",
     "text": [
      "grape\n"
     ]
    }
   ],
   "source": [
    "fruits = [\"apple\", \"grape\", \"strawberry\"]\n",
    "index = 1\n",
    "\n",
    "print (fruits[index])\n",
    "\n",
    "# Index starts at 0 and not 1, so grape will be printed and not apple (College Board starts at 1)"
   ]
  },
  {
   "cell_type": "code",
   "execution_count": 2,
   "metadata": {},
   "outputs": [
    {
     "name": "stdout",
     "output_type": "stream",
     "text": [
      "['football', 'soccer', 'baseball', 'golf', 'basketball']\n"
     ]
    }
   ],
   "source": [
    "sports = [\"football\", \"soccer\", \"baseball\", \"golf\", \"basketball\"]\n",
    "\n",
    "# add \"golf\" as the 3rd element in the list\n",
    "print (sports)"
   ]
  },
  {
   "cell_type": "code",
   "execution_count": 3,
   "metadata": {},
   "outputs": [
    {
     "name": "stdout",
     "output_type": "stream",
     "text": [
      "['football', 'hockey', 'baseball', 'basketball']\n"
     ]
    }
   ],
   "source": [
    "sports = [\"football\", \"hockey\", \"baseball\", \"basketball\"]\n",
    "\n",
    "# change the value \"soccer\" to \"hockey\"\n",
    "print (sports)"
   ]
  },
  {
   "cell_type": "markdown",
   "metadata": {},
   "source": [
    "- Output of list practice is\n",
    " - unusual, "
   ]
  },
  {
   "cell_type": "markdown",
   "metadata": {},
   "source": [
    "# Iteration\n",
    "-  Iteration is the repetition of a process or utterance applied to the result or taken from a previous statement.\n",
    "- Types of Iteration include using a \"for loop\", using a \"for loop and range()\", using a \"while loop\", and using comprehension \n",
    " \n"
   ]
  },
  {
   "cell_type": "code",
   "execution_count": 4,
   "metadata": {},
   "outputs": [
    {
     "name": "stdout",
     "output_type": "stream",
     "text": [
      "alpha\n",
      "bravo\n",
      "charlie\n"
     ]
    }
   ],
   "source": [
    "# Using an example of iter()\n",
    "a = ['alpha', 'bravo', 'charlie']\n",
    "\n",
    "itr = iter(a)\n",
    "print(next(itr))\n",
    "print(next(itr))\n",
    "print(next(itr))"
   ]
  },
  {
   "cell_type": "markdown",
   "metadata": {},
   "source": [
    "# Loops \n",
    "- Well, above is basically just printing them again, so how do we takes these iterators into something we can make use for? \n",
    "- Loops take essentially what we did above and automates it, here are some examples."
   ]
  },
  {
   "cell_type": "markdown",
   "metadata": {},
   "source": [
    "# Iteration HW"
   ]
  },
  {
   "cell_type": "code",
   "execution_count": 5,
   "metadata": {},
   "outputs": [],
   "source": [
    "words = [\"alfa\", \"bravo\", \"charlie\", \"delta\", \"echo\", \"foxtrot\", \"golf\", \"hotel\", \"india\", \"juliett\", \"kilo\",\n",
    "\"lima\", \"mike\", \"november\", \"oscar\", \"papa\", \"quebec\", \"romeo\", \"sierra\", \"tango\", \"uniform\", \"victor\", \"whiskey\", \"xray\", \"yankee\", \"zulu\"]\n",
    "\n",
    "inp = input().lower()\n",
    "\n",
    "\n",
    "itr = iter(words)\n",
    "\n",
    "name = [\"delta\", \"alpha\", \"hotel\"]\n",
    "d = \"delta\"\n",
    "a = \"alfa\"\n",
    "h = \"hotel\"\n",
    "\n"
   ]
  },
  {
   "cell_type": "markdown",
   "metadata": {},
   "source": [
    "# 2d List Challenge\n"
   ]
  },
  {
   "cell_type": "code",
   "execution_count": 6,
   "metadata": {},
   "outputs": [],
   "source": [
    "print_matrix3 = [[1, 2, 3], [4, 5, 6], [7, 8, 9], [\" \", 0, \" \"]]\n",
    "\n"
   ]
  },
  {
   "cell_type": "markdown",
   "metadata": {},
   "source": [
    "# 3.8 and 3.10 Hacks\n",
    "> hacks for 3.8 and 3.10"
   ]
  },
  {
   "cell_type": "code",
   "execution_count": 7,
   "metadata": {},
   "outputs": [
    {
     "name": "stdout",
     "output_type": "stream",
     "text": [
      "['football', 'hockey', 'baseball', 'basketball']\n"
     ]
    }
   ],
   "source": [
    "sports = [\"football\", \"hockey\", \"baseball\", \"basketball\"]\n",
    "\n",
    "# change the value \"soccer\" to \"hockey\"\n",
    "print (sports)\n"
   ]
  },
  {
   "cell_type": "code",
   "execution_count": 8,
   "metadata": {},
   "outputs": [
    {
     "name": "stdout",
     "output_type": "stream",
     "text": [
      "['football', 'soccer', 'baseball', 'golf', 'basketball']\n"
     ]
    }
   ],
   "source": [
    "sports = [\"football\", \"soccer\", \"baseball\", \"golf\", \"basketball\"]\n",
    "\n",
    "# add \"golf\" as the 3rd element in the list\n",
    "print (sports)"
   ]
  },
  {
   "cell_type": "code",
   "execution_count": 9,
   "metadata": {},
   "outputs": [],
   "source": [
    "keypad =   [[1, 2, 3],\n",
    "            [4, 5, 6],\n",
    "            [7, 8, 9],\n",
    "            [\" \", 0, \" \"]]\n"
   ]
  },
  {
   "cell_type": "code",
   "execution_count": 10,
   "metadata": {},
   "outputs": [
    {
     "name": "stdout",
     "output_type": "stream",
     "text": [
      "1 2 3\n",
      "4 5 6\n",
      "7 8 9\n",
      "  0  \n"
     ]
    }
   ],
   "source": [
    "def print_matrix3(matrix):\n",
    "    for row in matrix:\n",
    "        print(*row)\n",
    "\n",
    "print_matrix3(keypad)"
   ]
  },
  {
   "cell_type": "code",
   "execution_count": 11,
   "metadata": {},
   "outputs": [],
   "source": [
    "def print_matrix1(matrix): \n",
    "    for i in range(len(matrix)):  \n",
    "        for j in range(len(matrix[i])):  \n",
    "            print(matrix[i][j], end=\" \") "
   ]
  },
  {
   "cell_type": "code",
   "execution_count": 12,
   "metadata": {},
   "outputs": [
    {
     "name": "stdout",
     "output_type": "stream",
     "text": [
      "Raw matrix (list of lists): \n",
      "[[1, 2, 3], [4, 5, 6], [7, 8, 9], [' ', 0, ' ']]\n",
      "Matrix printed using nested for loop iteration:\n",
      "1 2 3 4 5 6 7 8 9   0   \n"
     ]
    }
   ],
   "source": [
    "print(\"Raw matrix (list of lists): \")\n",
    "print(keypad)\n",
    "print(\"Matrix printed using nested for loop iteration:\")\n",
    "print_matrix1(keypad)\n",
    "print()\n"
   ]
  },
  {
   "cell_type": "code",
   "execution_count": 13,
   "metadata": {},
   "outputs": [
    {
     "name": "stdout",
     "output_type": "stream",
     "text": [
      "1 2 3 \n",
      "4 5 6 \n",
      "7 8 9 \n",
      "  0   \n"
     ]
    }
   ],
   "source": [
    "def print_matrix2(matrix):\n",
    "    for row in matrix:  # Iterates through rows. Iterates through every value in matrix and list. \n",
    "        for col in row:  # Iterates value in row. row values stored in col.\n",
    "            print(col, end=\" \") \n",
    "        print() \n",
    "\n",
    "print_matrix2(keypad)"
   ]
  },
  {
   "cell_type": "code",
   "execution_count": 14,
   "metadata": {},
   "outputs": [
    {
     "name": "stdout",
     "output_type": "stream",
     "text": [
      "\n",
      "\n"
     ]
    }
   ],
   "source": [
    "words = [\"alfa\", \"bravo\", \"charlie\", \"delta\", \"echo\", \"foxtrot\", \"golf\", \"hotel\", \"india\", \"juliett\", \"kilo\",\n",
    "\"lima\", \"mike\", \"november\", \"oscar\", \"papa\", \"quebec\", \"romeo\", \"sierra\", \"tango\", \"uniform\", \"victor\", \"whiskey\", \"xray\", \"yankee\", \"zulu\"]\n",
    "\n",
    "output = \"\"\n",
    "\n",
    "for letter in inp:\n",
    "    for word in words:\n",
    "        if letter == word[0]: # fidns rigth words\n",
    "            output += word + \" \" # adds space\n",
    "\n",
    "print(inp + \"\\n\" + output)\n",
    "# input is ahad biabani"
   ]
  },
  {
   "cell_type": "markdown",
   "metadata": {},
   "source": [
    "Print what month you were born and how old you are by iterating through the keyboard (don't just write a string)."
   ]
  },
  {
   "cell_type": "code",
   "execution_count": 15,
   "metadata": {},
   "outputs": [],
   "source": [
    "keyboard = [[\"`\", 1, 2, 3, 4, 5, 6, 7, 8, 9, 0, \"-\", \"=\"],\n",
    "            [\"Q\", \"W\", \"E\", \"R\", \"T\", \"Y\", \"U\", \"I\", \"O\", \"P\", \"[\", \"]\"],\n",
    "            [\"A\", \"S\", \"D\", \"F\", \"G\", \"H\", \"J\", \"K\", \"L\", \";\", \"'\"],\n",
    "            [\"Z\", \"X\", \"C\", \"V\", \"B\", \"N\", \"M\", \",\", \".\", \"/\"]]\n"
   ]
  },
  {
   "cell_type": "code",
   "execution_count": 16,
   "metadata": {},
   "outputs": [
    {
     "name": "stdout",
     "output_type": "stream",
     "text": [
      "September\n",
      "18\n"
     ]
    }
   ],
   "source": [
    "# row column\n",
    "month = keyboard[2][1] + keyboard[1][2] + keyboard[1][9] + keyboard[1][4] + keyboard[1][2] + keyboard[3][6] + keyboard[3][4] + keyboard[1][2] + keyboard[1][3]\n",
    "age = str(keyboard[0][1]) + str(keyboard[0][8])\n",
    "\n",
    "print(month[:1] + month[1:].lower())\n",
    "print(age)"
   ]
  },
  {
   "cell_type": "markdown",
   "metadata": {},
   "source": [
    "## NOTES "
   ]
  },
  {
   "cell_type": "markdown",
   "metadata": {},
   "source": [
    " VARIABLE : A variable is a named location in a computer's memory where a programmer can store and retrieve data. The data stored in a variable can be of various types, such as numbers, strings, or booleans (true or false values).\n",
    "\n",
    "DATA TYPE : Data types refer to the different types of data that a variable can hold. Some common data types include integers, floating-point numbers, strings, and booleans.\n",
    "\n",
    "ASSIGNMENT OPERATORS : Assignment operators are used to assign a value to a variable. For example, the equal sign (=) is an assignment operator that is used to assign a value to a variable on the left side of the equal sign.\n",
    "\n",
    "LISTS : Lists are a data structure that allows a programmer to store and manipulate multiple values in a single, ordered collection.\n",
    "\n",
    "2D LISTS :lists are lists that contain other lists as elements. They can be thought of as a grid, with rows and columns, where each element in the grid is itself a list.\n",
    "\n",
    "DICTIONARIES : Dictionaries are another data structure that allows a programmer to store and manipulate data. Unlike lists, which are ordered collections of data, dictionaries are unordered collections of key-value pairs.\n",
    "\n",
    "CLASS ALGORITHMS : A class is a concept in object-oriented programming that allows a programmer to define a new data type. A class can contain variables and functions (called methods) that operate on those variables.\n",
    "\n",
    "ALGORITHMS Algorithms are a set of steps or instructions that a computer can follow to solve a problem or accomplish a task.\n",
    "\n",
    "SEQUENCE : A sequence is a common control flow pattern in which a set of instructions is executed in order, one after the other.\n",
    "\n",
    "SELECTION : Selection is a control flow pattern in which a program only executes certain instructions depending on whether a certain condition is met.\n",
    "\n",
    "ITERATION : Iteration is a control flow pattern in which a set of instructions is executed repeatedly until a certain condition is met. This is often accomplished using a looping construct, such as a for loop or a while loop."
   ]
  },
  {
   "cell_type": "code",
   "execution_count": 17,
   "metadata": {},
   "outputs": [
    {
     "name": "stdout",
     "output_type": "stream",
     "text": [
      "7\n",
      "variable example\n"
     ]
    }
   ],
   "source": [
    "x = 3\n",
    "y = 4\n",
    "print(x + y)\n",
    "print (\"variable example\")"
   ]
  },
  {
   "cell_type": "code",
   "execution_count": 18,
   "metadata": {},
   "outputs": [
    {
     "name": "stdout",
     "output_type": "stream",
     "text": [
      "data type examples\n"
     ]
    }
   ],
   "source": [
    "# This is a variable with an integer data type\n",
    "my_var = 10\n",
    "\n",
    "# This is a variable with a floating-point data type\n",
    "my_other_var = 10.5\n",
    "\n",
    "# This is a variable with a string data type\n",
    "my_string = \"Hello, world!\"\n",
    " \n",
    "\n",
    "print(\"data type examples\")"
   ]
  },
  {
   "cell_type": "code",
   "execution_count": 19,
   "metadata": {},
   "outputs": [
    {
     "name": "stdout",
     "output_type": "stream",
     "text": [
      "assignment operator example\n"
     ]
    }
   ],
   "source": [
    "# This is a variable that is assigned the value 10\n",
    "my_var = 10\n",
    "\n",
    "# This is a variable that is assigned the value of another variable\n",
    "my_other_var = my_var\n",
    "\n",
    "print(\"assignment operator example\")"
   ]
  },
  {
   "cell_type": "code",
   "execution_count": 20,
   "metadata": {},
   "outputs": [
    {
     "name": "stdout",
     "output_type": "stream",
     "text": [
      "list examples\n"
     ]
    }
   ],
   "source": [
    "# This is a list of strings\n",
    "my_list = [\"apple\", \"banana\", \"orange\"]\n",
    "\n",
    "# This is a list of integers\n",
    "my_other_list = [1, 2, 3, 4, 5]\n",
    "\n",
    "# This is an empty list\n",
    "my_empty_list = []\n",
    "\n",
    "print(\"list examples\")"
   ]
  },
  {
   "attachments": {},
   "cell_type": "markdown",
   "metadata": {},
   "source": [
    "# 3.12 - 3.13 Notes"
   ]
  },
  {
   "attachments": {},
   "cell_type": "markdown",
   "metadata": {},
   "source": [
    "- ## Calling Procedures\n",
    "\n",
    "Slide 1:\n",
    "- A (procedure) is a named group of programming instructions that may have parameters and return values.\n",
    "- Procedures are referred to by different names, such as (method) or (function), depending on the programing language.\n",
    "- Parameters are input values of a procedure. (arguments) specify the values of the parameters when procedure is called.\n",
    "- A procedure call interrupts the sequential execution of statements causing the program to execute the statements within the procedure before continuing. One the last statement in the procedure (or a return statement) has executed, flow or control is returned to the point immediately following where the procedure was (called).\n",
    "\n",
    "Slide 2:\n",
    "- When calling procedures, it's important to take notice to whether it returns data, or a block of (statements).\n",
    "- If the procedure just returns a block of statements, you call the procedure by referring to the procedure name, and (input) the arguments.\n",
    "- If the procedure returns some sort of data like a (boolean) or (value), then you will assign that value to a variable\n",
    "\n",
    "Slide 3:\n",
    "\n",
    "- Assume the Temperature outside is Fahrenheit. \n",
    "- The procedure convertFahrenheit is intended to convert from Fahrenheit to Celsius.\n",
    "- Convert the following psuedocode to python\n",
    "\n"
   ]
  },
  {
   "attachments": {},
   "cell_type": "markdown",
   "metadata": {},
   "source": [
    "- ## Developing Procedures\n",
    "\n",
    "Slide 8:\n",
    "\n",
    "Picking a descriptive name is important in case you revisit the code later on (separate words with capitals) There are 2 different types of procedures- ones that return a value and those that simply execute a block of statements Steps of developing procedure: picking a useful name, thinking of parameters (what data does the procedure need to know), making a flowchart or writing procedure in pseudocode, and actually developing the procedure.\n",
    "\n",
    "Slide 9:\n",
    "\n",
    "In this example, a teacher is writing a program that will replace the grade on a previous quiz if the new grade is better than the previous.\n",
    "\n",
    "\n",
    "\n"
   ]
  },
  {
   "cell_type": "code",
   "execution_count": null,
   "metadata": {},
   "outputs": [],
   "source": [
    "quizGrade = 0\n",
    "currentPoints = 100\n",
    "def replace_quiz_grade(currentPoints):\n",
    "    global quizGrade\n",
    "    currentGrade = currentPoints / 40\n",
    "    currentGrade = currentGrade * 100\n",
    "    if currentGrade > quizGrade:\n",
    "        quizGrade = currentGrade\n",
    "        \n",
    "print(quizGrade)\n",
    "replace_quiz_grade(currentPoints)\n",
    "print(quizGrade)"
   ]
  },
  {
   "attachments": {},
   "cell_type": "markdown",
   "metadata": {},
   "source": [
    "3.12-3.13 Homework and hacks"
   ]
  },
  {
   "cell_type": "code",
   "execution_count": 2,
   "metadata": {},
   "outputs": [
    {
     "name": "stdout",
     "output_type": "stream",
     "text": [
      "Here are your current grades:\n",
      "Math: 90\n",
      "Chemistry: 90\n",
      "Computer Science: 90\n",
      "History: 82\n"
     ]
    }
   ],
   "source": [
    "def grade_tracker():\n",
    "  math_grade = input(\"What is your current grade in Math? \")\n",
    "  chemistry_grade = input(\"What is your current grade in Chemistry? \")\n",
    "  computer_science_grade = input(\"What is your current grade in Computer Science? \")\n",
    "  history_grade = input(\"What is your current grade in History? \")\n",
    "\n",
    "  print(\"Here are your current grades:\")\n",
    "  print(\"Math: \" + math_grade)\n",
    "  print(\"Chemistry: \" + chemistry_grade)\n",
    "  print(\"Computer Science: \" + computer_science_grade)\n",
    "  print(\"History: \" + history_grade)\n",
    "\n",
    "grade_tracker()"
   ]
  },
  {
   "attachments": {},
   "cell_type": "markdown",
   "metadata": {},
   "source": [
    "# 3.14 and 3.15"
   ]
  },
  {
   "attachments": {},
   "cell_type": "markdown",
   "metadata": {},
   "source": [
    "## Hacks\n",
    " - pygame library: used for creating games in python. Pygame offers altered code and third party services to easily run and create games in python\n",
    " - Tensor flow is a python library that is used for computer learning and AI. This library caters towards building and running AI and computer learning in python."
   ]
  },
  {
   "attachments": {},
   "cell_type": "markdown",
   "metadata": {},
   "source": [
    "## Homework"
   ]
  },
  {
   "cell_type": "code",
   "execution_count": 6,
   "metadata": {},
   "outputs": [
    {
     "name": "stdout",
     "output_type": "stream",
     "text": [
      "Even numbers: [86, 18, 64, 76, 92]\n",
      "Odd numbers: [25, 49, 35, 45, 65]\n"
     ]
    }
   ],
   "source": [
    "import random\n",
    "\n",
    "n = 10\n",
    "\n",
    "even_numbers = []\n",
    "odd_numbers = []\n",
    "\n",
    "for i in range(n):\n",
    "    num = random.randint(1, 100)\n",
    "\n",
    "    if num % 2 == 0:\n",
    "        even_numbers.append(num)\n",
    "    else:\n",
    "        odd_numbers.append(num)\n",
    "\n",
    "# Print the lists of even and odd numbers\n",
    "print(\"Even numbers:\", even_numbers)\n",
    "print(\"Odd numbers:\", odd_numbers)\n"
   ]
  },
  {
   "cell_type": "code",
   "execution_count": 13,
   "metadata": {},
   "outputs": [
    {
     "name": "stdout",
     "output_type": "stream",
     "text": [
      "[1.94309469e+04 1.86627722e+04 1.71729445e+04 1.57742420e+04\n",
      " 1.44628691e+04 1.32351110e+04 1.20873336e+04 1.10159834e+04\n",
      " 1.00175879e+04 9.08875536e+03 8.22617458e+03 7.42661527e+03\n",
      " 6.68692788e+03 6.00404362e+03 5.37497442e+03 4.79681302e+03\n",
      " 4.26673287e+03 3.78198822e+03 3.33991404e+03 2.93792609e+03\n",
      " 2.57352086e+03 2.24427563e+03 1.94784840e+03 1.68197796e+03\n",
      " 1.44448384e+03 1.23326634e+03 1.04630650e+03 8.81666144e+02\n",
      " 7.37487828e+02 6.11994882e+02 5.03491387e+02 4.10362186e+02\n",
      " 3.31072878e+02 2.64169819e+02 2.08280124e+02 1.62111667e+02\n",
      " 1.24453077e+02 9.41737454e+01 7.02238171e+01 5.16341972e+01\n",
      " 3.75165485e+01 2.70632913e+01 1.95476044e+01 1.43234240e+01\n",
      " 1.08254447e+01 8.56911877e+00 7.15065649e+00 6.24702608e+00\n",
      " 5.61595374e+00 5.09592357e+00 4.60617762e+00 4.14671591e+00\n",
      " 3.79829636e+00 3.72243488e+00 4.16140527e+00 5.43823933e+00\n",
      " 7.95672675e+00 1.22014152e+01 1.87376103e+01 2.82113755e+01\n",
      " 4.13495324e+01 5.89596604e+01 8.19300968e+01 1.11229937e+02\n",
      " 1.47909034e+02 1.93098000e+02 2.48008202e+02 3.13931770e+02\n",
      " 3.92241586e+02 4.84391295e+02 5.91915298e+02 7.16428753e+02\n",
      " 8.59627576e+02 1.02328844e+03 1.20926879e+03 1.41950680e+03\n",
      " 1.65602142e+03 1.92091237e+03 2.21636011e+03 2.54462585e+03\n",
      " 2.90805159e+03 3.30906005e+03 3.75015473e+03 4.23391990e+03\n",
      " 4.76302055e+03 5.34020246e+03 5.96829216e+03 6.65019694e+03\n",
      " 7.38890483e+03 8.18748465e+03 9.04908594e+03 9.97693903e+03\n",
      " 1.09743550e+04 1.20447257e+04 1.31915236e+04 1.44183022e+04\n",
      " 1.57286956e+04 1.71264186e+04 1.86152668e+04 1.93829518e+04]\n"
     ]
    }
   ],
   "source": [
    "import numpy as np\n",
    "\n",
    "def f(x):\n",
    "  return 2 * x**5 - 6 * x**2 + 24 * x\n",
    "\n",
    "x = np.linspace(-10, 10, 100)\n",
    "\n",
    "dfdx = np.gradient(f(x))\n",
    "\n",
    "print(dfdx)\n"
   ]
  },
  {
   "cell_type": "code",
   "execution_count": 12,
   "metadata": {},
   "outputs": [
    {
     "name": "stdout",
     "output_type": "stream",
     "text": [
      "[]\n"
     ]
    }
   ],
   "source": [
    "import numpy as np\n",
    "\n",
    "def f(x):\n",
    "  return 2 * x**5 - 6 * x**2 + 24 * x\n",
    "\n",
    "x = np.linspace(-10, 10, 100)\n",
    "\n",
    "dfdx = np.gradient(f(9))\n",
    "\n",
    "print(dfdx)\n"
   ]
  },
  {
   "cell_type": "code",
   "execution_count": 10,
   "metadata": {},
   "outputs": [
    {
     "name": "stdout",
     "output_type": "stream",
     "text": [
      "[]\n"
     ]
    }
   ],
   "source": [
    "import numpy as np\n",
    "\n",
    "def f(x):\n",
    "  return (13 * x**4 + 4 * x**2) / 2\n",
    "\n",
    "dfdx = np.gradient(f(9))\n",
    "\n",
    "print(dfdx)\n"
   ]
  },
  {
   "cell_type": "code",
   "execution_count": 15,
   "metadata": {},
   "outputs": [
    {
     "name": "stdout",
     "output_type": "stream",
     "text": [
      "['dog', 'dog', 'cat', 'cat', 'dog', 'cat', 'cat', 'cat', 'cat', 'dog', 'cat', 'dog', 'dog', 'dog', 'dog', 'dog', 'cat', 'cat', 'cat', 'dog']\n"
     ]
    }
   ],
   "source": [
    "import random\n",
    "\n",
    "# Create a list of dogs and cats\n",
    "dogs_and_cats = [\"dog\"] * 10 + [\"cat\"] * 10\n",
    "\n",
    "# Shuffle the list to create a random order\n",
    "random.shuffle(dogs_and_cats)\n",
    "\n",
    "# Print the list to see the random order\n",
    "print(dogs_and_cats)\n"
   ]
  },
  {
   "attachments": {},
   "cell_type": "markdown",
   "metadata": {},
   "source": [
    " # 3.16 HW"
   ]
  },
  {
   "attachments": {},
   "cell_type": "markdown",
   "metadata": {},
   "source": [
    "simulation ideas\n",
    "- planets crashing\n",
    "- cars crashing\n",
    "- objects falling (gravity)"
   ]
  },
  {
   "attachments": {},
   "cell_type": "markdown",
   "metadata": {},
   "source": [
    "this is a simulation including gravity and an object falling"
   ]
  },
  {
   "cell_type": "code",
   "execution_count": 4,
   "metadata": {},
   "outputs": [
    {
     "name": "stdout",
     "output_type": "stream",
     "text": [
      "Position: 0.5\n",
      "Position: 0.9019\n",
      "Position: 1.2057000000000002\n",
      "Position: 1.4114000000000002\n",
      "Position: 1.5190000000000001\n",
      "Position: 1.5285000000000002\n",
      "Position: 1.4399000000000002\n",
      "Position: 1.2532\n",
      "Position: 0.9684000000000001\n",
      "Position: 0.5855000000000001\n",
      "Position: 0.10450000000000015\n",
      "Position: -0.4745999999999998\n",
      "The object has hit the ground!\n"
     ]
    }
   ],
   "source": [
    "# Define the initial position and velocity of the object\n",
    "pos = 0\n",
    "vel = 5 \n",
    "\n",
    "# Define the time step (in seconds)\n",
    "dt = 0.1\n",
    "\n",
    "# Simulate the motion of the object\n",
    "while pos >= 0:\n",
    "    # Update the position of the object\n",
    "    pos += vel * dt\n",
    "    print(f\"Position: {pos}\")\n",
    "\n",
    "    # Update the velocity of the object (assuming constant acceleration)\n",
    "    vel += -9.81 * dt\n",
    "\n",
    "# Print a message when the object hits the ground\n",
    "print(\"The object has hit the ground!\")\n",
    "\n",
    "# This simulation models the motion of an object under the influence of gravity.\n",
    "#  It updates the position and velocity of the object at each time step, using a simple kinematic equation.\n",
    "#  The simulation continues until the object hits the ground (i.e., its position becomes negative), at which point it prints a message.\n"
   ]
  },
  {
   "attachments": {},
   "cell_type": "markdown",
   "metadata": {},
   "source": [
    "Simulation example\n",
    "- Desmos graphing calculator\n",
    "- simulates and graphs equations"
   ]
  },
  {
   "attachments": {},
   "cell_type": "markdown",
   "metadata": {},
   "source": [
    "![](../images/simulation.png)\n"
   ]
  },
  {
   "attachments": {},
   "cell_type": "markdown",
   "metadata": {},
   "source": [
    "# 3.17 - 3.18 Notes"
   ]
  },
  {
   "attachments": {},
   "cell_type": "markdown",
   "metadata": {},
   "source": [
    "What is Algorithmic Efficiency?\n",
    " - The ability of an algorithm to solve a problem in an efficient way\n",
    " - An efficient algorithm solves a problem quickly and with a minimum amount of resources, such as time and memory.\n",
    " \n",
    "How do we determine if an algorithm is efficient or not?\n",
    " - One way we can do this is by determining the time complexity of the algorithm\n",
    " - Another way is through space complexity\n",
    "\n",
    "\n"
   ]
  },
  {
   "attachments": {},
   "cell_type": "markdown",
   "metadata": {},
   "source": [
    "# Undecidable code"
   ]
  },
  {
   "cell_type": "code",
   "execution_count": 1,
   "metadata": {},
   "outputs": [
    {
     "name": "stdout",
     "output_type": "stream",
     "text": [
      "UNDECIDABLE\n"
     ]
    }
   ],
   "source": [
    "# Define a function that checks whether a given statement is true or false\n",
    "def check_truth(statement):\n",
    "  if statement == \"This statement is false\":\n",
    "    # If the statement is \"This statement is false,\" it creates a paradox\n",
    "    return \"UNDECIDABLE\"\n",
    "  else:\n",
    "    # For all other statements, return their truth value\n",
    "    return statement\n",
    "\n",
    "# Check the truth value of the statement \"This statement is false\"\n",
    "result = check_truth(\"This statement is false\")\n",
    "\n",
    "# Print the result\n",
    "print(result)\n"
   ]
  }
 ],
 "metadata": {
  "kernelspec": {
   "display_name": "Python 3.9.12 ('base')",
   "language": "python",
   "name": "python3"
  },
  "language_info": {
   "codemirror_mode": {
    "name": "ipython",
    "version": 3
   },
   "file_extension": ".py",
   "mimetype": "text/x-python",
   "name": "python",
   "nbconvert_exporter": "python",
   "pygments_lexer": "ipython3",
   "version": "3.9.12 (main, Apr  5 2022, 06:56:58) \n[GCC 7.5.0]"
  },
  "orig_nbformat": 4,
  "vscode": {
   "interpreter": {
    "hash": "ffbc78dc5ed357358f9061e93273b418d0a5d8c7f8a463c0e2f989d33fa7039d"
   }
  }
 },
 "nbformat": 4,
 "nbformat_minor": 2
}
