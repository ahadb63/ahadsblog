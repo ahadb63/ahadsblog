{
 "cells": [
  {
   "cell_type": "markdown",
   "metadata": {},
   "source": [
    "# Notes Week 15\n",
    "\n",
    "\n",
    "- toc: true \n",
    "- badges: true\n",
    "- comments: true\n",
    "- categories: [notes, 3.8, 3.10]\n"
   ]
  },
  {
   "cell_type": "markdown",
   "metadata": {},
   "source": [
    "# 3.8 and 3.10\n",
    "## Lists\n",
    "\n",
    "Lists: a sequence of variables\n",
    "- we can use lists to store multiple items into one variable\n",
    "- used to store collections of data\n",
    "- changeable, ordered, allow duplicates"
   ]
  },
  {
   "cell_type": "code",
   "execution_count": 1,
   "metadata": {},
   "outputs": [
    {
     "name": "stdout",
     "output_type": "stream",
     "text": [
      "grape\n"
     ]
    }
   ],
   "source": [
    "fruits = [\"apple\", \"grape\", \"strawberry\"]\n",
    "index = 1\n",
    "\n",
    "print (fruits[index])\n",
    "\n",
    "# Index starts at 0 and not 1, so grape will be printed and not apple (College Board starts at 1)"
   ]
  },
  {
   "cell_type": "code",
   "execution_count": 2,
   "metadata": {},
   "outputs": [
    {
     "name": "stdout",
     "output_type": "stream",
     "text": [
      "['football', 'soccer', 'baseball', 'golf', 'basketball']\n"
     ]
    }
   ],
   "source": [
    "sports = [\"football\", \"soccer\", \"baseball\", \"golf\", \"basketball\"]\n",
    "\n",
    "# add \"golf\" as the 3rd element in the list\n",
    "print (sports)"
   ]
  },
  {
   "cell_type": "code",
   "execution_count": 3,
   "metadata": {},
   "outputs": [
    {
     "name": "stdout",
     "output_type": "stream",
     "text": [
      "['football', 'hockey', 'baseball', 'basketball']\n"
     ]
    }
   ],
   "source": [
    "sports = [\"football\", \"hockey\", \"baseball\", \"basketball\"]\n",
    "\n",
    "# change the value \"soccer\" to \"hockey\"\n",
    "print (sports)"
   ]
  },
  {
   "cell_type": "markdown",
   "metadata": {},
   "source": [
    "- Output of list practice is\n",
    " - unusual, "
   ]
  },
  {
   "cell_type": "markdown",
   "metadata": {},
   "source": [
    "# Iteration\n",
    "-  Iteration is the repetition of a process or utterance applied to the result or taken from a previous statement.\n",
    "- Types of Iteration include using a \"for loop\", using a \"for loop and range()\", using a \"while loop\", and using comprehension \n",
    " \n"
   ]
  },
  {
   "cell_type": "code",
   "execution_count": 4,
   "metadata": {},
   "outputs": [
    {
     "name": "stdout",
     "output_type": "stream",
     "text": [
      "alpha\n",
      "bravo\n",
      "charlie\n"
     ]
    }
   ],
   "source": [
    "# Using an example of iter()\n",
    "a = ['alpha', 'bravo', 'charlie']\n",
    "\n",
    "itr = iter(a)\n",
    "print(next(itr))\n",
    "print(next(itr))\n",
    "print(next(itr))"
   ]
  },
  {
   "cell_type": "markdown",
   "metadata": {},
   "source": [
    "# Loops \n",
    "- Well, above is basically just printing them again, so how do we takes these iterators into something we can make use for? \n",
    "- Loops take essentially what we did above and automates it, here are some examples."
   ]
  },
  {
   "cell_type": "markdown",
   "metadata": {},
   "source": [
    "# Iteration HW"
   ]
  },
  {
   "cell_type": "code",
   "execution_count": 5,
   "metadata": {},
   "outputs": [],
   "source": [
    "words = [\"alfa\", \"bravo\", \"charlie\", \"delta\", \"echo\", \"foxtrot\", \"golf\", \"hotel\", \"india\", \"juliett\", \"kilo\",\n",
    "\"lima\", \"mike\", \"november\", \"oscar\", \"papa\", \"quebec\", \"romeo\", \"sierra\", \"tango\", \"uniform\", \"victor\", \"whiskey\", \"xray\", \"yankee\", \"zulu\"]\n",
    "\n",
    "inp = input().lower()\n",
    "\n",
    "\n",
    "itr = iter(words)\n",
    "\n",
    "name = [\"delta\", \"alpha\", \"hotel\"]\n",
    "d = \"delta\"\n",
    "a = \"alfa\"\n",
    "h = \"hotel\"\n",
    "\n"
   ]
  },
  {
   "cell_type": "markdown",
   "metadata": {},
   "source": [
    "# 2d List Challenge\n"
   ]
  },
  {
   "cell_type": "code",
   "execution_count": 6,
   "metadata": {},
   "outputs": [],
   "source": [
    "print_matrix3 = [[1, 2, 3], [4, 5, 6], [7, 8, 9], [\" \", 0, \" \"]]\n",
    "\n"
   ]
  },
  {
   "cell_type": "markdown",
   "metadata": {},
   "source": [
    "# 3.8 and 3.10 Hacks"
   ]
  },
  {
   "cell_type": "code",
   "execution_count": 7,
   "metadata": {},
   "outputs": [
    {
     "name": "stdout",
     "output_type": "stream",
     "text": [
      "['football', 'hockey', 'baseball', 'basketball']\n"
     ]
    }
   ],
   "source": [
    "sports = [\"football\", \"hockey\", \"baseball\", \"basketball\"]\n",
    "\n",
    "# change the value \"soccer\" to \"hockey\"\n",
    "print (sports)\n"
   ]
  },
  {
   "cell_type": "code",
   "execution_count": 8,
   "metadata": {},
   "outputs": [
    {
     "name": "stdout",
     "output_type": "stream",
     "text": [
      "['football', 'soccer', 'baseball', 'golf', 'basketball']\n"
     ]
    }
   ],
   "source": [
    "sports = [\"football\", \"soccer\", \"baseball\", \"golf\", \"basketball\"]\n",
    "\n",
    "# add \"golf\" as the 3rd element in the list\n",
    "print (sports)"
   ]
  },
  {
   "cell_type": "code",
   "execution_count": 9,
   "metadata": {},
   "outputs": [],
   "source": [
    "keypad =   [[1, 2, 3],\n",
    "            [4, 5, 6],\n",
    "            [7, 8, 9],\n",
    "            [\" \", 0, \" \"]]\n"
   ]
  },
  {
   "cell_type": "code",
   "execution_count": 23,
   "metadata": {},
   "outputs": [
    {
     "name": "stdout",
     "output_type": "stream",
     "text": [
      "1 2 3\n",
      "4 5 6\n",
      "7 8 9\n",
      "  0  \n"
     ]
    }
   ],
   "source": [
    "def print_matrix3(matrix):\n",
    "    for row in matrix:\n",
    "        print(*row)\n",
    "\n",
    "print_matrix3(keypad)"
   ]
  },
  {
   "cell_type": "code",
   "execution_count": 27,
   "metadata": {},
   "outputs": [],
   "source": [
    "def print_matrix1(matrix): \n",
    "    for i in range(len(matrix)):  \n",
    "        for j in range(len(matrix[i])):  \n",
    "            print(matrix[i][j], end=\" \") "
   ]
  },
  {
   "cell_type": "code",
   "execution_count": 28,
   "metadata": {},
   "outputs": [
    {
     "name": "stdout",
     "output_type": "stream",
     "text": [
      "Raw matrix (list of lists): \n",
      "[[1, 2, 3], [4, 5, 6], [7, 8, 9], [' ', 0, ' ']]\n",
      "Matrix printed using nested for loop iteration:\n",
      "1 2 3 4 5 6 7 8 9   0   \n"
     ]
    }
   ],
   "source": [
    "print(\"Raw matrix (list of lists): \")\n",
    "print(keypad)\n",
    "print(\"Matrix printed using nested for loop iteration:\")\n",
    "print_matrix1(keypad)\n",
    "print()\n"
   ]
  },
  {
   "cell_type": "code",
   "execution_count": 29,
   "metadata": {},
   "outputs": [
    {
     "name": "stdout",
     "output_type": "stream",
     "text": [
      "1 2 3 \n",
      "4 5 6 \n",
      "7 8 9 \n",
      "  0   \n"
     ]
    }
   ],
   "source": [
    "def print_matrix2(matrix):\n",
    "    for row in matrix:  # Iterates through rows. Iterates through every value in matrix and list. \n",
    "        for col in row:  # Iterates value in row. row values stored in col.\n",
    "            print(col, end=\" \") \n",
    "        print() \n",
    "\n",
    "print_matrix2(keypad)"
   ]
  },
  {
   "cell_type": "code",
   "execution_count": 30,
   "metadata": {},
   "outputs": [
    {
     "name": "stdout",
     "output_type": "stream",
     "text": [
      "ahad biabani\n",
      "alfa hotel alfa delta bravo india alfa bravo alfa november india \n"
     ]
    }
   ],
   "source": [
    "words = [\"alfa\", \"bravo\", \"charlie\", \"delta\", \"echo\", \"foxtrot\", \"golf\", \"hotel\", \"india\", \"juliett\", \"kilo\",\n",
    "\"lima\", \"mike\", \"november\", \"oscar\", \"papa\", \"quebec\", \"romeo\", \"sierra\", \"tango\", \"uniform\", \"victor\", \"whiskey\", \"xray\", \"yankee\", \"zulu\"]\n",
    "\n",
    "output = \"\"\n",
    "\n",
    "for letter in inp:\n",
    "    for word in words:\n",
    "        if letter == word[0]: # fidns rigth words\n",
    "            output += word + \" \" # adds space\n",
    "\n",
    "print(inp + \"\\n\" + output)\n",
    "# input is ahad biabani"
   ]
  },
  {
   "cell_type": "markdown",
   "metadata": {},
   "source": [
    "Print what month you were born and how old you are by iterating through the keyboard (don't just write a string)."
   ]
  },
  {
   "cell_type": "code",
   "execution_count": 31,
   "metadata": {},
   "outputs": [],
   "source": [
    "keyboard = [[\"`\", 1, 2, 3, 4, 5, 6, 7, 8, 9, 0, \"-\", \"=\"],\n",
    "            [\"Q\", \"W\", \"E\", \"R\", \"T\", \"Y\", \"U\", \"I\", \"O\", \"P\", \"[\", \"]\"],\n",
    "            [\"A\", \"S\", \"D\", \"F\", \"G\", \"H\", \"J\", \"K\", \"L\", \";\", \"'\"],\n",
    "            [\"Z\", \"X\", \"C\", \"V\", \"B\", \"N\", \"M\", \",\", \".\", \"/\"]]\n"
   ]
  },
  {
   "cell_type": "code",
   "execution_count": 32,
   "metadata": {},
   "outputs": [
    {
     "name": "stdout",
     "output_type": "stream",
     "text": [
      "September\n",
      "18\n"
     ]
    }
   ],
   "source": [
    "# row column\n",
    "month = keyboard[2][1] + keyboard[1][2] + keyboard[1][9] + keyboard[1][4] + keyboard[1][2] + keyboard[3][6] + keyboard[3][4] + keyboard[1][2] + keyboard[1][3]\n",
    "age = str(keyboard[0][1]) + str(keyboard[0][8])\n",
    "\n",
    "print(month[:1] + month[1:].lower())\n",
    "print(age)"
   ]
  }
 ],
 "metadata": {
  "kernelspec": {
   "display_name": "Python 3.9.12 ('base')",
   "language": "python",
   "name": "python3"
  },
  "language_info": {
   "codemirror_mode": {
    "name": "ipython",
    "version": 3
   },
   "file_extension": ".py",
   "mimetype": "text/x-python",
   "name": "python",
   "nbconvert_exporter": "python",
   "pygments_lexer": "ipython3",
   "version": "3.9.12"
  },
  "orig_nbformat": 4,
  "vscode": {
   "interpreter": {
    "hash": "ffbc78dc5ed357358f9061e93273b418d0a5d8c7f8a463c0e2f989d33fa7039d"
   }
  }
 },
 "nbformat": 4,
 "nbformat_minor": 2
}
