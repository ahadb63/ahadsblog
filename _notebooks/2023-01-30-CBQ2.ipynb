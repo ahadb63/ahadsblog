{
 "cells": [
  {
   "attachments": {},
   "cell_type": "markdown",
   "metadata": {},
   "source": [
    "# College Board Quiz Results and Corrections\n",
    "\n",
    "- toc: true \n",
    "- badges: true\n",
    "- comments: true\n",
    "- categories: [CBQ]"
   ]
  },
  {
   "attachments": {},
   "cell_type": "markdown",
   "metadata": {},
   "source": [
    "## My Score\n",
    " I got a 36/50\n",
    "\n",
    "\n",
    "![CBQ](/vscode/ahadsblog/images/MCQ2.png)"
   ]
  },
  {
   "attachments": {},
   "cell_type": "markdown",
   "metadata": {},
   "source": [
    "## Corrections\n",
    "\n",
    "- Q14\n",
    "    - I answered C) Input A can be either true or false\n",
    "    - The correct answer is A) Input A must be true.\n",
    "\n",
    "- Q15\n",
    "    - I answered C)\n",
    "    - The correct answer is D)\n",
    "    \n",
    "- Q17**\n",
    "    - I answered A) and D)\n",
    "    - These are shown as the right answers but for some reason I didnt get the point on this question \n",
    "\n",
    "- Q19\n",
    "    - I answerd B) Hotel\n",
    "    - The right answer is C) November\n",
    "\n",
    "- Q23\n",
    "    - I answered D) 1 2 3 4 5\n",
    "    - The right answer is A) 5\n",
    "\n",
    "- Q25\n",
    "    - I answered B) j>=6\n",
    "    - The right answer is A j=6\n",
    "\n",
    "- Q26\n",
    "    - I answered C)\n",
    "    - The correct Answer is A)\n",
    "\n",
    "- Q29\n",
    "    - I answered D)\n",
    "    - The right answer is A)\n",
    "\n",
    "- Q30\n",
    "    - I answered  A)\n",
    "    x ←\n",
    "    4\n",
    "    y ←\n",
    "    1\n",
    "    r ←\n",
    "    0\n",
    "    REPEAT 3 TIMES\n",
    "    {\n",
    "    drawCircle(x, y, r)\n",
    "    r ←\n",
    "    r + 1\n",
    "    y ←\n",
    "    y + 1\n",
    "    }    \n",
    "    - The Correct answer is B)\n",
    "\n",
    "- Q32\n",
    "    -  I answered A)\n",
    "    - The correct answer is C)\n",
    "\n",
    "- Q34\n",
    "    - I answered c) 250\n",
    "    - The right answer is A) 10\n",
    "\n",
    "- Q37\n",
    "    - I answered C)\n",
    "    - The correct answer is B)\n",
    "\n",
    "- Q50\n",
    "    -  I answered A) A\n",
    "    - The correct answer is C) V"
   ]
  },
  {
   "attachments": {},
   "cell_type": "markdown",
   "metadata": {},
   "source": [
    "# Reflections\n",
    "Overall, my score wasnt the best and I have lots of room to improve. Maybe working with others and collaborating on the quiz could help raise my score. I could also study and focus more on the flowchart problems, seeing I got most of them wrong."
   ]
  }
 ],
 "metadata": {
  "kernelspec": {
   "display_name": "base",
   "language": "python",
   "name": "python3"
  },
  "language_info": {
   "name": "python",
   "version": "3.9.12 (main, Apr  5 2022, 06:56:58) \n[GCC 7.5.0]"
  },
  "orig_nbformat": 4,
  "vscode": {
   "interpreter": {
    "hash": "ffbc78dc5ed357358f9061e93273b418d0a5d8c7f8a463c0e2f989d33fa7039d"
   }
  }
 },
 "nbformat": 4,
 "nbformat_minor": 2
}
